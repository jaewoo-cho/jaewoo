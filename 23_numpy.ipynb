{
  "nbformat": 4,
  "nbformat_minor": 0,
  "metadata": {
    "colab": {
      "provenance": [],
      "authorship_tag": "ABX9TyOBGBpbp0dtDQ4rZwUzSmR7",
      "include_colab_link": true
    },
    "kernelspec": {
      "name": "python3",
      "display_name": "Python 3"
    },
    "language_info": {
      "name": "python"
    }
  },
  "cells": [
    {
      "cell_type": "markdown",
      "metadata": {
        "id": "view-in-github",
        "colab_type": "text"
      },
      "source": [
        "<a href=\"https://colab.research.google.com/github/jaewoo-cho/jaewoo/blob/master/23_numpy.ipynb\" target=\"_parent\"><img src=\"https://colab.research.google.com/assets/colab-badge.svg\" alt=\"Open In Colab\"/></a>"
      ]
    },
    {
      "cell_type": "markdown",
      "source": [
        "# NumPy\n",
        "**Num**erical **Py**thon\n",
        "\n",
        "<img src=\"https://numpy.org/images/logo.svg\" width=\"100\" height=\"100\"/>\n",
        "\n",
        "[공식] (https://numpy.org/)\n",
        "\n"
      ],
      "metadata": {
        "id": "rEZDSI1gyrH6"
      }
    },
    {
      "cell_type": "code",
      "source": [
        "# numpy : 수치적 연산을 위해 최적화된 모듈\n",
        "#  파이썬을 활용한 데이터 분석에서  가장 기본!\n",
        "#  이 자체로도 많이 쓰이거니와, 앞으로 배울 pandas, 머신러닝 등 수많은 분야에서 기본적으로 사용하는 모듈\n",
        "#  파이썬 개발자라면 꼭 익힐 필요 있다\n",
        "\n",
        "# 수학수치 연산  (numerical python) / 합, 평균, 행렬연산 등..\n",
        "# 추가적으로 scipy, statsmodel  같은 것들도 numpy 기반으로 구현됨.\n",
        "# 상황에 따라, pandas 안써도 numpy 만으로도 가능.\n",
        "\n",
        "# 기본 타입 : ndarray  (n-dimensional array) 다차원 배열 표현\n",
        "\n",
        "# 파이썬에 list 가 있는데 굳이? 왜?  -\n",
        "\n",
        "# numpy 를 사용하는 이유\n",
        "# 1. 성능 : 성능적으로 훨~씬 빠름.\n",
        "# 2. 메모리 : 훨씩 적은 메모리사용\n",
        "# 3. 제공함수풍부 : 선형대수, 통계관련 여러 수치함수 제공\n",
        "# 4. 수많은 모듈에서 numpy 함수명 과 기능을 그대로 사용."
      ],
      "metadata": {
        "id": "PQFdOYlCylEi"
      },
      "execution_count": null,
      "outputs": []
    },
    {
      "cell_type": "code",
      "source": [
        "import numpy as np"
      ],
      "metadata": {
        "id": "HfoFBWXuylBV"
      },
      "execution_count": null,
      "outputs": []
    },
    {
      "cell_type": "markdown",
      "source": [
        "![aaa](https://statkclee.github.io/deep-learning/fig/tensor.jpg)\n",
        "\n",
        "**Scalar** : 0차원 array (단일값)\n",
        "\n",
        "**Vector** : 1차원 array\n",
        "\n",
        "**Matrix** : 2차원 array\n",
        "\n",
        "**Tensor** : 3차원(이상) array\n"
      ],
      "metadata": {
        "id": "MnqVdDHqzeyW"
      }
    },
    {
      "cell_type": "markdown",
      "source": [
        "# 1차원 array (벡터) 생성"
      ],
      "metadata": {
        "id": "y89kOERqz69D"
      }
    },
    {
      "cell_type": "code",
      "source": [
        "# np,array(iterable)\n",
        "\n",
        "x = np.array([1,2,3])\n",
        "y = np.array([2,4,15])"
      ],
      "metadata": {
        "id": "Tuj7W_wlyk-O"
      },
      "execution_count": null,
      "outputs": []
    },
    {
      "cell_type": "code",
      "source": [
        "print(y)"
      ],
      "metadata": {
        "colab": {
          "base_uri": "https://localhost:8080/"
        },
        "id": "UKh-cEt7yk6q",
        "outputId": "85d9b59c-f1e7-449c-a991-0ab9aabd8d55"
      },
      "execution_count": null,
      "outputs": [
        {
          "output_type": "stream",
          "name": "stdout",
          "text": [
            "[ 2  4 15]\n"
          ]
        }
      ]
    },
    {
      "cell_type": "code",
      "source": [
        "y"
      ],
      "metadata": {
        "colab": {
          "base_uri": "https://localhost:8080/"
        },
        "id": "8QPq8Pfdyk3o",
        "outputId": "ebfc7e69-ebf3-4c2a-df54-fd4587c63f61"
      },
      "execution_count": null,
      "outputs": [
        {
          "output_type": "execute_result",
          "data": {
            "text/plain": [
              "array([ 2,  4, 15])"
            ]
          },
          "metadata": {},
          "execution_count": 5
        }
      ]
    },
    {
      "cell_type": "code",
      "source": [
        "# scalar (0차원)\n",
        "np.array(10)"
      ],
      "metadata": {
        "colab": {
          "base_uri": "https://localhost:8080/"
        },
        "id": "-Yqka66ryk0a",
        "outputId": "3fe47d3c-ec9a-4ec0-f555-47c72e7153ac"
      },
      "execution_count": null,
      "outputs": [
        {
          "output_type": "execute_result",
          "data": {
            "text/plain": [
              "array(10)"
            ]
          },
          "metadata": {},
          "execution_count": 6
        }
      ]
    },
    {
      "cell_type": "code",
      "source": [
        "type(x)"
      ],
      "metadata": {
        "colab": {
          "base_uri": "https://localhost:8080/"
        },
        "id": "g_GbO7veykxZ",
        "outputId": "f794ebde-44d6-45fc-d968-c71c16e01f5b"
      },
      "execution_count": null,
      "outputs": [
        {
          "output_type": "execute_result",
          "data": {
            "text/plain": [
              "numpy.ndarray"
            ]
          },
          "metadata": {},
          "execution_count": 7
        }
      ]
    },
    {
      "cell_type": "code",
      "source": [
        "[1, 2, 3.14, '김', True] # 리스트는 원소타입이 제각각 가능"
      ],
      "metadata": {
        "colab": {
          "base_uri": "https://localhost:8080/"
        },
        "id": "URlK6an1ykua",
        "outputId": "89a025e2-9ba6-4db7-f118-9b9cf76eadcd"
      },
      "execution_count": null,
      "outputs": [
        {
          "output_type": "execute_result",
          "data": {
            "text/plain": [
              "[1, 2, 3.14, '김', True]"
            ]
          },
          "metadata": {},
          "execution_count": 8
        }
      ]
    },
    {
      "cell_type": "code",
      "source": [
        "# 그러나!  array 는 모든 원소는 '한가지 타입' 이어야 함!"
      ],
      "metadata": {
        "id": "FhS0D6Fkykrb"
      },
      "execution_count": null,
      "outputs": []
    },
    {
      "cell_type": "markdown",
      "source": [
        "# shape, size, ndim, dtype, len()"
      ],
      "metadata": {
        "id": "4FeVNA5B1ELM"
      }
    },
    {
      "cell_type": "code",
      "source": [
        "arr = np.array([1,2,3,4,5])\n",
        "arr"
      ],
      "metadata": {
        "colab": {
          "base_uri": "https://localhost:8080/"
        },
        "id": "HPWJ_arLykoe",
        "outputId": "64cbe421-4bce-4634-a81f-ddaa3ffbebcc"
      },
      "execution_count": null,
      "outputs": [
        {
          "output_type": "execute_result",
          "data": {
            "text/plain": [
              "array([1, 2, 3, 4, 5])"
            ]
          },
          "metadata": {},
          "execution_count": 10
        }
      ]
    },
    {
      "cell_type": "markdown",
      "source": [
        "## shape\n",
        "numpy에서는 해당 array의 크기를 알 수 있다.<br>\n",
        "shape 을 확인함으로써 몇개의 데이터가 있는지, 몇 차원으로 존재하는지 등을 확인할 수 있다.<br>\n",
        "위에서 arr1.shape의 결과는 (5,) 으로써, 1차원의 데이터이며 총 5라는 크기를 갖고 있음을 알 수 있다.\n",
        "arr4.shape의 결과는 (4,3) 으로써, 2차원의 데이터이며 4 * 3 크기를 갖고 있는 array 이다.\n",
        "\n"
      ],
      "metadata": {
        "id": "srSVtKUE1V2D"
      }
    },
    {
      "cell_type": "code",
      "source": [
        "arr.shape"
      ],
      "metadata": {
        "colab": {
          "base_uri": "https://localhost:8080/"
        },
        "id": "Afjq8YmnyklG",
        "outputId": "042b484f-17f1-4a77-ab2c-d0cd7ea4d3ff"
      },
      "execution_count": null,
      "outputs": [
        {
          "output_type": "execute_result",
          "data": {
            "text/plain": [
              "(5,)"
            ]
          },
          "metadata": {},
          "execution_count": 11
        }
      ]
    },
    {
      "cell_type": "code",
      "source": [
        "## ndim 차원수"
      ],
      "metadata": {
        "id": "qpu0Z2jNykfj"
      },
      "execution_count": null,
      "outputs": []
    },
    {
      "cell_type": "code",
      "source": [
        "arr.ndim\n",
        "\n",
        "# .ndim 과 len(arr.shape) 는 같다"
      ],
      "metadata": {
        "colab": {
          "base_uri": "https://localhost:8080/"
        },
        "id": "8P-FOC_9ykci",
        "outputId": "bdc33fdc-8e88-4df8-a4e6-da5aebb91064"
      },
      "execution_count": null,
      "outputs": [
        {
          "output_type": "execute_result",
          "data": {
            "text/plain": [
              "1"
            ]
          },
          "metadata": {},
          "execution_count": 13
        }
      ]
    },
    {
      "cell_type": "markdown",
      "source": [
        "## size: 데이터의 개수"
      ],
      "metadata": {
        "id": "DtgNPNWM2Ev8"
      }
    },
    {
      "cell_type": "code",
      "source": [
        "arr.size"
      ],
      "metadata": {
        "colab": {
          "base_uri": "https://localhost:8080/"
        },
        "id": "34QO0B7WykZw",
        "outputId": "8f809898-83c0-48fb-910f-a203cfca103d"
      },
      "execution_count": null,
      "outputs": [
        {
          "output_type": "execute_result",
          "data": {
            "text/plain": [
              "5"
            ]
          },
          "metadata": {},
          "execution_count": 14
        }
      ]
    },
    {
      "cell_type": "markdown",
      "source": [
        "# len(array)\n",
        "array 는 literable 하다"
      ],
      "metadata": {
        "id": "Cpfbp8zn2TbW"
      }
    },
    {
      "cell_type": "code",
      "source": [
        "len(arr)"
      ],
      "metadata": {
        "colab": {
          "base_uri": "https://localhost:8080/"
        },
        "id": "uiyGl6aJykW5",
        "outputId": "64534315-934c-4214-eff9-b2295a25b718"
      },
      "execution_count": null,
      "outputs": [
        {
          "output_type": "execute_result",
          "data": {
            "text/plain": [
              "5"
            ]
          },
          "metadata": {},
          "execution_count": 15
        }
      ]
    },
    {
      "cell_type": "markdown",
      "source": [
        "# dtype: data type"
      ],
      "metadata": {
        "id": "Ja4Jm_742fPT"
      }
    },
    {
      "cell_type": "code",
      "source": [
        "arr.dtype"
      ],
      "metadata": {
        "colab": {
          "base_uri": "https://localhost:8080/"
        },
        "id": "cskCK4UR2Zk-",
        "outputId": "d4058d14-a43a-4d73-9fa4-bec64176bfa6"
      },
      "execution_count": null,
      "outputs": [
        {
          "output_type": "execute_result",
          "data": {
            "text/plain": [
              "dtype('int64')"
            ]
          },
          "metadata": {},
          "execution_count": 16
        }
      ]
    },
    {
      "cell_type": "code",
      "source": [
        "arr2 = np.array([10, 3.14, 2, 0.12])\n",
        "arr2"
      ],
      "metadata": {
        "colab": {
          "base_uri": "https://localhost:8080/"
        },
        "id": "eZaPhs4G2ZhN",
        "outputId": "eb22186b-66a5-4a61-c47d-71e357bdf9f0"
      },
      "execution_count": null,
      "outputs": [
        {
          "output_type": "execute_result",
          "data": {
            "text/plain": [
              "array([10.  ,  3.14,  2.  ,  0.12])"
            ]
          },
          "metadata": {},
          "execution_count": 17
        }
      ]
    },
    {
      "cell_type": "code",
      "source": [
        "arr2.dtype"
      ],
      "metadata": {
        "colab": {
          "base_uri": "https://localhost:8080/"
        },
        "id": "-PQizudK2Zdf",
        "outputId": "3627b93b-64a2-4fcf-e0d4-8a31e3ad6ee0"
      },
      "execution_count": null,
      "outputs": [
        {
          "output_type": "execute_result",
          "data": {
            "text/plain": [
              "dtype('float64')"
            ]
          },
          "metadata": {},
          "execution_count": 18
        }
      ]
    },
    {
      "cell_type": "code",
      "source": [
        "# numpy에서 사용되는 자료형은 아래와 같다. (자료형 뒤에 붙는 숫자는 몇 비트 크기인지를 의미한다.)\n",
        "\n",
        "# 부호가 있는 정수 int(8, 16, 32, 64)\n",
        "# 부호가 없는 정수 uint(8 ,16, 32, 64)\n",
        "# 실수 float(16, 32, 64, 128)\n",
        "# 복소수 complex(64, 128, 256)\n",
        "# 불리언 bool\n",
        "# 문자열 string_\n",
        "# 파이썬 오프젝트 object\n",
        "# 유니코드 unicode_"
      ],
      "metadata": {
        "id": "ouCCYqmQ2ZZc"
      },
      "execution_count": null,
      "outputs": []
    },
    {
      "cell_type": "markdown",
      "source": [
        "# 2차원 array 생성"
      ],
      "metadata": {
        "id": "xNHLySi33tZV"
      }
    },
    {
      "cell_type": "code",
      "source": [
        "x = np.array([1,2,3,4])\n",
        "y = np.array([[2,3,4],[1,2,4]])"
      ],
      "metadata": {
        "id": "srqW21PI2ZVh"
      },
      "execution_count": null,
      "outputs": []
    },
    {
      "cell_type": "code",
      "source": [
        "y"
      ],
      "metadata": {
        "colab": {
          "base_uri": "https://localhost:8080/"
        },
        "id": "5N3SbfSM2ZSD",
        "outputId": "94d53afc-5afd-4d7e-dd92-14a293a519ea"
      },
      "execution_count": null,
      "outputs": [
        {
          "output_type": "execute_result",
          "data": {
            "text/plain": [
              "array([[2, 3, 4],\n",
              "       [1, 2, 4]])"
            ]
          },
          "metadata": {},
          "execution_count": 21
        }
      ]
    },
    {
      "cell_type": "code",
      "source": [
        "x.shape"
      ],
      "metadata": {
        "colab": {
          "base_uri": "https://localhost:8080/"
        },
        "id": "y8C-Zn4S2ZOP",
        "outputId": "55e714af-57b8-4439-ed3c-5fc04e294033"
      },
      "execution_count": null,
      "outputs": [
        {
          "output_type": "execute_result",
          "data": {
            "text/plain": [
              "(4,)"
            ]
          },
          "metadata": {},
          "execution_count": 22
        }
      ]
    },
    {
      "cell_type": "code",
      "source": [
        "y.shape"
      ],
      "metadata": {
        "colab": {
          "base_uri": "https://localhost:8080/"
        },
        "id": "LFpfl8yn2ZKt",
        "outputId": "147cfc79-057f-4e5b-8353-5e134c07875c"
      },
      "execution_count": null,
      "outputs": [
        {
          "output_type": "execute_result",
          "data": {
            "text/plain": [
              "(2, 3)"
            ]
          },
          "metadata": {},
          "execution_count": 23
        }
      ]
    },
    {
      "cell_type": "code",
      "source": [
        "y.ndim"
      ],
      "metadata": {
        "colab": {
          "base_uri": "https://localhost:8080/"
        },
        "id": "09P0cte02ZG9",
        "outputId": "8d4d5a37-2ea4-4787-b560-8f67be12faeb"
      },
      "execution_count": null,
      "outputs": [
        {
          "output_type": "execute_result",
          "data": {
            "text/plain": [
              "2"
            ]
          },
          "metadata": {},
          "execution_count": 24
        }
      ]
    },
    {
      "cell_type": "code",
      "source": [
        "x.ndim"
      ],
      "metadata": {
        "colab": {
          "base_uri": "https://localhost:8080/"
        },
        "id": "CD8R2-Le2ZDA",
        "outputId": "0a0d763f-d8e5-4bfb-9a17-803c2c04eb9a"
      },
      "execution_count": null,
      "outputs": [
        {
          "output_type": "execute_result",
          "data": {
            "text/plain": [
              "1"
            ]
          },
          "metadata": {},
          "execution_count": 25
        }
      ]
    },
    {
      "cell_type": "code",
      "source": [
        "len(x)"
      ],
      "metadata": {
        "colab": {
          "base_uri": "https://localhost:8080/"
        },
        "id": "NC9KAELJ2Y_Z",
        "outputId": "ac6bf46f-ee6d-4757-ca2a-37e3a3f32ba0"
      },
      "execution_count": null,
      "outputs": [
        {
          "output_type": "execute_result",
          "data": {
            "text/plain": [
              "4"
            ]
          },
          "metadata": {},
          "execution_count": 26
        }
      ]
    },
    {
      "cell_type": "code",
      "source": [
        "len(y)"
      ],
      "metadata": {
        "colab": {
          "base_uri": "https://localhost:8080/"
        },
        "id": "P-5ErzUs2Y7t",
        "outputId": "506216c3-da82-460d-94da-ee038c111236"
      },
      "execution_count": null,
      "outputs": [
        {
          "output_type": "execute_result",
          "data": {
            "text/plain": [
              "2"
            ]
          },
          "metadata": {},
          "execution_count": 27
        }
      ]
    },
    {
      "cell_type": "code",
      "source": [
        "x.size"
      ],
      "metadata": {
        "colab": {
          "base_uri": "https://localhost:8080/"
        },
        "id": "dVCtvhs22Y4P",
        "outputId": "2cb5f23d-2d58-442c-eac6-724f7b2f9f0d"
      },
      "execution_count": null,
      "outputs": [
        {
          "output_type": "execute_result",
          "data": {
            "text/plain": [
              "4"
            ]
          },
          "metadata": {},
          "execution_count": 28
        }
      ]
    },
    {
      "cell_type": "code",
      "source": [
        "y.size"
      ],
      "metadata": {
        "colab": {
          "base_uri": "https://localhost:8080/"
        },
        "id": "g9V6hsUA2Y0T",
        "outputId": "0ddd7255-66e1-40db-bd13-3d74cc103b67"
      },
      "execution_count": null,
      "outputs": [
        {
          "output_type": "execute_result",
          "data": {
            "text/plain": [
              "6"
            ]
          },
          "metadata": {},
          "execution_count": 29
        }
      ]
    },
    {
      "cell_type": "markdown",
      "source": [
        "# 3차원 array"
      ],
      "metadata": {
        "id": "-oh3r4Ui4-WS"
      }
    },
    {
      "cell_type": "code",
      "source": [
        "# (2,3,4)\n",
        "\n",
        "z = np.array([[[1,2,3,4],[5,6,7,8],[9,10,11,12]],[[13,14,15,16],[17,18,19,20],[21,22,23,24]]])\n",
        "z"
      ],
      "metadata": {
        "colab": {
          "base_uri": "https://localhost:8080/"
        },
        "id": "mY4XN3hq2YwZ",
        "outputId": "9a7b88f4-86a5-4ac9-e4e4-c92a60a8f637"
      },
      "execution_count": null,
      "outputs": [
        {
          "output_type": "execute_result",
          "data": {
            "text/plain": [
              "array([[[ 1,  2,  3,  4],\n",
              "        [ 5,  6,  7,  8],\n",
              "        [ 9, 10, 11, 12]],\n",
              "\n",
              "       [[13, 14, 15, 16],\n",
              "        [17, 18, 19, 20],\n",
              "        [21, 22, 23, 24]]])"
            ]
          },
          "metadata": {},
          "execution_count": 30
        }
      ]
    },
    {
      "cell_type": "code",
      "source": [
        "z.shape"
      ],
      "metadata": {
        "colab": {
          "base_uri": "https://localhost:8080/"
        },
        "id": "yyLW7k5Q2Yrq",
        "outputId": "36e88ac9-d4dc-4722-a72e-805b4fa54943"
      },
      "execution_count": null,
      "outputs": [
        {
          "output_type": "execute_result",
          "data": {
            "text/plain": [
              "(2, 3, 4)"
            ]
          },
          "metadata": {},
          "execution_count": 31
        }
      ]
    },
    {
      "cell_type": "code",
      "source": [
        "z.size"
      ],
      "metadata": {
        "colab": {
          "base_uri": "https://localhost:8080/"
        },
        "id": "tkx8kXiRykT3",
        "outputId": "1f5d01b0-9db5-4dcb-e3dc-a9aaf1468986"
      },
      "execution_count": null,
      "outputs": [
        {
          "output_type": "execute_result",
          "data": {
            "text/plain": [
              "24"
            ]
          },
          "metadata": {},
          "execution_count": 32
        }
      ]
    },
    {
      "cell_type": "markdown",
      "source": [
        "# 같은 값이라도 '차원' 이 다를 수 있다\n",
        "'차원변환' 중요하다!"
      ],
      "metadata": {
        "id": "PfrKMx5X6lDN"
      }
    },
    {
      "cell_type": "code",
      "source": [
        "np.array(10) #0차원"
      ],
      "metadata": {
        "colab": {
          "base_uri": "https://localhost:8080/"
        },
        "id": "o7ivENia6TZG",
        "outputId": "2944c276-1c77-41de-a171-2a58e44d3a11"
      },
      "execution_count": null,
      "outputs": [
        {
          "output_type": "execute_result",
          "data": {
            "text/plain": [
              "array(10)"
            ]
          },
          "metadata": {},
          "execution_count": 33
        }
      ]
    },
    {
      "cell_type": "code",
      "source": [
        "np.array([10]) #1차원"
      ],
      "metadata": {
        "colab": {
          "base_uri": "https://localhost:8080/"
        },
        "id": "Ictc5Z9t6TVr",
        "outputId": "a800dc77-e4e4-466a-9a2c-05625e8d38e6"
      },
      "execution_count": null,
      "outputs": [
        {
          "output_type": "execute_result",
          "data": {
            "text/plain": [
              "array([10])"
            ]
          },
          "metadata": {},
          "execution_count": 34
        }
      ]
    },
    {
      "cell_type": "code",
      "source": [
        "np.array([[10]]) #2차원"
      ],
      "metadata": {
        "colab": {
          "base_uri": "https://localhost:8080/"
        },
        "id": "8naXKr0P6TSV",
        "outputId": "45165fa6-bbe9-48fb-9ae6-49b11ae8a96e"
      },
      "execution_count": null,
      "outputs": [
        {
          "output_type": "execute_result",
          "data": {
            "text/plain": [
              "array([[10]])"
            ]
          },
          "metadata": {},
          "execution_count": 35
        }
      ]
    },
    {
      "cell_type": "code",
      "source": [
        "np.array([[[10]]]) #3차원"
      ],
      "metadata": {
        "colab": {
          "base_uri": "https://localhost:8080/"
        },
        "id": "Laexv2te6TOh",
        "outputId": "b047b1eb-7532-4516-f98b-f3dcd6c8fab9"
      },
      "execution_count": null,
      "outputs": [
        {
          "output_type": "execute_result",
          "data": {
            "text/plain": [
              "array([[[10]]])"
            ]
          },
          "metadata": {},
          "execution_count": 36
        }
      ]
    },
    {
      "cell_type": "markdown",
      "source": [
        "# np.arange()"
      ],
      "metadata": {
        "id": "bGuR-yGM-aYm"
      }
    },
    {
      "cell_type": "code",
      "source": [
        "np.arange(10)"
      ],
      "metadata": {
        "colab": {
          "base_uri": "https://localhost:8080/"
        },
        "id": "OwPbYrPF6TLa",
        "outputId": "700bd593-2468-4c8e-8d3e-1d2376e97878"
      },
      "execution_count": null,
      "outputs": [
        {
          "output_type": "execute_result",
          "data": {
            "text/plain": [
              "array([0, 1, 2, 3, 4, 5, 6, 7, 8, 9])"
            ]
          },
          "metadata": {},
          "execution_count": 37
        }
      ]
    },
    {
      "cell_type": "code",
      "source": [
        "np.arange(1,10,2)"
      ],
      "metadata": {
        "colab": {
          "base_uri": "https://localhost:8080/"
        },
        "id": "2DMsl59S6TFK",
        "outputId": "170748d6-f74a-45ec-e828-cbc4c0686c00"
      },
      "execution_count": null,
      "outputs": [
        {
          "output_type": "execute_result",
          "data": {
            "text/plain": [
              "array([1, 3, 5, 7, 9])"
            ]
          },
          "metadata": {},
          "execution_count": 38
        }
      ]
    },
    {
      "cell_type": "code",
      "source": [
        "np.arange(10, 0, -1)"
      ],
      "metadata": {
        "colab": {
          "base_uri": "https://localhost:8080/"
        },
        "id": "YpbECBcG6TCL",
        "outputId": "f6b07291-58bd-43f6-d7a4-078489b7d332"
      },
      "execution_count": null,
      "outputs": [
        {
          "output_type": "execute_result",
          "data": {
            "text/plain": [
              "array([10,  9,  8,  7,  6,  5,  4,  3,  2,  1])"
            ]
          },
          "metadata": {},
          "execution_count": 39
        }
      ]
    },
    {
      "cell_type": "code",
      "source": [
        "np.arange(1, 10, dtype=np.int16)"
      ],
      "metadata": {
        "colab": {
          "base_uri": "https://localhost:8080/"
        },
        "id": "EN9LU1sq6S_M",
        "outputId": "63ea183e-295c-4964-ef5d-77033d803a86"
      },
      "execution_count": null,
      "outputs": [
        {
          "output_type": "execute_result",
          "data": {
            "text/plain": [
              "array([1, 2, 3, 4, 5, 6, 7, 8, 9], dtype=int16)"
            ]
          },
          "metadata": {},
          "execution_count": 40
        }
      ]
    },
    {
      "cell_type": "markdown",
      "source": [
        "# astype(타입)\n",
        "타입변환한 array 를 리턴 (원본 변화 없슴!)\n"
      ],
      "metadata": {
        "id": "ZhG7-VM5_J1E"
      }
    },
    {
      "cell_type": "code",
      "source": [
        "d = np.arange(3, 10)\n",
        "d  #dtype = int64"
      ],
      "metadata": {
        "colab": {
          "base_uri": "https://localhost:8080/"
        },
        "id": "T7UYPi5D6S8A",
        "outputId": "7dfb7071-cfda-42ce-ad5e-79c37e6c9c4c"
      },
      "execution_count": null,
      "outputs": [
        {
          "output_type": "execute_result",
          "data": {
            "text/plain": [
              "array([3, 4, 5, 6, 7, 8, 9])"
            ]
          },
          "metadata": {},
          "execution_count": 41
        }
      ]
    },
    {
      "cell_type": "code",
      "source": [
        "d.astype(np.float32)"
      ],
      "metadata": {
        "colab": {
          "base_uri": "https://localhost:8080/"
        },
        "id": "UprwaDmR6S45",
        "outputId": "b11d8b0c-2c31-4128-e650-1f1d6cc5bcbe"
      },
      "execution_count": null,
      "outputs": [
        {
          "output_type": "execute_result",
          "data": {
            "text/plain": [
              "array([3., 4., 5., 6., 7., 8., 9.], dtype=float32)"
            ]
          },
          "metadata": {},
          "execution_count": 42
        }
      ]
    },
    {
      "cell_type": "code",
      "source": [
        "d"
      ],
      "metadata": {
        "colab": {
          "base_uri": "https://localhost:8080/"
        },
        "id": "9Xgp9wI_6S17",
        "outputId": "07ffff00-9368-4245-9042-d548e4b7d731"
      },
      "execution_count": null,
      "outputs": [
        {
          "output_type": "execute_result",
          "data": {
            "text/plain": [
              "array([3, 4, 5, 6, 7, 8, 9])"
            ]
          },
          "metadata": {},
          "execution_count": 43
        }
      ]
    },
    {
      "cell_type": "markdown",
      "source": [
        "# reshape()\n",
        " - ndarray의 형태, 차원을 바꾸기 위해 사용\n",
        " - 머신러닝, 데이터 프로세싱에서 매우 자주 사용됨. (차원변환)"
      ],
      "metadata": {
        "id": "vRm95aHT_kRd"
      }
    },
    {
      "cell_type": "code",
      "source": [
        "np.arange(12)"
      ],
      "metadata": {
        "colab": {
          "base_uri": "https://localhost:8080/"
        },
        "id": "nXO_gQHD6SzB",
        "outputId": "eeed3d11-d051-420c-f960-55fba9f14ee3"
      },
      "execution_count": null,
      "outputs": [
        {
          "output_type": "execute_result",
          "data": {
            "text/plain": [
              "array([ 0,  1,  2,  3,  4,  5,  6,  7,  8,  9, 10, 11])"
            ]
          },
          "metadata": {},
          "execution_count": 44
        }
      ]
    },
    {
      "cell_type": "code",
      "source": [
        "np.arange(12).reshape(2, 6)"
      ],
      "metadata": {
        "colab": {
          "base_uri": "https://localhost:8080/"
        },
        "id": "reoAkAtq6Sv9",
        "outputId": "4dc6fb6c-7dcc-40c2-f56e-ab8d8e786534"
      },
      "execution_count": null,
      "outputs": [
        {
          "output_type": "execute_result",
          "data": {
            "text/plain": [
              "array([[ 0,  1,  2,  3,  4,  5],\n",
              "       [ 6,  7,  8,  9, 10, 11]])"
            ]
          },
          "metadata": {},
          "execution_count": 45
        }
      ]
    },
    {
      "cell_type": "code",
      "source": [
        "np.arange(12).reshape(3, 2, 2)"
      ],
      "metadata": {
        "colab": {
          "base_uri": "https://localhost:8080/"
        },
        "id": "HsOK-9OXAA-r",
        "outputId": "6afe4bdb-a81a-48ea-d093-322b1a611d49"
      },
      "execution_count": null,
      "outputs": [
        {
          "output_type": "execute_result",
          "data": {
            "text/plain": [
              "array([[[ 0,  1],\n",
              "        [ 2,  3]],\n",
              "\n",
              "       [[ 4,  5],\n",
              "        [ 6,  7]],\n",
              "\n",
              "       [[ 8,  9],\n",
              "        [10, 11]]])"
            ]
          },
          "metadata": {},
          "execution_count": 46
        }
      ]
    },
    {
      "cell_type": "markdown",
      "source": [
        "# np.ones, np.zeros"
      ],
      "metadata": {
        "id": "7eX1MzvMAXwN"
      }
    },
    {
      "cell_type": "code",
      "source": [
        "np.ones(5)"
      ],
      "metadata": {
        "colab": {
          "base_uri": "https://localhost:8080/"
        },
        "id": "vWimry7dAA7k",
        "outputId": "fd311505-bcc2-4f44-acba-2e4da5142b3a"
      },
      "execution_count": null,
      "outputs": [
        {
          "output_type": "execute_result",
          "data": {
            "text/plain": [
              "array([1., 1., 1., 1., 1.])"
            ]
          },
          "metadata": {},
          "execution_count": 47
        }
      ]
    },
    {
      "cell_type": "code",
      "source": [
        "np.ones(6).reshape(2, 3)"
      ],
      "metadata": {
        "colab": {
          "base_uri": "https://localhost:8080/"
        },
        "id": "HN1ZpJrjAA36",
        "outputId": "e971d0ed-da85-4ac0-a728-ff74272ee089"
      },
      "execution_count": null,
      "outputs": [
        {
          "output_type": "execute_result",
          "data": {
            "text/plain": [
              "array([[1., 1., 1.],\n",
              "       [1., 1., 1.]])"
            ]
          },
          "metadata": {},
          "execution_count": 48
        }
      ]
    },
    {
      "cell_type": "code",
      "source": [
        "np.ones((2,3), dtype=np.int16)"
      ],
      "metadata": {
        "colab": {
          "base_uri": "https://localhost:8080/"
        },
        "id": "vnCAjtUUAA0u",
        "outputId": "4c6eb7a4-e742-419d-e3d4-aece78758366"
      },
      "execution_count": null,
      "outputs": [
        {
          "output_type": "execute_result",
          "data": {
            "text/plain": [
              "array([[1, 1, 1],\n",
              "       [1, 1, 1]], dtype=int16)"
            ]
          },
          "metadata": {},
          "execution_count": 49
        }
      ]
    },
    {
      "cell_type": "code",
      "source": [
        "np.zeros((3,2,5), dtype=np.uint8)"
      ],
      "metadata": {
        "colab": {
          "base_uri": "https://localhost:8080/"
        },
        "id": "HVQ7s1x_AAxb",
        "outputId": "6b417bde-4f43-47e5-d1cc-31757fddef07"
      },
      "execution_count": null,
      "outputs": [
        {
          "output_type": "execute_result",
          "data": {
            "text/plain": [
              "array([[[0, 0, 0, 0, 0],\n",
              "        [0, 0, 0, 0, 0]],\n",
              "\n",
              "       [[0, 0, 0, 0, 0],\n",
              "        [0, 0, 0, 0, 0]],\n",
              "\n",
              "       [[0, 0, 0, 0, 0],\n",
              "        [0, 0, 0, 0, 0]]], dtype=uint8)"
            ]
          },
          "metadata": {},
          "execution_count": 50
        }
      ]
    },
    {
      "cell_type": "code",
      "source": [
        "# 단위 행렬\n",
        "np.eye(5) # (5, 5)단위 행렬"
      ],
      "metadata": {
        "colab": {
          "base_uri": "https://localhost:8080/"
        },
        "id": "SyT26P-rAAuZ",
        "outputId": "7858b288-fcae-4b77-8b35-1413143a5e06"
      },
      "execution_count": null,
      "outputs": [
        {
          "output_type": "execute_result",
          "data": {
            "text/plain": [
              "array([[1., 0., 0., 0., 0.],\n",
              "       [0., 1., 0., 0., 0.],\n",
              "       [0., 0., 1., 0., 0.],\n",
              "       [0., 0., 0., 1., 0.],\n",
              "       [0., 0., 0., 0., 1.]])"
            ]
          },
          "metadata": {},
          "execution_count": 51
        }
      ]
    },
    {
      "cell_type": "markdown",
      "source": [
        "# np.random 서브모듈"
      ],
      "metadata": {
        "id": "0iO8yHWXBYQU"
      }
    },
    {
      "cell_type": "code",
      "source": [
        "# rand: 0부터 1사이의 균일 분포 [0, 1)  uniform distribution\n",
        "# randn: 가우시안 표준 정규 분포\n",
        "# randint: 균일 분포의 정수 난수"
      ],
      "metadata": {
        "id": "BKkAoo8iAArJ"
      },
      "execution_count": null,
      "outputs": []
    },
    {
      "cell_type": "code",
      "source": [
        "np.random.rand(10)"
      ],
      "metadata": {
        "colab": {
          "base_uri": "https://localhost:8080/"
        },
        "id": "hy_1svmaAAno",
        "outputId": "e10352b2-f6a3-4d5e-8a8c-31d6de7256f5"
      },
      "execution_count": null,
      "outputs": [
        {
          "output_type": "execute_result",
          "data": {
            "text/plain": [
              "array([0.11041767, 0.61628789, 0.9359328 , 0.61811622, 0.70163503,\n",
              "       0.83838652, 0.00221579, 0.22022948, 0.13428675, 0.0404863 ])"
            ]
          },
          "metadata": {},
          "execution_count": 53
        }
      ]
    },
    {
      "cell_type": "code",
      "source": [
        "np.random.rand(2,3)"
      ],
      "metadata": {
        "colab": {
          "base_uri": "https://localhost:8080/"
        },
        "id": "IDGCp1PbAAka",
        "outputId": "2ef1c2bd-014f-4539-c563-52a0ea912689"
      },
      "execution_count": null,
      "outputs": [
        {
          "output_type": "execute_result",
          "data": {
            "text/plain": [
              "array([[0.7200284 , 0.2473767 , 0.86433512],\n",
              "       [0.20568534, 0.65096986, 0.87930281]])"
            ]
          },
          "metadata": {},
          "execution_count": 54
        }
      ]
    },
    {
      "cell_type": "markdown",
      "source": [
        "![](https://thebook.io/img/080263/218.jpg)\n"
      ],
      "metadata": {
        "id": "ul1kFDAvCErQ"
      }
    },
    {
      "cell_type": "code",
      "source": [
        "np.random.randn(5)"
      ],
      "metadata": {
        "colab": {
          "base_uri": "https://localhost:8080/"
        },
        "id": "3359sPFKB-7D",
        "outputId": "121987f5-37fd-4a78-9dbd-a5703441da75"
      },
      "execution_count": null,
      "outputs": [
        {
          "output_type": "execute_result",
          "data": {
            "text/plain": [
              "array([-1.94897711, -0.15235786,  0.09882428,  0.53622632, -0.3133693 ])"
            ]
          },
          "metadata": {},
          "execution_count": 55
        }
      ]
    },
    {
      "cell_type": "code",
      "source": [
        "np.random.randint(5) # 0-4 사이에 정수 난수"
      ],
      "metadata": {
        "colab": {
          "base_uri": "https://localhost:8080/"
        },
        "id": "austNRdEB-3a",
        "outputId": "f911fb00-69b1-4cfd-9bb6-94fe5d41de3a"
      },
      "execution_count": null,
      "outputs": [
        {
          "output_type": "execute_result",
          "data": {
            "text/plain": [
              "4"
            ]
          },
          "metadata": {},
          "execution_count": 56
        }
      ]
    },
    {
      "cell_type": "code",
      "source": [
        "np.random.randint(1,10) # 1부터 9까지 난수"
      ],
      "metadata": {
        "colab": {
          "base_uri": "https://localhost:8080/"
        },
        "id": "g48S1qnpB-zs",
        "outputId": "128e3291-3479-49c4-f14a-a4841992d277"
      },
      "execution_count": null,
      "outputs": [
        {
          "output_type": "execute_result",
          "data": {
            "text/plain": [
              "5"
            ]
          },
          "metadata": {},
          "execution_count": 57
        }
      ]
    },
    {
      "cell_type": "code",
      "source": [
        "np.random.randint(1, 100, (3,5,2))"
      ],
      "metadata": {
        "colab": {
          "base_uri": "https://localhost:8080/"
        },
        "id": "y5nKZvacB-vu",
        "outputId": "853f1dc5-3cfe-4529-d9c5-8516c2126b27"
      },
      "execution_count": null,
      "outputs": [
        {
          "output_type": "execute_result",
          "data": {
            "text/plain": [
              "array([[[ 1, 73],\n",
              "        [30, 71],\n",
              "        [25, 41],\n",
              "        [16, 87],\n",
              "        [48, 47]],\n",
              "\n",
              "       [[ 1, 22],\n",
              "        [35, 64],\n",
              "        [ 6, 48],\n",
              "        [10, 63],\n",
              "        [ 5, 71]],\n",
              "\n",
              "       [[ 9, 88],\n",
              "        [89, 40],\n",
              "        [99, 24],\n",
              "        [45, 32],\n",
              "        [36,  6]]])"
            ]
          },
          "metadata": {},
          "execution_count": 58
        }
      ]
    },
    {
      "cell_type": "code",
      "source": [
        "np.random.rand(4)"
      ],
      "metadata": {
        "colab": {
          "base_uri": "https://localhost:8080/"
        },
        "id": "LP48Qf6lB-rJ",
        "outputId": "21d0f5ed-32ba-4b82-e59f-baa1ac5e90ed"
      },
      "execution_count": null,
      "outputs": [
        {
          "output_type": "execute_result",
          "data": {
            "text/plain": [
              "array([0.82077157, 0.27650703, 0.5746884 , 0.21226799])"
            ]
          },
          "metadata": {},
          "execution_count": 59
        }
      ]
    },
    {
      "cell_type": "code",
      "source": [
        "np.random.seed(0)\n",
        "np.random.rand(4)"
      ],
      "metadata": {
        "colab": {
          "base_uri": "https://localhost:8080/"
        },
        "id": "yu0HhPP3AAg8",
        "outputId": "3bcaa59e-3652-4b2c-855f-ac9a9ef5eb83"
      },
      "execution_count": null,
      "outputs": [
        {
          "output_type": "execute_result",
          "data": {
            "text/plain": [
              "array([0.5488135 , 0.71518937, 0.60276338, 0.54488318])"
            ]
          },
          "metadata": {},
          "execution_count": 60
        }
      ]
    },
    {
      "cell_type": "markdown",
      "source": [
        "# np.unique()\n",
        "\n",
        "\n"
      ],
      "metadata": {
        "id": "HBtBqdumDrP7"
      }
    },
    {
      "cell_type": "code",
      "source": [
        "np.unique([11,11,2,2,34,34])"
      ],
      "metadata": {
        "colab": {
          "base_uri": "https://localhost:8080/"
        },
        "id": "RYo5cfzI6Ss0",
        "outputId": "dacf29d4-bb74-48b5-ae47-d02750bbd52b"
      },
      "execution_count": null,
      "outputs": [
        {
          "output_type": "execute_result",
          "data": {
            "text/plain": [
              "array([ 2, 11, 34])"
            ]
          },
          "metadata": {},
          "execution_count": 61
        }
      ]
    },
    {
      "cell_type": "markdown",
      "source": [
        "# 인덱싱 index\n",
        " - 파이썬 리스트와 동일한 개념으로 사용\n",
        " - ,를 사용하여 각 차원의 인덱스에 접근 가능\n",
        " - 인덱싱 할때마다 차원감소"
      ],
      "metadata": {
        "id": "UvTfPOHvEDDV"
      }
    },
    {
      "cell_type": "code",
      "source": [
        "x = np.arange(10)\n",
        "x"
      ],
      "metadata": {
        "colab": {
          "base_uri": "https://localhost:8080/"
        },
        "id": "Lvo0MRCgDzr0",
        "outputId": "8e31ef22-8760-4e3c-8e75-7566dadae2f4"
      },
      "execution_count": null,
      "outputs": [
        {
          "output_type": "execute_result",
          "data": {
            "text/plain": [
              "array([0, 1, 2, 3, 4, 5, 6, 7, 8, 9])"
            ]
          },
          "metadata": {},
          "execution_count": 62
        }
      ]
    },
    {
      "cell_type": "code",
      "source": [
        "x[0]"
      ],
      "metadata": {
        "colab": {
          "base_uri": "https://localhost:8080/"
        },
        "id": "wUnWr62zDzoF",
        "outputId": "b834d47a-9af3-46ff-9f81-5e5b7ed9d6c1"
      },
      "execution_count": null,
      "outputs": [
        {
          "output_type": "execute_result",
          "data": {
            "text/plain": [
              "0"
            ]
          },
          "metadata": {},
          "execution_count": 63
        }
      ]
    },
    {
      "cell_type": "code",
      "source": [
        "x[-1]"
      ],
      "metadata": {
        "colab": {
          "base_uri": "https://localhost:8080/"
        },
        "id": "VyoSjuk2Dzkb",
        "outputId": "775940ac-f3da-4e5e-dd87-f0fdf806324c"
      },
      "execution_count": null,
      "outputs": [
        {
          "output_type": "execute_result",
          "data": {
            "text/plain": [
              "9"
            ]
          },
          "metadata": {},
          "execution_count": 64
        }
      ]
    },
    {
      "cell_type": "code",
      "source": [
        "x[9]"
      ],
      "metadata": {
        "colab": {
          "base_uri": "https://localhost:8080/"
        },
        "id": "ipsCOhuJDzgn",
        "outputId": "c6193a93-58a5-4697-f049-e333ddfbb110"
      },
      "execution_count": null,
      "outputs": [
        {
          "output_type": "execute_result",
          "data": {
            "text/plain": [
              "9"
            ]
          },
          "metadata": {},
          "execution_count": 65
        }
      ]
    },
    {
      "cell_type": "code",
      "source": [
        "x[3]=100\n",
        "x"
      ],
      "metadata": {
        "colab": {
          "base_uri": "https://localhost:8080/"
        },
        "id": "0hvjQxwzDzc5",
        "outputId": "b649a3c7-b291-4447-be6f-898cf80b8675"
      },
      "execution_count": null,
      "outputs": [
        {
          "output_type": "execute_result",
          "data": {
            "text/plain": [
              "array([  0,   1,   2, 100,   4,   5,   6,   7,   8,   9])"
            ]
          },
          "metadata": {},
          "execution_count": 66
        }
      ]
    },
    {
      "cell_type": "code",
      "source": [
        "x = np.arange(10).reshape(2, 5)\n",
        "x"
      ],
      "metadata": {
        "colab": {
          "base_uri": "https://localhost:8080/"
        },
        "id": "bK_uxY1nDzZW",
        "outputId": "9bcfe39c-07d5-410c-c7c6-c83f59ace7d5"
      },
      "execution_count": null,
      "outputs": [
        {
          "output_type": "execute_result",
          "data": {
            "text/plain": [
              "array([[0, 1, 2, 3, 4],\n",
              "       [5, 6, 7, 8, 9]])"
            ]
          },
          "metadata": {},
          "execution_count": 67
        }
      ]
    },
    {
      "cell_type": "code",
      "source": [
        "x[0]"
      ],
      "metadata": {
        "colab": {
          "base_uri": "https://localhost:8080/"
        },
        "id": "K7WrzJbWDzV4",
        "outputId": "e59f1a1f-7814-40ed-cbac-2d8e2dcd84db"
      },
      "execution_count": null,
      "outputs": [
        {
          "output_type": "execute_result",
          "data": {
            "text/plain": [
              "array([0, 1, 2, 3, 4])"
            ]
          },
          "metadata": {},
          "execution_count": 68
        }
      ]
    },
    {
      "cell_type": "code",
      "source": [
        "x[0][2]"
      ],
      "metadata": {
        "colab": {
          "base_uri": "https://localhost:8080/"
        },
        "id": "n7hez1ggDzSg",
        "outputId": "7c73c23c-1599-4bba-9f52-911df9c87b5d"
      },
      "execution_count": null,
      "outputs": [
        {
          "output_type": "execute_result",
          "data": {
            "text/plain": [
              "2"
            ]
          },
          "metadata": {},
          "execution_count": 69
        }
      ]
    },
    {
      "cell_type": "code",
      "source": [
        "x[0, 2] # <- 콤마로 인덱싱 가능!  numpy 에선 후자의 방법을 추천!"
      ],
      "metadata": {
        "colab": {
          "base_uri": "https://localhost:8080/"
        },
        "id": "PQdcJaReDzOl",
        "outputId": "b4caee91-6127-4762-f323-aa6b46fbad39"
      },
      "execution_count": null,
      "outputs": [
        {
          "output_type": "execute_result",
          "data": {
            "text/plain": [
              "2"
            ]
          },
          "metadata": {},
          "execution_count": 70
        }
      ]
    },
    {
      "cell_type": "code",
      "source": [
        "x[1, 4]"
      ],
      "metadata": {
        "colab": {
          "base_uri": "https://localhost:8080/"
        },
        "id": "dFuCb0vDDzKg",
        "outputId": "cf796084-1b0d-4c78-d50a-83a77f6cf551"
      },
      "execution_count": null,
      "outputs": [
        {
          "output_type": "execute_result",
          "data": {
            "text/plain": [
              "9"
            ]
          },
          "metadata": {},
          "execution_count": 71
        }
      ]
    },
    {
      "cell_type": "code",
      "source": [
        "x[1, 4], x[1, -1]"
      ],
      "metadata": {
        "colab": {
          "base_uri": "https://localhost:8080/"
        },
        "id": "NvRuWKiiFUxD",
        "outputId": "def217b7-6f8f-4c72-9637-1ee6b87f3cc5"
      },
      "execution_count": null,
      "outputs": [
        {
          "output_type": "execute_result",
          "data": {
            "text/plain": [
              "(9, 9)"
            ]
          },
          "metadata": {},
          "execution_count": 72
        }
      ]
    },
    {
      "cell_type": "markdown",
      "source": [
        "## Advanced Indexing\n",
        "- Integer array indexing"
      ],
      "metadata": {
        "id": "wBbfDJ_XFpBs"
      }
    },
    {
      "cell_type": "code",
      "source": [
        "x"
      ],
      "metadata": {
        "colab": {
          "base_uri": "https://localhost:8080/"
        },
        "id": "eHcoKf9tFUuC",
        "outputId": "14c225b0-6770-4176-e494-6f4cf42fe0d6"
      },
      "execution_count": null,
      "outputs": [
        {
          "output_type": "execute_result",
          "data": {
            "text/plain": [
              "array([[0, 1, 2, 3, 4],\n",
              "       [5, 6, 7, 8, 9]])"
            ]
          },
          "metadata": {},
          "execution_count": 73
        }
      ]
    },
    {
      "cell_type": "code",
      "source": [
        "x[[0]]"
      ],
      "metadata": {
        "colab": {
          "base_uri": "https://localhost:8080/"
        },
        "id": "mtK-vASvFUoI",
        "outputId": "179a3524-6ea7-4bd7-918b-cbbb48e8df91"
      },
      "execution_count": null,
      "outputs": [
        {
          "output_type": "execute_result",
          "data": {
            "text/plain": [
              "array([[0, 1, 2, 3, 4]])"
            ]
          },
          "metadata": {},
          "execution_count": 74
        }
      ]
    },
    {
      "cell_type": "code",
      "source": [
        "x[0]"
      ],
      "metadata": {
        "colab": {
          "base_uri": "https://localhost:8080/"
        },
        "id": "OqxH7SBSFUlF",
        "outputId": "5fe02336-ef89-44c3-cf5d-f40543d0a849"
      },
      "execution_count": null,
      "outputs": [
        {
          "output_type": "execute_result",
          "data": {
            "text/plain": [
              "array([0, 1, 2, 3, 4])"
            ]
          },
          "metadata": {},
          "execution_count": 75
        }
      ]
    },
    {
      "cell_type": "code",
      "source": [
        "x[[1, 0]]"
      ],
      "metadata": {
        "colab": {
          "base_uri": "https://localhost:8080/"
        },
        "id": "JLPnOlvPFUh5",
        "outputId": "3b6218e4-e929-4f72-de3c-b3b0c95a68fe"
      },
      "execution_count": null,
      "outputs": [
        {
          "output_type": "execute_result",
          "data": {
            "text/plain": [
              "array([[5, 6, 7, 8, 9],\n",
              "       [0, 1, 2, 3, 4]])"
            ]
          },
          "metadata": {},
          "execution_count": 76
        }
      ]
    },
    {
      "cell_type": "markdown",
      "source": [
        "# 슬라이싱\n",
        " - 리스트, 문자열 slicing과 동일한 개념으로 사용\n",
        " - ,를 사용하여 각 차원 별로 슬라이싱 가능\n",
        " - 슬라이싱은 차원 변화 없다\n"
      ],
      "metadata": {
        "id": "l0LwVm13Gmh_"
      }
    },
    {
      "cell_type": "code",
      "source": [
        "x = np.arange(10)\n",
        "x"
      ],
      "metadata": {
        "colab": {
          "base_uri": "https://localhost:8080/"
        },
        "id": "NECWArGAGYDY",
        "outputId": "a367d3e4-7c50-409f-c787-61956a0cc63f"
      },
      "execution_count": null,
      "outputs": [
        {
          "output_type": "execute_result",
          "data": {
            "text/plain": [
              "array([0, 1, 2, 3, 4, 5, 6, 7, 8, 9])"
            ]
          },
          "metadata": {},
          "execution_count": 77
        }
      ]
    },
    {
      "cell_type": "code",
      "source": [
        "x[1:7]"
      ],
      "metadata": {
        "colab": {
          "base_uri": "https://localhost:8080/"
        },
        "id": "iRA_N5ZtGX_-",
        "outputId": "ff69ba7b-0d04-4315-80e9-9b709f929e41"
      },
      "execution_count": null,
      "outputs": [
        {
          "output_type": "execute_result",
          "data": {
            "text/plain": [
              "array([1, 2, 3, 4, 5, 6])"
            ]
          },
          "metadata": {},
          "execution_count": 78
        }
      ]
    },
    {
      "cell_type": "code",
      "source": [
        "x[1:]"
      ],
      "metadata": {
        "colab": {
          "base_uri": "https://localhost:8080/"
        },
        "id": "7klQCE-DGX76",
        "outputId": "3c918b38-50ba-4116-a06c-68b99a747859"
      },
      "execution_count": null,
      "outputs": [
        {
          "output_type": "execute_result",
          "data": {
            "text/plain": [
              "array([1, 2, 3, 4, 5, 6, 7, 8, 9])"
            ]
          },
          "metadata": {},
          "execution_count": 79
        }
      ]
    },
    {
      "cell_type": "code",
      "source": [
        "x[::2]"
      ],
      "metadata": {
        "colab": {
          "base_uri": "https://localhost:8080/"
        },
        "id": "w6AjBlIKGX31",
        "outputId": "47e30c07-ebbe-4226-f0ee-ed606f579391"
      },
      "execution_count": null,
      "outputs": [
        {
          "output_type": "execute_result",
          "data": {
            "text/plain": [
              "array([0, 2, 4, 6, 8])"
            ]
          },
          "metadata": {},
          "execution_count": 80
        }
      ]
    },
    {
      "cell_type": "code",
      "source": [
        "x[1::3]"
      ],
      "metadata": {
        "colab": {
          "base_uri": "https://localhost:8080/"
        },
        "id": "K3GkYsCKFUe2",
        "outputId": "eeb499c1-2e9d-4cc4-fb58-52d8fdd220c7"
      },
      "execution_count": null,
      "outputs": [
        {
          "output_type": "execute_result",
          "data": {
            "text/plain": [
              "array([1, 4, 7])"
            ]
          },
          "metadata": {},
          "execution_count": 81
        }
      ]
    },
    {
      "cell_type": "code",
      "source": [
        "x[::-1]"
      ],
      "metadata": {
        "colab": {
          "base_uri": "https://localhost:8080/"
        },
        "id": "QCv2YzWNFUby",
        "outputId": "7c99f775-3e94-49bd-de09-675edc2f2167"
      },
      "execution_count": null,
      "outputs": [
        {
          "output_type": "execute_result",
          "data": {
            "text/plain": [
              "array([9, 8, 7, 6, 5, 4, 3, 2, 1, 0])"
            ]
          },
          "metadata": {},
          "execution_count": 82
        }
      ]
    },
    {
      "cell_type": "code",
      "source": [
        "y = [[0, 1, 2, 3, 4],\n",
        "     [5, 6, 7, 8, 9],\n",
        "     [10, 11, 12, 13, 14]]\n",
        "y"
      ],
      "metadata": {
        "colab": {
          "base_uri": "https://localhost:8080/"
        },
        "id": "b6Exjm3lFUYo",
        "outputId": "dc4aed41-79e4-467c-9082-38900ee536aa"
      },
      "execution_count": null,
      "outputs": [
        {
          "output_type": "execute_result",
          "data": {
            "text/plain": [
              "[[0, 1, 2, 3, 4], [5, 6, 7, 8, 9], [10, 11, 12, 13, 14]]"
            ]
          },
          "metadata": {},
          "execution_count": 83
        }
      ]
    },
    {
      "cell_type": "code",
      "source": [
        "y[0:1]"
      ],
      "metadata": {
        "colab": {
          "base_uri": "https://localhost:8080/"
        },
        "id": "26zwqh7YHSR0",
        "outputId": "951de59f-50de-4fa5-84ee-d59a586422c8"
      },
      "execution_count": null,
      "outputs": [
        {
          "output_type": "execute_result",
          "data": {
            "text/plain": [
              "[[0, 1, 2, 3, 4]]"
            ]
          },
          "metadata": {},
          "execution_count": 84
        }
      ]
    },
    {
      "cell_type": "code",
      "source": [
        "y[1:3]"
      ],
      "metadata": {
        "colab": {
          "base_uri": "https://localhost:8080/"
        },
        "id": "nNa8GlCiHSOh",
        "outputId": "8a1ceb37-c74c-4b64-9aaf-a7ff973dadba"
      },
      "execution_count": null,
      "outputs": [
        {
          "output_type": "execute_result",
          "data": {
            "text/plain": [
              "[[5, 6, 7, 8, 9], [10, 11, 12, 13, 14]]"
            ]
          },
          "metadata": {},
          "execution_count": 85
        }
      ]
    },
    {
      "cell_type": "code",
      "source": [
        "y[:2]"
      ],
      "metadata": {
        "colab": {
          "base_uri": "https://localhost:8080/"
        },
        "id": "vRBLCO94HSLC",
        "outputId": "c672b980-21e2-4681-8e7e-1e0ab37c6852"
      },
      "execution_count": null,
      "outputs": [
        {
          "output_type": "execute_result",
          "data": {
            "text/plain": [
              "[[0, 1, 2, 3, 4], [5, 6, 7, 8, 9]]"
            ]
          },
          "metadata": {},
          "execution_count": 86
        }
      ]
    },
    {
      "cell_type": "code",
      "source": [
        "y[:2][1:4]"
      ],
      "metadata": {
        "colab": {
          "base_uri": "https://localhost:8080/"
        },
        "id": "01_m-RomHSH3",
        "outputId": "a65d9336-2a05-4479-c425-87a1fd1829c4"
      },
      "execution_count": null,
      "outputs": [
        {
          "output_type": "execute_result",
          "data": {
            "text/plain": [
              "[[5, 6, 7, 8, 9]]"
            ]
          },
          "metadata": {},
          "execution_count": 87
        }
      ]
    },
    {
      "cell_type": "code",
      "source": [
        "# list 는 차원별 슬라이싱 안됨"
      ],
      "metadata": {
        "id": "0c_wrw5CHSET"
      },
      "execution_count": null,
      "outputs": []
    },
    {
      "cell_type": "code",
      "source": [
        "x = np.arange(15).reshape(3, 5)\n",
        "x\n"
      ],
      "metadata": {
        "colab": {
          "base_uri": "https://localhost:8080/"
        },
        "id": "kNv6OU0wHzqH",
        "outputId": "6b574194-04d1-4c28-9dad-4b2234b3d073"
      },
      "execution_count": null,
      "outputs": [
        {
          "output_type": "execute_result",
          "data": {
            "text/plain": [
              "array([[ 0,  1,  2,  3,  4],\n",
              "       [ 5,  6,  7,  8,  9],\n",
              "       [10, 11, 12, 13, 14]])"
            ]
          },
          "metadata": {},
          "execution_count": 89
        }
      ]
    },
    {
      "cell_type": "code",
      "source": [
        "x[:2][1:4]"
      ],
      "metadata": {
        "colab": {
          "base_uri": "https://localhost:8080/"
        },
        "id": "D9EwxETMHzmD",
        "outputId": "f7125fe7-291c-43c5-855b-efe519f2f695"
      },
      "execution_count": null,
      "outputs": [
        {
          "output_type": "execute_result",
          "data": {
            "text/plain": [
              "array([[5, 6, 7, 8, 9]])"
            ]
          },
          "metadata": {},
          "execution_count": 90
        }
      ]
    },
    {
      "cell_type": "code",
      "source": [
        "x[:2, 1:4] # array 는 차원별 슬라이싱 됨"
      ],
      "metadata": {
        "colab": {
          "base_uri": "https://localhost:8080/"
        },
        "id": "xd7_3N4PHziS",
        "outputId": "37683c5b-ab13-47d6-8d58-4072f8b2571c"
      },
      "execution_count": null,
      "outputs": [
        {
          "output_type": "execute_result",
          "data": {
            "text/plain": [
              "array([[1, 2, 3],\n",
              "       [6, 7, 8]])"
            ]
          },
          "metadata": {},
          "execution_count": 91
        }
      ]
    },
    {
      "cell_type": "markdown",
      "source": [
        "---\n",
        "# shape (차원) 변경하기\n",
        "**차원변환**은 데이터분석 과 인공지능에서 매우 빈번하게 발생되는 작업이니만큼 자유자재로 변환할수 있어야 하고, 머리속으로 내가 변환하는 데이터의 구조가 그려지도록 익숙해져야 합니다\n",
        "\n",
        "사용 예) 이미지 데이터 벡터화 - 이미지는 기본적으로 2차원 혹은 3차원(RGB)이나 트레이닝을 위해 1차원으로 변경하여 사용 됨\n"
      ],
      "metadata": {
        "id": "QMFoNciMIiCk"
      }
    },
    {
      "cell_type": "markdown",
      "source": [
        "## ravel(), np.ravel()\n",
        "  - [ˈrævl]\n",
        "  - 다차원배열을 1차원으로 변경 (흔히 **'펼친다'**라고 말함)\n",
        "  - 'order' 파라미터\n",
        "    - 'C' - row 우선 변경 ,   C style\n",
        "    - 'F - column 우선 변경,   Fortran style\n",
        "  - ravel() 은 np 안에 일반 함수로도 있고, 혹은 ndarray 의 멤버함수로서도 존재\n"
      ],
      "metadata": {
        "id": "eD-grdqdIwIR"
      }
    },
    {
      "cell_type": "code",
      "source": [
        "x"
      ],
      "metadata": {
        "colab": {
          "base_uri": "https://localhost:8080/"
        },
        "id": "DUucvuLSIxmZ",
        "outputId": "93d19ecb-3fd1-4e2c-b807-d844a589547f"
      },
      "execution_count": null,
      "outputs": [
        {
          "output_type": "execute_result",
          "data": {
            "text/plain": [
              "array([[ 0,  1,  2,  3,  4],\n",
              "       [ 5,  6,  7,  8,  9],\n",
              "       [10, 11, 12, 13, 14]])"
            ]
          },
          "metadata": {},
          "execution_count": 92
        }
      ]
    },
    {
      "cell_type": "code",
      "source": [
        "x.ravel()"
      ],
      "metadata": {
        "colab": {
          "base_uri": "https://localhost:8080/"
        },
        "id": "5Brl4UDCIxeF",
        "outputId": "bd993a12-7dcb-499f-ac99-3d9738265ab2"
      },
      "execution_count": null,
      "outputs": [
        {
          "output_type": "execute_result",
          "data": {
            "text/plain": [
              "array([ 0,  1,  2,  3,  4,  5,  6,  7,  8,  9, 10, 11, 12, 13, 14])"
            ]
          },
          "metadata": {},
          "execution_count": 93
        }
      ]
    },
    {
      "cell_type": "code",
      "source": [
        "np.ravel(x)"
      ],
      "metadata": {
        "colab": {
          "base_uri": "https://localhost:8080/"
        },
        "id": "LpGxGtRGIxWi",
        "outputId": "f375f35b-7e1f-410b-b0ec-1a623d02df9e"
      },
      "execution_count": null,
      "outputs": [
        {
          "output_type": "execute_result",
          "data": {
            "text/plain": [
              "array([ 0,  1,  2,  3,  4,  5,  6,  7,  8,  9, 10, 11, 12, 13, 14])"
            ]
          },
          "metadata": {},
          "execution_count": 94
        }
      ]
    },
    {
      "cell_type": "code",
      "source": [
        "np.ravel(x, order='C') # row(행) 방향 (axis 0부터 펼쳐짐)"
      ],
      "metadata": {
        "colab": {
          "base_uri": "https://localhost:8080/"
        },
        "id": "Ly_yVnmZMEKd",
        "outputId": "431158c9-d8fe-4c3a-a3f6-aabf8acbd2d3"
      },
      "execution_count": null,
      "outputs": [
        {
          "output_type": "execute_result",
          "data": {
            "text/plain": [
              "array([ 0,  1,  2,  3,  4,  5,  6,  7,  8,  9, 10, 11, 12, 13, 14])"
            ]
          },
          "metadata": {},
          "execution_count": 95
        }
      ]
    },
    {
      "cell_type": "code",
      "source": [
        "np.ravel(x, order='F') # column 방향으로 (axis -1 부터 펼쳐짐)"
      ],
      "metadata": {
        "colab": {
          "base_uri": "https://localhost:8080/"
        },
        "id": "XKgpq8a3MEHP",
        "outputId": "eb0f5fa8-fd83-4f1a-caf2-50a2fd598b9d"
      },
      "execution_count": null,
      "outputs": [
        {
          "output_type": "execute_result",
          "data": {
            "text/plain": [
              "array([ 0,  5, 10,  1,  6, 11,  2,  7, 12,  3,  8, 13,  4,  9, 14])"
            ]
          },
          "metadata": {},
          "execution_count": 96
        }
      ]
    },
    {
      "cell_type": "markdown",
      "source": [
        "## flatten()\n",
        " - 다차원 배열을 1차원으로 변경\n",
        " - ravel과의 차이점:\n",
        "     - copy를 생성하여 변경함(즉 원본 데이터가 아닌 복사본을 반환)\n",
        "     - ndarray 의 멤버함수로만 제공됨\n",
        " - 'order' 파라미터\n",
        "   - 'C' - row 우선 변경\n",
        "   - 'F - column 우선 변경"
      ],
      "metadata": {
        "id": "XC87V9cuMzgv"
      }
    },
    {
      "cell_type": "code",
      "source": [
        "y = np.arange(15).reshape(3, 5)\n",
        "y"
      ],
      "metadata": {
        "colab": {
          "base_uri": "https://localhost:8080/"
        },
        "id": "bK05OmQOMEDn",
        "outputId": "95a8d446-a150-445c-ce48-478c980a8410"
      },
      "execution_count": null,
      "outputs": [
        {
          "output_type": "execute_result",
          "data": {
            "text/plain": [
              "array([[ 0,  1,  2,  3,  4],\n",
              "       [ 5,  6,  7,  8,  9],\n",
              "       [10, 11, 12, 13, 14]])"
            ]
          },
          "metadata": {},
          "execution_count": 97
        }
      ]
    },
    {
      "cell_type": "code",
      "source": [
        "y.flatten()"
      ],
      "metadata": {
        "colab": {
          "base_uri": "https://localhost:8080/"
        },
        "id": "5OJVAZLTHzeh",
        "outputId": "7ff524e2-8090-4eae-8fd2-8b037c5a2769"
      },
      "execution_count": null,
      "outputs": [
        {
          "output_type": "execute_result",
          "data": {
            "text/plain": [
              "array([ 0,  1,  2,  3,  4,  5,  6,  7,  8,  9, 10, 11, 12, 13, 14])"
            ]
          },
          "metadata": {},
          "execution_count": 98
        }
      ]
    },
    {
      "cell_type": "code",
      "source": [
        "temp = x.ravel()\n",
        "temp"
      ],
      "metadata": {
        "colab": {
          "base_uri": "https://localhost:8080/"
        },
        "id": "AKYM5WTQHzan",
        "outputId": "f89769ee-f251-4964-defd-a614fcb99d5b"
      },
      "execution_count": null,
      "outputs": [
        {
          "output_type": "execute_result",
          "data": {
            "text/plain": [
              "array([ 0,  1,  2,  3,  4,  5,  6,  7,  8,  9, 10, 11, 12, 13, 14])"
            ]
          },
          "metadata": {},
          "execution_count": 99
        }
      ]
    },
    {
      "cell_type": "code",
      "source": [
        "temp[0] = 100\n",
        "temp"
      ],
      "metadata": {
        "colab": {
          "base_uri": "https://localhost:8080/"
        },
        "id": "nedewlqNHzWY",
        "outputId": "a7584160-f421-4c8c-e8a4-e975bbc8e6a9"
      },
      "execution_count": null,
      "outputs": [
        {
          "output_type": "execute_result",
          "data": {
            "text/plain": [
              "array([100,   1,   2,   3,   4,   5,   6,   7,   8,   9,  10,  11,  12,\n",
              "        13,  14])"
            ]
          },
          "metadata": {},
          "execution_count": 100
        }
      ]
    },
    {
      "cell_type": "code",
      "source": [
        "x"
      ],
      "metadata": {
        "colab": {
          "base_uri": "https://localhost:8080/"
        },
        "id": "tbcCLbAtFUU-",
        "outputId": "5d85b7ff-5c04-493b-d3e1-48f424bfd686"
      },
      "execution_count": null,
      "outputs": [
        {
          "output_type": "execute_result",
          "data": {
            "text/plain": [
              "array([[100,   1,   2,   3,   4],\n",
              "       [  5,   6,   7,   8,   9],\n",
              "       [ 10,  11,  12,  13,  14]])"
            ]
          },
          "metadata": {},
          "execution_count": 101
        }
      ]
    },
    {
      "cell_type": "code",
      "source": [
        "temp2 = y.flatten() # 데이터의 복사본을 생성함\n",
        "temp2"
      ],
      "metadata": {
        "colab": {
          "base_uri": "https://localhost:8080/"
        },
        "id": "3Hbw5jri6SpM",
        "outputId": "ea9110bb-39cf-47cd-d42f-870a7e0f032e"
      },
      "execution_count": null,
      "outputs": [
        {
          "output_type": "execute_result",
          "data": {
            "text/plain": [
              "array([ 0,  1,  2,  3,  4,  5,  6,  7,  8,  9, 10, 11, 12, 13, 14])"
            ]
          },
          "metadata": {},
          "execution_count": 102
        }
      ]
    },
    {
      "cell_type": "code",
      "source": [
        "temp2[0]=100\n",
        "temp2"
      ],
      "metadata": {
        "colab": {
          "base_uri": "https://localhost:8080/"
        },
        "id": "LWWlX0buN9YB",
        "outputId": "2768d074-e893-418d-fa25-d78ca707ee2b"
      },
      "execution_count": null,
      "outputs": [
        {
          "output_type": "execute_result",
          "data": {
            "text/plain": [
              "array([100,   1,   2,   3,   4,   5,   6,   7,   8,   9,  10,  11,  12,\n",
              "        13,  14])"
            ]
          },
          "metadata": {},
          "execution_count": 103
        }
      ]
    },
    {
      "cell_type": "code",
      "source": [
        "y"
      ],
      "metadata": {
        "colab": {
          "base_uri": "https://localhost:8080/"
        },
        "id": "h-K0EmSlN9Rv",
        "outputId": "39a9b3fe-f560-4f9c-df84-3e58394a0864"
      },
      "execution_count": null,
      "outputs": [
        {
          "output_type": "execute_result",
          "data": {
            "text/plain": [
              "array([[ 0,  1,  2,  3,  4],\n",
              "       [ 5,  6,  7,  8,  9],\n",
              "       [10, 11, 12, 13, 14]])"
            ]
          },
          "metadata": {},
          "execution_count": 104
        }
      ]
    },
    {
      "cell_type": "markdown",
      "source": [
        "## reshape 함수\n",
        " - array의 shape을 다른 차원으로 변경\n",
        " - 주의할점은 reshape한 후의 결과의 전체 원소 개수와 이전 개수가 같아야 가능\n",
        " - 사용 예) 이미지 데이터 벡터화 - 이미지는 기본적으로 2차원 혹은 3차원(RGB)이나 트레이닝을 위해 1차원으로 변경하여 사용 됨\n",
        " - **-1** 값을 주어 나머지 차원을 유추하게 할수 있다\n"
      ],
      "metadata": {
        "id": "m7oIDi27OaZk"
      }
    },
    {
      "cell_type": "code",
      "source": [
        "x2 = np.arange(36)\n",
        "x2"
      ],
      "metadata": {
        "colab": {
          "base_uri": "https://localhost:8080/"
        },
        "id": "CnR0VcirN9Lw",
        "outputId": "85006f28-9a26-477f-858d-2e81c8be81ab"
      },
      "execution_count": null,
      "outputs": [
        {
          "output_type": "execute_result",
          "data": {
            "text/plain": [
              "array([ 0,  1,  2,  3,  4,  5,  6,  7,  8,  9, 10, 11, 12, 13, 14, 15, 16,\n",
              "       17, 18, 19, 20, 21, 22, 23, 24, 25, 26, 27, 28, 29, 30, 31, 32, 33,\n",
              "       34, 35])"
            ]
          },
          "metadata": {},
          "execution_count": 105
        }
      ]
    },
    {
      "cell_type": "code",
      "source": [
        "x2.reshape(6, 6)"
      ],
      "metadata": {
        "colab": {
          "base_uri": "https://localhost:8080/"
        },
        "id": "gcIQtRU8N9Ib",
        "outputId": "b180dd80-d10c-49d3-fac5-89f7dcd4cea6"
      },
      "execution_count": null,
      "outputs": [
        {
          "output_type": "execute_result",
          "data": {
            "text/plain": [
              "array([[ 0,  1,  2,  3,  4,  5],\n",
              "       [ 6,  7,  8,  9, 10, 11],\n",
              "       [12, 13, 14, 15, 16, 17],\n",
              "       [18, 19, 20, 21, 22, 23],\n",
              "       [24, 25, 26, 27, 28, 29],\n",
              "       [30, 31, 32, 33, 34, 35]])"
            ]
          },
          "metadata": {},
          "execution_count": 106
        }
      ]
    },
    {
      "cell_type": "code",
      "source": [
        "x2.reshape(6, -1)"
      ],
      "metadata": {
        "colab": {
          "base_uri": "https://localhost:8080/"
        },
        "id": "wABMw827N9Fm",
        "outputId": "f11e8b9e-16e7-4274-d5e8-c9974780da9d"
      },
      "execution_count": null,
      "outputs": [
        {
          "output_type": "execute_result",
          "data": {
            "text/plain": [
              "array([[ 0,  1,  2,  3,  4,  5],\n",
              "       [ 6,  7,  8,  9, 10, 11],\n",
              "       [12, 13, 14, 15, 16, 17],\n",
              "       [18, 19, 20, 21, 22, 23],\n",
              "       [24, 25, 26, 27, 28, 29],\n",
              "       [30, 31, 32, 33, 34, 35]])"
            ]
          },
          "metadata": {},
          "execution_count": 107
        }
      ]
    },
    {
      "cell_type": "code",
      "source": [
        "x2. reshape(6, -1, 2)"
      ],
      "metadata": {
        "colab": {
          "base_uri": "https://localhost:8080/"
        },
        "id": "E4gJ-TocN9CF",
        "outputId": "70777ecd-257a-4f05-ba80-70b33dde79be"
      },
      "execution_count": null,
      "outputs": [
        {
          "output_type": "execute_result",
          "data": {
            "text/plain": [
              "array([[[ 0,  1],\n",
              "        [ 2,  3],\n",
              "        [ 4,  5]],\n",
              "\n",
              "       [[ 6,  7],\n",
              "        [ 8,  9],\n",
              "        [10, 11]],\n",
              "\n",
              "       [[12, 13],\n",
              "        [14, 15],\n",
              "        [16, 17]],\n",
              "\n",
              "       [[18, 19],\n",
              "        [20, 21],\n",
              "        [22, 23]],\n",
              "\n",
              "       [[24, 25],\n",
              "        [26, 27],\n",
              "        [28, 29]],\n",
              "\n",
              "       [[30, 31],\n",
              "        [32, 33],\n",
              "        [34, 35]]])"
            ]
          },
          "metadata": {},
          "execution_count": 108
        }
      ]
    },
    {
      "cell_type": "markdown",
      "source": [
        "## 차원 확장 / 제거\n",
        "\n",
        "- 차원 확장/제거 하는 동작도 머신러닝에서 많이 사용된다.\n",
        "- **reshape()** 로 차원 변환(확장/제거) 자유롭게 가능\n",
        "\n",
        "## 차원 확장 : np.expand_dims()\n",
        "- axis로 지정된 '차원을 추가'한다.\n",
        "\n",
        "\n",
        "## 차원 자동 제거 : squeeze, np.squeeze()\n",
        "\n",
        "- 차원 중 사이즈가 1인 것을 찾아 스칼라값으로 바꿔 해당 '차원을 제거'한다.\n"
      ],
      "metadata": {
        "id": "av2I2xeWPJOs"
      }
    },
    {
      "cell_type": "code",
      "source": [
        "x3 = np.arange(6)\n",
        "x3"
      ],
      "metadata": {
        "colab": {
          "base_uri": "https://localhost:8080/"
        },
        "id": "kl6TBMPVPFfy",
        "outputId": "4f9114ca-60ad-41ce-ad65-305e3dc0dedf"
      },
      "execution_count": null,
      "outputs": [
        {
          "output_type": "execute_result",
          "data": {
            "text/plain": [
              "array([0, 1, 2, 3, 4, 5])"
            ]
          },
          "metadata": {},
          "execution_count": 109
        }
      ]
    },
    {
      "cell_type": "code",
      "source": [
        "x3.shape"
      ],
      "metadata": {
        "colab": {
          "base_uri": "https://localhost:8080/"
        },
        "id": "ado-3CRVPFb3",
        "outputId": "5874fb87-294d-4b27-a564-cbb7c49eeca1"
      },
      "execution_count": null,
      "outputs": [
        {
          "output_type": "execute_result",
          "data": {
            "text/plain": [
              "(6,)"
            ]
          },
          "metadata": {},
          "execution_count": 110
        }
      ]
    },
    {
      "cell_type": "code",
      "source": [
        "x3 = x3.reshape(6, 1) # 차원 확장\n",
        "x3"
      ],
      "metadata": {
        "colab": {
          "base_uri": "https://localhost:8080/"
        },
        "id": "7QBKXLduPFYa",
        "outputId": "bd78ff95-8662-4742-e9a8-0e7a2e4bcdd0"
      },
      "execution_count": null,
      "outputs": [
        {
          "output_type": "execute_result",
          "data": {
            "text/plain": [
              "array([[0],\n",
              "       [1],\n",
              "       [2],\n",
              "       [3],\n",
              "       [4],\n",
              "       [5]])"
            ]
          },
          "metadata": {},
          "execution_count": 111
        }
      ]
    },
    {
      "cell_type": "code",
      "source": [
        "x3.shape"
      ],
      "metadata": {
        "colab": {
          "base_uri": "https://localhost:8080/"
        },
        "id": "lML6W7vPPFU6",
        "outputId": "50edb8db-93a7-4414-dc55-a9178df3490e"
      },
      "execution_count": null,
      "outputs": [
        {
          "output_type": "execute_result",
          "data": {
            "text/plain": [
              "(6, 1)"
            ]
          },
          "metadata": {},
          "execution_count": 112
        }
      ]
    },
    {
      "cell_type": "code",
      "source": [
        "x3 = x3.reshape(6, 1, 1)\n",
        "x3"
      ],
      "metadata": {
        "colab": {
          "base_uri": "https://localhost:8080/"
        },
        "id": "91bFI9DqPFQx",
        "outputId": "a36b200f-76d5-4123-cf83-d36aa7b61d74"
      },
      "execution_count": null,
      "outputs": [
        {
          "output_type": "execute_result",
          "data": {
            "text/plain": [
              "array([[[0]],\n",
              "\n",
              "       [[1]],\n",
              "\n",
              "       [[2]],\n",
              "\n",
              "       [[3]],\n",
              "\n",
              "       [[4]],\n",
              "\n",
              "       [[5]]])"
            ]
          },
          "metadata": {},
          "execution_count": 113
        }
      ]
    },
    {
      "cell_type": "code",
      "source": [
        "x3 = x3.reshape(6, )\n",
        "x3"
      ],
      "metadata": {
        "colab": {
          "base_uri": "https://localhost:8080/"
        },
        "id": "vALoH9L8Pqr8",
        "outputId": "89fd1c45-79d6-4fde-f036-b93a9b081877"
      },
      "execution_count": null,
      "outputs": [
        {
          "output_type": "execute_result",
          "data": {
            "text/plain": [
              "array([0, 1, 2, 3, 4, 5])"
            ]
          },
          "metadata": {},
          "execution_count": 114
        }
      ]
    },
    {
      "cell_type": "code",
      "source": [
        "x3 = x3.reshape(6, 1)\n",
        "x3"
      ],
      "metadata": {
        "colab": {
          "base_uri": "https://localhost:8080/"
        },
        "id": "aigaiPHeN8-5",
        "outputId": "65817ad5-0a58-485b-a3e2-d0776c40e784"
      },
      "execution_count": null,
      "outputs": [
        {
          "output_type": "execute_result",
          "data": {
            "text/plain": [
              "array([[0],\n",
              "       [1],\n",
              "       [2],\n",
              "       [3],\n",
              "       [4],\n",
              "       [5]])"
            ]
          },
          "metadata": {},
          "execution_count": 115
        }
      ]
    },
    {
      "cell_type": "code",
      "source": [
        "x3 = x3.reshape(1, 1, 1, 6)\n",
        "x3"
      ],
      "metadata": {
        "colab": {
          "base_uri": "https://localhost:8080/"
        },
        "id": "wLkvLDN1N87q",
        "outputId": "3c95b977-c523-4493-fedf-0b7ee509a04d"
      },
      "execution_count": null,
      "outputs": [
        {
          "output_type": "execute_result",
          "data": {
            "text/plain": [
              "array([[[[0, 1, 2, 3, 4, 5]]]])"
            ]
          },
          "metadata": {},
          "execution_count": 116
        }
      ]
    },
    {
      "cell_type": "code",
      "source": [
        "x3.squeeze() # 차원크기가 1인 차원을 제거"
      ],
      "metadata": {
        "colab": {
          "base_uri": "https://localhost:8080/"
        },
        "id": "AKiygrfyN84O",
        "outputId": "82757d8c-eafa-4f10-97f1-c3e6f58a85d3"
      },
      "execution_count": null,
      "outputs": [
        {
          "output_type": "execute_result",
          "data": {
            "text/plain": [
              "array([0, 1, 2, 3, 4, 5])"
            ]
          },
          "metadata": {},
          "execution_count": 117
        }
      ]
    },
    {
      "cell_type": "code",
      "source": [
        "x4 = np.arange(4).reshape((2, 1, 2))\n",
        "x4"
      ],
      "metadata": {
        "colab": {
          "base_uri": "https://localhost:8080/"
        },
        "id": "8ghS_dvtQVFE",
        "outputId": "e169b553-c1ed-4307-9633-514cbb0210b0"
      },
      "execution_count": null,
      "outputs": [
        {
          "output_type": "execute_result",
          "data": {
            "text/plain": [
              "array([[[0, 1]],\n",
              "\n",
              "       [[2, 3]]])"
            ]
          },
          "metadata": {},
          "execution_count": 118
        }
      ]
    },
    {
      "cell_type": "code",
      "source": [
        "x4.squeeze()"
      ],
      "metadata": {
        "colab": {
          "base_uri": "https://localhost:8080/"
        },
        "id": "27gAsWybQVBk",
        "outputId": "c0cff6fb-d189-40ff-8856-89d5eb6110a9"
      },
      "execution_count": null,
      "outputs": [
        {
          "output_type": "execute_result",
          "data": {
            "text/plain": [
              "array([[0, 1],\n",
              "       [2, 3]])"
            ]
          },
          "metadata": {},
          "execution_count": 119
        }
      ]
    },
    {
      "cell_type": "code",
      "source": [
        "x5 = np.arange(3) #(3,)\n",
        "x5"
      ],
      "metadata": {
        "colab": {
          "base_uri": "https://localhost:8080/"
        },
        "id": "-Pq8aVFyQU9_",
        "outputId": "25be4d10-ddf2-4e7a-a1ff-8deb8608fabe"
      },
      "execution_count": null,
      "outputs": [
        {
          "output_type": "execute_result",
          "data": {
            "text/plain": [
              "array([0, 1, 2])"
            ]
          },
          "metadata": {},
          "execution_count": 120
        }
      ]
    },
    {
      "cell_type": "code",
      "source": [
        "y5 = np.expand_dims(x5, axis=0) #0번째 차원축(axis)에 새로운 차원 추가(삽입)\n",
        "y5"
      ],
      "metadata": {
        "colab": {
          "base_uri": "https://localhost:8080/"
        },
        "id": "smC1YUT0QU6Z",
        "outputId": "89bc4ba9-8ece-40fd-b3bc-cd8e905478d8"
      },
      "execution_count": null,
      "outputs": [
        {
          "output_type": "execute_result",
          "data": {
            "text/plain": [
              "array([[0, 1, 2]])"
            ]
          },
          "metadata": {},
          "execution_count": 121
        }
      ]
    },
    {
      "cell_type": "code",
      "source": [
        "y5.shape"
      ],
      "metadata": {
        "colab": {
          "base_uri": "https://localhost:8080/"
        },
        "id": "HWqatVmMQU26",
        "outputId": "30892a11-68b2-4216-c00a-c21c35317b81"
      },
      "execution_count": null,
      "outputs": [
        {
          "output_type": "execute_result",
          "data": {
            "text/plain": [
              "(1, 3)"
            ]
          },
          "metadata": {},
          "execution_count": 122
        }
      ]
    },
    {
      "cell_type": "code",
      "source": [
        "x6 = np.arange(4).reshape(2, 2)\n",
        "x6"
      ],
      "metadata": {
        "colab": {
          "base_uri": "https://localhost:8080/"
        },
        "id": "6KPXPA8ZQUzB",
        "outputId": "c951be22-f677-4442-bd17-e6a30a9254a0"
      },
      "execution_count": null,
      "outputs": [
        {
          "output_type": "execute_result",
          "data": {
            "text/plain": [
              "array([[0, 1],\n",
              "       [2, 3]])"
            ]
          },
          "metadata": {},
          "execution_count": 123
        }
      ]
    },
    {
      "cell_type": "code",
      "source": [
        "# (2, 2) -> (2, 2, 1)\n",
        "\n",
        "y7 = np.expand_dims(x6, axis=2)\n",
        "y7"
      ],
      "metadata": {
        "colab": {
          "base_uri": "https://localhost:8080/"
        },
        "id": "xSHhx8BaN802",
        "outputId": "90672976-f858-4cbe-9524-68eba6fe4e16"
      },
      "execution_count": null,
      "outputs": [
        {
          "output_type": "execute_result",
          "data": {
            "text/plain": [
              "array([[[0],\n",
              "        [1]],\n",
              "\n",
              "       [[2],\n",
              "        [3]]])"
            ]
          },
          "metadata": {},
          "execution_count": 124
        }
      ]
    },
    {
      "cell_type": "code",
      "source": [
        "a = np.array([2, 0, 1, 8])\n",
        "a"
      ],
      "metadata": {
        "colab": {
          "base_uri": "https://localhost:8080/"
        },
        "id": "94M54ozJSLS5",
        "outputId": "d42072ec-b755-493e-9ab8-1d518f29b043"
      },
      "execution_count": null,
      "outputs": [
        {
          "output_type": "execute_result",
          "data": {
            "text/plain": [
              "array([2, 0, 1, 8])"
            ]
          },
          "metadata": {},
          "execution_count": 125
        }
      ]
    },
    {
      "cell_type": "code",
      "source": [
        "# (4,) ->(1.4)\n",
        "\n",
        "a1 = a[np.newaxis,:]\n",
        "print(a1.shape)\n",
        "a1"
      ],
      "metadata": {
        "colab": {
          "base_uri": "https://localhost:8080/"
        },
        "id": "env3UxlFSDA8",
        "outputId": "43cd267c-81e1-4252-bea7-b6b564d7a5f8"
      },
      "execution_count": null,
      "outputs": [
        {
          "output_type": "stream",
          "name": "stdout",
          "text": [
            "(1, 4)\n"
          ]
        },
        {
          "output_type": "execute_result",
          "data": {
            "text/plain": [
              "array([[2, 0, 1, 8]])"
            ]
          },
          "metadata": {},
          "execution_count": 126
        }
      ]
    },
    {
      "cell_type": "code",
      "source": [
        "# ↑ 1차원 벡터를 'row vector' 로 변환한다 라고도 함."
      ],
      "metadata": {
        "id": "JK5MW3lFTQzp"
      },
      "execution_count": null,
      "outputs": []
    },
    {
      "cell_type": "code",
      "source": [
        "a2 = a[:, np.newaxis] # (4,) -> (4,1)\n",
        "print(a2.shape)\n",
        "a2"
      ],
      "metadata": {
        "colab": {
          "base_uri": "https://localhost:8080/"
        },
        "id": "2HD1N47CSC9W",
        "outputId": "b0ad3e13-14a7-4230-bd77-bc24d4019a19"
      },
      "execution_count": null,
      "outputs": [
        {
          "output_type": "stream",
          "name": "stdout",
          "text": [
            "(4, 1)\n"
          ]
        },
        {
          "output_type": "execute_result",
          "data": {
            "text/plain": [
              "array([[2],\n",
              "       [0],\n",
              "       [1],\n",
              "       [8]])"
            ]
          },
          "metadata": {},
          "execution_count": 128
        }
      ]
    },
    {
      "cell_type": "code",
      "source": [
        "# ↑ 1차원 벡터를 'column vector' 로 변환한다 라고도 함."
      ],
      "metadata": {
        "id": "p3FqiWSNSC50"
      },
      "execution_count": null,
      "outputs": []
    },
    {
      "cell_type": "markdown",
      "source": [
        "# transpose, T,  swapaxes\n",
        "전치행렬 (transpose matrix) , 차원 축 바꾸기\n",
        "\n",
        "![](https://img1.daumcdn.net/thumb/R1280x0/?scode=mtistory2&fname=https%3A%2F%2Fblog.kakaocdn.net%2Fdn%2FbtmNz3%2FbtqDk6Xy5nh%2FD7U80E2R3fnahK00cijoY1%2Fimg.png)\n"
      ],
      "metadata": {
        "id": "ne0OS4JITb7F"
      }
    },
    {
      "cell_type": "code",
      "source": [
        "a = np.arange(15).reshape(3, 5)\n",
        "a"
      ],
      "metadata": {
        "colab": {
          "base_uri": "https://localhost:8080/"
        },
        "id": "f_m1rBORSC2T",
        "outputId": "db028f4e-32e2-4526-86cd-b708f1e4de40"
      },
      "execution_count": null,
      "outputs": [
        {
          "output_type": "execute_result",
          "data": {
            "text/plain": [
              "array([[ 0,  1,  2,  3,  4],\n",
              "       [ 5,  6,  7,  8,  9],\n",
              "       [10, 11, 12, 13, 14]])"
            ]
          },
          "metadata": {},
          "execution_count": 130
        }
      ]
    },
    {
      "cell_type": "code",
      "source": [
        "np.transpose(a) #(3, 5) -> (5,3)"
      ],
      "metadata": {
        "colab": {
          "base_uri": "https://localhost:8080/"
        },
        "id": "tNExCDDlSCy7",
        "outputId": "ea1c4c8c-c8a3-4254-a30f-f52d58d338f1"
      },
      "execution_count": null,
      "outputs": [
        {
          "output_type": "execute_result",
          "data": {
            "text/plain": [
              "array([[ 0,  5, 10],\n",
              "       [ 1,  6, 11],\n",
              "       [ 2,  7, 12],\n",
              "       [ 3,  8, 13],\n",
              "       [ 4,  9, 14]])"
            ]
          },
          "metadata": {},
          "execution_count": 131
        }
      ]
    },
    {
      "cell_type": "code",
      "source": [
        "a.T"
      ],
      "metadata": {
        "colab": {
          "base_uri": "https://localhost:8080/"
        },
        "id": "W4BhwcbeSCvf",
        "outputId": "a3f1d68e-a9fa-4eee-d460-fcb61e5ffb1b"
      },
      "execution_count": null,
      "outputs": [
        {
          "output_type": "execute_result",
          "data": {
            "text/plain": [
              "array([[ 0,  5, 10],\n",
              "       [ 1,  6, 11],\n",
              "       [ 2,  7, 12],\n",
              "       [ 3,  8, 13],\n",
              "       [ 4,  9, 14]])"
            ]
          },
          "metadata": {},
          "execution_count": 132
        }
      ]
    },
    {
      "cell_type": "code",
      "source": [
        "np.swapaxes(a, 0, 1) # axis 0과 axis 1을 바꾸기"
      ],
      "metadata": {
        "colab": {
          "base_uri": "https://localhost:8080/"
        },
        "id": "OVmVlFsmSCr6",
        "outputId": "3c0a05d6-c9e8-4b5f-d87e-81726cc2c918"
      },
      "execution_count": null,
      "outputs": [
        {
          "output_type": "execute_result",
          "data": {
            "text/plain": [
              "array([[ 0,  5, 10],\n",
              "       [ 1,  6, 11],\n",
              "       [ 2,  7, 12],\n",
              "       [ 3,  8, 13],\n",
              "       [ 4,  9, 14]])"
            ]
          },
          "metadata": {},
          "execution_count": 133
        }
      ]
    },
    {
      "cell_type": "markdown",
      "source": [
        "# 기본연산, 기본함수"
      ],
      "metadata": {
        "id": "sKnii5Y5UyFo"
      }
    },
    {
      "cell_type": "code",
      "source": [
        "x = np.arange(15).reshape(3, 5)\n",
        "y = np.arange(0, 150, 10).reshape(3, 5)\n",
        "y2 = np.random.rand(15).reshape(3, 5)\n",
        "y3 = np.arange(15).reshape(5, 3)"
      ],
      "metadata": {
        "id": "2EPqafcESCop"
      },
      "execution_count": null,
      "outputs": []
    },
    {
      "cell_type": "code",
      "source": [
        "x"
      ],
      "metadata": {
        "colab": {
          "base_uri": "https://localhost:8080/"
        },
        "id": "10rZb5iUSClS",
        "outputId": "a8bf63b1-bff1-4062-c68d-b7c08fc31a2f"
      },
      "execution_count": null,
      "outputs": [
        {
          "output_type": "execute_result",
          "data": {
            "text/plain": [
              "array([[ 0,  1,  2,  3,  4],\n",
              "       [ 5,  6,  7,  8,  9],\n",
              "       [10, 11, 12, 13, 14]])"
            ]
          },
          "metadata": {},
          "execution_count": 135
        }
      ]
    },
    {
      "cell_type": "code",
      "source": [
        "y"
      ],
      "metadata": {
        "colab": {
          "base_uri": "https://localhost:8080/"
        },
        "id": "nu6A6By0SCh4",
        "outputId": "0c8ec8f4-6118-40a4-93fb-27084fc5430a"
      },
      "execution_count": null,
      "outputs": [
        {
          "output_type": "execute_result",
          "data": {
            "text/plain": [
              "array([[  0,  10,  20,  30,  40],\n",
              "       [ 50,  60,  70,  80,  90],\n",
              "       [100, 110, 120, 130, 140]])"
            ]
          },
          "metadata": {},
          "execution_count": 136
        }
      ]
    },
    {
      "cell_type": "code",
      "source": [
        "y2"
      ],
      "metadata": {
        "colab": {
          "base_uri": "https://localhost:8080/"
        },
        "id": "c4OcihCcSCdw",
        "outputId": "57f9c686-eb89-4776-8d9e-731ed777c159"
      },
      "execution_count": null,
      "outputs": [
        {
          "output_type": "execute_result",
          "data": {
            "text/plain": [
              "array([[0.4236548 , 0.64589411, 0.43758721, 0.891773  , 0.96366276],\n",
              "       [0.38344152, 0.79172504, 0.52889492, 0.56804456, 0.92559664],\n",
              "       [0.07103606, 0.0871293 , 0.0202184 , 0.83261985, 0.77815675]])"
            ]
          },
          "metadata": {},
          "execution_count": 137
        }
      ]
    },
    {
      "cell_type": "code",
      "execution_count": null,
      "metadata": {
        "colab": {
          "base_uri": "https://localhost:8080/"
        },
        "id": "oo3mmR9GyjU2",
        "outputId": "ededff18-0c6a-41c9-bff4-89d7d756cf78"
      },
      "outputs": [
        {
          "output_type": "execute_result",
          "data": {
            "text/plain": [
              "array([[ 0,  1,  2],\n",
              "       [ 3,  4,  5],\n",
              "       [ 6,  7,  8],\n",
              "       [ 9, 10, 11],\n",
              "       [12, 13, 14]])"
            ]
          },
          "metadata": {},
          "execution_count": 138
        }
      ],
      "source": [
        "y3"
      ]
    },
    {
      "cell_type": "markdown",
      "source": [
        "# array 간 연산"
      ],
      "metadata": {
        "id": "s_UIe_gdVFoX"
      }
    },
    {
      "cell_type": "code",
      "source": [
        "# 리스트의 경우\n",
        "a = [10, 20, 30, 40]\n",
        "b = 2\n",
        "c = [100, 200, 300, 400]\n"
      ],
      "metadata": {
        "id": "dZKQpeXJVDb3"
      },
      "execution_count": null,
      "outputs": []
    },
    {
      "cell_type": "code",
      "source": [
        "a * 2"
      ],
      "metadata": {
        "colab": {
          "base_uri": "https://localhost:8080/"
        },
        "id": "tHGmhtzWVDYL",
        "outputId": "7a6670d1-5952-4176-d834-7e23997608f1"
      },
      "execution_count": null,
      "outputs": [
        {
          "output_type": "execute_result",
          "data": {
            "text/plain": [
              "[10, 20, 30, 40, 10, 20, 30, 40]"
            ]
          },
          "metadata": {},
          "execution_count": 140
        }
      ]
    },
    {
      "cell_type": "code",
      "source": [
        "a+c"
      ],
      "metadata": {
        "colab": {
          "base_uri": "https://localhost:8080/"
        },
        "id": "ypOUXcL9VDUi",
        "outputId": "1db9d4f3-cee7-4094-90ff-90467bae706f"
      },
      "execution_count": null,
      "outputs": [
        {
          "output_type": "execute_result",
          "data": {
            "text/plain": [
              "[10, 20, 30, 40, 100, 200, 300, 400]"
            ]
          },
          "metadata": {},
          "execution_count": 141
        }
      ]
    },
    {
      "cell_type": "code",
      "source": [
        "# array 연산은 리스트와 다르다!\n",
        "# 기본적으로 '원소' 끼리 연산\n"
      ],
      "metadata": {
        "id": "ZJKihs8kVDQ3"
      },
      "execution_count": null,
      "outputs": []
    },
    {
      "cell_type": "code",
      "source": [
        "x + y"
      ],
      "metadata": {
        "colab": {
          "base_uri": "https://localhost:8080/"
        },
        "id": "pVK-jqEUVDNA",
        "outputId": "56de9b68-58bd-4684-8709-d046e14874c7"
      },
      "execution_count": null,
      "outputs": [
        {
          "output_type": "execute_result",
          "data": {
            "text/plain": [
              "array([[  0,  11,  22,  33,  44],\n",
              "       [ 55,  66,  77,  88,  99],\n",
              "       [110, 121, 132, 143, 154]])"
            ]
          },
          "metadata": {},
          "execution_count": 143
        }
      ]
    },
    {
      "cell_type": "code",
      "source": [
        "# 단일값만 갖고 있는 객체와는 shape 관계없이, scalar 연산 수행\n"
      ],
      "metadata": {
        "id": "U0ewN2KDWT7t"
      },
      "execution_count": null,
      "outputs": []
    },
    {
      "cell_type": "code",
      "source": [
        "x + 10"
      ],
      "metadata": {
        "colab": {
          "base_uri": "https://localhost:8080/"
        },
        "id": "RyZKwZ-gVDJb",
        "outputId": "8c649c0e-9c68-471d-b521-c42674233a1d"
      },
      "execution_count": null,
      "outputs": [
        {
          "output_type": "execute_result",
          "data": {
            "text/plain": [
              "array([[10, 11, 12, 13, 14],\n",
              "       [15, 16, 17, 18, 19],\n",
              "       [20, 21, 22, 23, 24]])"
            ]
          },
          "metadata": {},
          "execution_count": 145
        }
      ]
    },
    {
      "cell_type": "code",
      "source": [
        "x + [10]"
      ],
      "metadata": {
        "colab": {
          "base_uri": "https://localhost:8080/"
        },
        "id": "b2okpNsnVDFQ",
        "outputId": "7dba8008-109f-401a-bde6-121d719d2022"
      },
      "execution_count": null,
      "outputs": [
        {
          "output_type": "execute_result",
          "data": {
            "text/plain": [
              "array([[10, 11, 12, 13, 14],\n",
              "       [15, 16, 17, 18, 19],\n",
              "       [20, 21, 22, 23, 24]])"
            ]
          },
          "metadata": {},
          "execution_count": 146
        }
      ]
    },
    {
      "cell_type": "code",
      "source": [
        "x +[[10]]"
      ],
      "metadata": {
        "colab": {
          "base_uri": "https://localhost:8080/"
        },
        "id": "Xn_a9l1VVDBt",
        "outputId": "c4c387bc-a13a-4cc5-c453-41f0dc95426b"
      },
      "execution_count": null,
      "outputs": [
        {
          "output_type": "execute_result",
          "data": {
            "text/plain": [
              "array([[10, 11, 12, 13, 14],\n",
              "       [15, 16, 17, 18, 19],\n",
              "       [20, 21, 22, 23, 24]])"
            ]
          },
          "metadata": {},
          "execution_count": 147
        }
      ]
    },
    {
      "cell_type": "code",
      "source": [
        "x + np.array(10)"
      ],
      "metadata": {
        "colab": {
          "base_uri": "https://localhost:8080/"
        },
        "id": "JZ-nWhgAVC-b",
        "outputId": "5222b167-0797-40fa-d278-6ea060fee624"
      },
      "execution_count": null,
      "outputs": [
        {
          "output_type": "execute_result",
          "data": {
            "text/plain": [
              "array([[10, 11, 12, 13, 14],\n",
              "       [15, 16, 17, 18, 19],\n",
              "       [20, 21, 22, 23, 24]])"
            ]
          },
          "metadata": {},
          "execution_count": 148
        }
      ]
    },
    {
      "cell_type": "markdown",
      "source": [
        "# axis (차원축)"
      ],
      "metadata": {
        "id": "QACakaSIh3HR"
      }
    },
    {
      "cell_type": "code",
      "source": [
        "\"\"\"\n",
        "numpy 의 많은 함수들은 axis=  파라미터를 갖고 있습니다.\n",
        "axis (축) 은 각 '차원' 을 의미합니다.\n",
        "1차원 array 라면  각 차원에 대한 axis 값은 0  <- 1개 입니다.\n",
        "2차원 array 라면  각 차원에 대한 axis 값은 0, 1  <- 2개 입니다.\n",
        "3차원 array 라면  각 차원에 대한 axis 값은 0, 1, 2  <- 3개 입니다.\n",
        "\n",
        "axis= 값을 명시하면 그 함수의 연산 은 해당 axis(축) 에 '따라서' 연산을 수행함\n",
        "\n",
        "과연 '따라서' 의 의미가 무엇인지 실습을 통해 이해해봅시다\n",
        "\"\"\"\n",
        "None"
      ],
      "metadata": {
        "id": "pff6-jgehNMv"
      },
      "execution_count": null,
      "outputs": []
    },
    {
      "cell_type": "code",
      "source": [
        "x1 = np.arange(15)\n",
        "x1"
      ],
      "metadata": {
        "colab": {
          "base_uri": "https://localhost:8080/"
        },
        "id": "2eV6gncwhNJi",
        "outputId": "0cdf5025-95c3-4a4d-9b71-d80cc5858d12"
      },
      "execution_count": null,
      "outputs": [
        {
          "output_type": "execute_result",
          "data": {
            "text/plain": [
              "array([ 0,  1,  2,  3,  4,  5,  6,  7,  8,  9, 10, 11, 12, 13, 14])"
            ]
          },
          "metadata": {},
          "execution_count": 150
        }
      ]
    },
    {
      "cell_type": "code",
      "source": [
        "np.sum(x1)"
      ],
      "metadata": {
        "colab": {
          "base_uri": "https://localhost:8080/"
        },
        "id": "vARUSaiNhNDv",
        "outputId": "977c0989-aa48-49cf-8dc5-2e1f9f85f279"
      },
      "execution_count": null,
      "outputs": [
        {
          "output_type": "execute_result",
          "data": {
            "text/plain": [
              "105"
            ]
          },
          "metadata": {},
          "execution_count": 152
        }
      ]
    },
    {
      "cell_type": "code",
      "source": [
        "x2 = x1.reshape(3, 5)"
      ],
      "metadata": {
        "id": "JatZzCDbhNAp"
      },
      "execution_count": null,
      "outputs": []
    },
    {
      "cell_type": "code",
      "source": [
        "x2"
      ],
      "metadata": {
        "colab": {
          "base_uri": "https://localhost:8080/"
        },
        "id": "27cwIo3IhM9t",
        "outputId": "172f5e89-c22c-463c-a3cf-9263bd0a78e7"
      },
      "execution_count": null,
      "outputs": [
        {
          "output_type": "execute_result",
          "data": {
            "text/plain": [
              "array([[ 0,  1,  2,  3,  4],\n",
              "       [ 5,  6,  7,  8,  9],\n",
              "       [10, 11, 12, 13, 14]])"
            ]
          },
          "metadata": {},
          "execution_count": 154
        }
      ]
    },
    {
      "cell_type": "code",
      "source": [
        "x2.shape\n",
        "# (행, 열)\n",
        "# (axis 0, axis 1)"
      ],
      "metadata": {
        "colab": {
          "base_uri": "https://localhost:8080/"
        },
        "id": "0rky6R07hM6u",
        "outputId": "8165f42f-d73e-4dbb-a03a-f30112bb0de4"
      },
      "execution_count": null,
      "outputs": [
        {
          "output_type": "execute_result",
          "data": {
            "text/plain": [
              "(3, 5)"
            ]
          },
          "metadata": {},
          "execution_count": 157
        }
      ]
    },
    {
      "cell_type": "code",
      "source": [
        "np.sum(x2) #axis = 0"
      ],
      "metadata": {
        "colab": {
          "base_uri": "https://localhost:8080/"
        },
        "id": "-QLRxIv5hM3r",
        "outputId": "94d9f7ee-dd26-43ce-92dd-64faba56497e"
      },
      "execution_count": null,
      "outputs": [
        {
          "output_type": "execute_result",
          "data": {
            "text/plain": [
              "105"
            ]
          },
          "metadata": {},
          "execution_count": 159
        }
      ]
    },
    {
      "cell_type": "code",
      "source": [
        "np.sum(x2, axis=1)"
      ],
      "metadata": {
        "colab": {
          "base_uri": "https://localhost:8080/"
        },
        "id": "E1RfH0CkhM0t",
        "outputId": "2726a2d9-5b2a-47be-a705-ec39a4fe69ae"
      },
      "execution_count": null,
      "outputs": [
        {
          "output_type": "execute_result",
          "data": {
            "text/plain": [
              "array([10, 35, 60])"
            ]
          },
          "metadata": {},
          "execution_count": 160
        }
      ]
    },
    {
      "cell_type": "code",
      "source": [
        "np.sum(x2, axis=0) # (3,5) -> (5,)\n",
        "\n",
        "# 15 = 0 + 5 + 10\n",
        "# [0,0] + [1,0] + [2,0]"
      ],
      "metadata": {
        "colab": {
          "base_uri": "https://localhost:8080/"
        },
        "id": "Yt5iZgwrhMxc",
        "outputId": "043948cf-a6e0-4cd3-994c-e5c3f7509848"
      },
      "execution_count": null,
      "outputs": [
        {
          "output_type": "execute_result",
          "data": {
            "text/plain": [
              "array([15, 18, 21, 24, 27])"
            ]
          },
          "metadata": {},
          "execution_count": 163
        }
      ]
    },
    {
      "cell_type": "code",
      "source": [],
      "metadata": {
        "id": "zdrlJ0sEkIQ_"
      },
      "execution_count": null,
      "outputs": []
    },
    {
      "cell_type": "code",
      "source": [
        "y = np.random.rand(15).reshape(3, 5)\n",
        "y"
      ],
      "metadata": {
        "colab": {
          "base_uri": "https://localhost:8080/"
        },
        "id": "Apai58FckINS",
        "outputId": "285ecdac-cadd-4af9-9a1e-3eb8453fda8a"
      },
      "execution_count": null,
      "outputs": [
        {
          "output_type": "execute_result",
          "data": {
            "text/plain": [
              "array([[0.87001215, 0.97861834, 0.79915856, 0.46147936, 0.78052918],\n",
              "       [0.11827443, 0.63992102, 0.14335329, 0.94466892, 0.52184832],\n",
              "       [0.41466194, 0.26455561, 0.77423369, 0.45615033, 0.56843395]])"
            ]
          },
          "metadata": {},
          "execution_count": 164
        }
      ]
    },
    {
      "cell_type": "code",
      "source": [
        "np.max(y)"
      ],
      "metadata": {
        "colab": {
          "base_uri": "https://localhost:8080/"
        },
        "id": "kDr1Cr7YkIJ6",
        "outputId": "23e19214-a084-433e-b565-9cdb812687fd"
      },
      "execution_count": null,
      "outputs": [
        {
          "output_type": "execute_result",
          "data": {
            "text/plain": [
              "0.978618342232764"
            ]
          },
          "metadata": {},
          "execution_count": 165
        }
      ]
    },
    {
      "cell_type": "code",
      "source": [
        "np.argmax(y) # 최댓값의 index"
      ],
      "metadata": {
        "colab": {
          "base_uri": "https://localhost:8080/"
        },
        "id": "hDNR8ZT9kIGX",
        "outputId": "dd2cdd00-91d0-44a1-8d5f-4730cb9a674a"
      },
      "execution_count": null,
      "outputs": [
        {
          "output_type": "execute_result",
          "data": {
            "text/plain": [
              "1"
            ]
          },
          "metadata": {},
          "execution_count": 166
        }
      ]
    },
    {
      "cell_type": "code",
      "source": [
        "np.max(y, axis=0)"
      ],
      "metadata": {
        "colab": {
          "base_uri": "https://localhost:8080/"
        },
        "id": "P_ADwoLQkICn",
        "outputId": "9b0bae9c-a471-41b6-90f0-f05faff9897a"
      },
      "execution_count": null,
      "outputs": [
        {
          "output_type": "execute_result",
          "data": {
            "text/plain": [
              "array([0.87001215, 0.97861834, 0.79915856, 0.94466892, 0.78052918])"
            ]
          },
          "metadata": {},
          "execution_count": 167
        }
      ]
    },
    {
      "cell_type": "code",
      "source": [
        "np.argmax(y, axis=0)"
      ],
      "metadata": {
        "colab": {
          "base_uri": "https://localhost:8080/"
        },
        "id": "188KNtOzkH_F",
        "outputId": "ee868183-e63d-4917-d3be-1b39f1f8e551"
      },
      "execution_count": null,
      "outputs": [
        {
          "output_type": "execute_result",
          "data": {
            "text/plain": [
              "array([0, 0, 0, 1, 0])"
            ]
          },
          "metadata": {},
          "execution_count": 168
        }
      ]
    },
    {
      "cell_type": "markdown",
      "source": [
        "# Broadcasting\n",
        "#### 브로드캐스팅\n",
        "  - (기본적으로는) Shape이 같은 두 ndarray에 대한 연산은 각 원소별로 진행\n",
        "  - **다른 Shape을 갖는 array 간 연산** 의 경우 브로드 캐스팅(Shape을 맞춤) 후 진행\n",
        "   \n",
        "   \n",
        "![](https://numpy.org/doc/stable/_images/broadcasting_1.png)\n"
      ],
      "metadata": {
        "id": "OO7kPxmJlbo6"
      }
    },
    {
      "cell_type": "code",
      "source": [
        "x = np.arange(15).reshape(3, 5)"
      ],
      "metadata": {
        "id": "oRfjfgbVkH7b"
      },
      "execution_count": null,
      "outputs": []
    },
    {
      "cell_type": "code",
      "source": [
        "x"
      ],
      "metadata": {
        "colab": {
          "base_uri": "https://localhost:8080/"
        },
        "id": "8v7I6eAnkH4D",
        "outputId": "6b570b63-137b-46aa-b94b-d1ab1aa11d4a"
      },
      "execution_count": null,
      "outputs": [
        {
          "output_type": "execute_result",
          "data": {
            "text/plain": [
              "array([[ 0,  1,  2,  3,  4],\n",
              "       [ 5,  6,  7,  8,  9],\n",
              "       [10, 11, 12, 13, 14]])"
            ]
          },
          "metadata": {},
          "execution_count": 170
        }
      ]
    },
    {
      "cell_type": "code",
      "source": [
        "y = np.random.rand(15).reshape(3,5)"
      ],
      "metadata": {
        "id": "ODioM23RkH0h"
      },
      "execution_count": null,
      "outputs": []
    },
    {
      "cell_type": "code",
      "source": [
        "y"
      ],
      "metadata": {
        "colab": {
          "base_uri": "https://localhost:8080/"
        },
        "id": "gpRv-PwFkHxC",
        "outputId": "81dba935-0554-4267-f6ba-06c9158c836a"
      },
      "execution_count": null,
      "outputs": [
        {
          "output_type": "execute_result",
          "data": {
            "text/plain": [
              "array([[0.0187898 , 0.6176355 , 0.61209572, 0.616934  , 0.94374808],\n",
              "       [0.6818203 , 0.3595079 , 0.43703195, 0.6976312 , 0.06022547],\n",
              "       [0.66676672, 0.67063787, 0.21038256, 0.1289263 , 0.31542835]])"
            ]
          },
          "metadata": {},
          "execution_count": 173
        }
      ]
    },
    {
      "cell_type": "code",
      "source": [
        "a = np.arange(12).reshape(4, 3)\n",
        "b = np.arange(100, 103)\n"
      ],
      "metadata": {
        "id": "T0CpcSMzkHtj"
      },
      "execution_count": null,
      "outputs": []
    },
    {
      "cell_type": "code",
      "source": [
        "a"
      ],
      "metadata": {
        "colab": {
          "base_uri": "https://localhost:8080/"
        },
        "id": "yY4rVTOBkHqF",
        "outputId": "37e5fcaa-6edd-4928-d236-dbe69d43b1fc"
      },
      "execution_count": null,
      "outputs": [
        {
          "output_type": "execute_result",
          "data": {
            "text/plain": [
              "array([[ 0,  1,  2],\n",
              "       [ 3,  4,  5],\n",
              "       [ 6,  7,  8],\n",
              "       [ 9, 10, 11]])"
            ]
          },
          "metadata": {},
          "execution_count": 175
        }
      ]
    },
    {
      "cell_type": "code",
      "source": [
        "b"
      ],
      "metadata": {
        "colab": {
          "base_uri": "https://localhost:8080/"
        },
        "id": "gzc97vARkHmf",
        "outputId": "23fce932-390f-48d1-a206-c3f048077db8"
      },
      "execution_count": null,
      "outputs": [
        {
          "output_type": "execute_result",
          "data": {
            "text/plain": [
              "array([100, 101, 102])"
            ]
          },
          "metadata": {},
          "execution_count": 176
        }
      ]
    },
    {
      "cell_type": "code",
      "source": [
        "a + b"
      ],
      "metadata": {
        "colab": {
          "base_uri": "https://localhost:8080/"
        },
        "id": "-VXKp9F4kHjL",
        "outputId": "e61b5d94-4b7e-4a3f-dd88-9180502e1635"
      },
      "execution_count": null,
      "outputs": [
        {
          "output_type": "execute_result",
          "data": {
            "text/plain": [
              "array([[100, 102, 104],\n",
              "       [103, 105, 107],\n",
              "       [106, 108, 110],\n",
              "       [109, 111, 113]])"
            ]
          },
          "metadata": {},
          "execution_count": 177
        }
      ]
    },
    {
      "cell_type": "markdown",
      "source": [
        "### 브로드캐스팅 Rule\n",
        " - [Rule 공식문서](https://docs.scipy.org/doc/numpy/user/basics.broadcasting.html#general-broadcasting-rules)\n",
        " - 뒷 차원에서 부터 비교하여 **①Shape이 같거나**, **②차원 중 값이 1이 존재**하면 broadcasting 가능\n",
        " - 결과 차원은 둘중 큰 size 의 차원으로 **확장** 된다\n",
        "\n",
        "\n",
        "\n",
        "![브로드캐스팅 예](https://www.tutorialspoint.com/numpy/images/array.jpg)\n",
        "    - 출처: https://www.tutorialspoint.com/numpy/images/array.jpg\n"
      ],
      "metadata": {
        "id": "uajjfzEOmoTM"
      }
    },
    {
      "cell_type": "code",
      "source": [
        "''' 브로드캐스팅 가용한 경우\n",
        "    A     : 256 x 256 x 3\n",
        "    B     :             3\n",
        "    Result: 256 x 256 x 3   <-- 결과 차원은 둘중 큰 size의 차원으로 확장\n",
        "\n",
        "    A     : 8 x 1 x 6 x 1\n",
        "    B     :     7 x 1 x 5\n",
        "    Result: 8 x 7 x 6 x 5\n",
        "'''\n",
        "\n",
        "\n",
        "''' 브로드캐스팅 불가능한 경우\n",
        "    A     : 3\n",
        "    B     : 4\n",
        "\n",
        "    A     :     2 x 1\n",
        "    B     : 8 x 4 x 3\n",
        "'''\n",
        "None\n"
      ],
      "metadata": {
        "id": "npyUV79akHfz"
      },
      "execution_count": null,
      "outputs": []
    },
    {
      "cell_type": "code",
      "source": [
        "c = np.arange(1000,1004)"
      ],
      "metadata": {
        "id": "C9lofA9AkHcO"
      },
      "execution_count": null,
      "outputs": []
    },
    {
      "cell_type": "code",
      "source": [
        "print(a.shape)\n",
        "print(c.shape)"
      ],
      "metadata": {
        "id": "Uii36CkwVC7J",
        "colab": {
          "base_uri": "https://localhost:8080/"
        },
        "outputId": "b78c07bb-5e5b-4f90-8ad4-8542f9d8a3dc"
      },
      "execution_count": null,
      "outputs": [
        {
          "output_type": "stream",
          "name": "stdout",
          "text": [
            "(4, 3)\n",
            "(4,)\n"
          ]
        }
      ]
    },
    {
      "cell_type": "code",
      "source": [
        "a = np.full(4, 100)\n",
        "a #(4,)"
      ],
      "metadata": {
        "id": "2yQE5Z-sVC3r",
        "colab": {
          "base_uri": "https://localhost:8080/"
        },
        "outputId": "49805822-e275-472d-c970-b584ac3d5884"
      },
      "execution_count": null,
      "outputs": [
        {
          "output_type": "execute_result",
          "data": {
            "text/plain": [
              "array([100, 100, 100, 100])"
            ]
          },
          "metadata": {},
          "execution_count": 182
        }
      ]
    },
    {
      "cell_type": "code",
      "source": [
        "b = np.arange(1, 9).reshape(2,4)\n",
        "b"
      ],
      "metadata": {
        "id": "Tp9nTazCVC0G",
        "colab": {
          "base_uri": "https://localhost:8080/"
        },
        "outputId": "4a40eef8-5434-4408-a313-96b42796cc4a"
      },
      "execution_count": null,
      "outputs": [
        {
          "output_type": "execute_result",
          "data": {
            "text/plain": [
              "array([[1, 2, 3, 4],\n",
              "       [5, 6, 7, 8]])"
            ]
          },
          "metadata": {},
          "execution_count": 183
        }
      ]
    },
    {
      "cell_type": "code",
      "source": [
        "# a (4,)\n",
        "# b (2,4)\n",
        "# a+b = (2,4)\n",
        "a+b"
      ],
      "metadata": {
        "id": "CmoA07qTU_2v",
        "colab": {
          "base_uri": "https://localhost:8080/"
        },
        "outputId": "9328d163-7a2f-489c-f36e-5a0a1a0c0faf"
      },
      "execution_count": null,
      "outputs": [
        {
          "output_type": "execute_result",
          "data": {
            "text/plain": [
              "array([[101, 102, 103, 104],\n",
              "       [105, 106, 107, 108]])"
            ]
          },
          "metadata": {},
          "execution_count": 184
        }
      ]
    },
    {
      "cell_type": "code",
      "source": [
        "b = np.array([[1],[2]])\n",
        "b #(2,1)"
      ],
      "metadata": {
        "colab": {
          "base_uri": "https://localhost:8080/"
        },
        "id": "OYM4Z39PpSy9",
        "outputId": "e3291722-05ad-4b48-a059-0b72a0efda8e"
      },
      "execution_count": null,
      "outputs": [
        {
          "output_type": "execute_result",
          "data": {
            "text/plain": [
              "array([[1],\n",
              "       [2]])"
            ]
          },
          "metadata": {},
          "execution_count": 185
        }
      ]
    },
    {
      "cell_type": "code",
      "source": [
        "a + b"
      ],
      "metadata": {
        "colab": {
          "base_uri": "https://localhost:8080/"
        },
        "id": "LiYys0uVpcjh",
        "outputId": "fc88495c-4752-4b0b-e9d5-ef9bbfe9098b"
      },
      "execution_count": null,
      "outputs": [
        {
          "output_type": "execute_result",
          "data": {
            "text/plain": [
              "array([[101, 101, 101, 101],\n",
              "       [102, 102, 102, 102]])"
            ]
          },
          "metadata": {},
          "execution_count": 186
        }
      ]
    },
    {
      "cell_type": "code",
      "source": [
        "arr21 = np.arange(10, 70, 10).reshape(2, 3)\n",
        "arr21"
      ],
      "metadata": {
        "colab": {
          "base_uri": "https://localhost:8080/"
        },
        "id": "geRi9LNxpUWw",
        "outputId": "78d7913c-d85f-4e2e-abeb-8cf431dc6fc4"
      },
      "execution_count": null,
      "outputs": [
        {
          "output_type": "execute_result",
          "data": {
            "text/plain": [
              "array([[10, 20, 30],\n",
              "       [40, 50, 60]])"
            ]
          },
          "metadata": {},
          "execution_count": 187
        }
      ]
    },
    {
      "cell_type": "code",
      "source": [
        "arr23 = np.array([1,2])\n",
        "arr23 #(2,)"
      ],
      "metadata": {
        "colab": {
          "base_uri": "https://localhost:8080/"
        },
        "id": "jNx3EbYzpSv9",
        "outputId": "5a3f66f7-2fe2-4c55-eda9-31280734a850"
      },
      "execution_count": null,
      "outputs": [
        {
          "output_type": "execute_result",
          "data": {
            "text/plain": [
              "array([1, 2])"
            ]
          },
          "metadata": {},
          "execution_count": 188
        }
      ]
    },
    {
      "cell_type": "code",
      "source": [
        "# 도전!  위 두개의 array 를 더하여\n",
        "# 과연 아래의 결과를 만들수 있을까?\n",
        "\"\"\" 원하는 결과\n",
        "array([[11, 22, 31],\n",
        "       [42, 51, 62]])\n",
        "\"\"\"\n",
        "None"
      ],
      "metadata": {
        "id": "Kzqwgf9epSsr"
      },
      "execution_count": null,
      "outputs": []
    },
    {
      "cell_type": "code",
      "source": [],
      "metadata": {
        "colab": {
          "base_uri": "https://localhost:8080/"
        },
        "id": "HZs1_nKPpSmf",
        "outputId": "6a1c77c1-e0b1-471a-8809-f834090d1024"
      },
      "execution_count": null,
      "outputs": [
        {
          "output_type": "execute_result",
          "data": {
            "text/plain": [
              "array([[11, 21, 31],\n",
              "       [42, 52, 62]])"
            ]
          },
          "metadata": {},
          "execution_count": 192
        }
      ]
    },
    {
      "cell_type": "code",
      "source": [
        "(arr21.reshape(3,2) + arr23).reshape(2,3)"
      ],
      "metadata": {
        "colab": {
          "base_uri": "https://localhost:8080/"
        },
        "id": "ozx3z64jpSgX",
        "outputId": "f501e739-9b44-42a0-bbac-7dcc20a4d24c"
      },
      "execution_count": null,
      "outputs": [
        {
          "output_type": "execute_result",
          "data": {
            "text/plain": [
              "array([[11, 22, 31],\n",
              "       [42, 51, 62]])"
            ]
          },
          "metadata": {},
          "execution_count": 194
        }
      ]
    },
    {
      "cell_type": "code",
      "source": [
        "arr21"
      ],
      "metadata": {
        "colab": {
          "base_uri": "https://localhost:8080/"
        },
        "id": "unC_J9dmpSdZ",
        "outputId": "fea1e532-a0f9-4fd4-c943-3719752dec49"
      },
      "execution_count": null,
      "outputs": [
        {
          "output_type": "execute_result",
          "data": {
            "text/plain": [
              "array([[10, 20, 30],\n",
              "       [40, 50, 60]])"
            ]
          },
          "metadata": {},
          "execution_count": 195
        }
      ]
    },
    {
      "cell_type": "code",
      "source": [
        "arr21.reshape(3,2)"
      ],
      "metadata": {
        "colab": {
          "base_uri": "https://localhost:8080/"
        },
        "id": "IZhdRFKopSaG",
        "outputId": "8de4df23-02a5-4169-eec3-f83a69735c8a"
      },
      "execution_count": null,
      "outputs": [
        {
          "output_type": "execute_result",
          "data": {
            "text/plain": [
              "array([[10, 20],\n",
              "       [30, 40],\n",
              "       [50, 60]])"
            ]
          },
          "metadata": {},
          "execution_count": 196
        }
      ]
    },
    {
      "cell_type": "code",
      "source": [
        "arr23"
      ],
      "metadata": {
        "colab": {
          "base_uri": "https://localhost:8080/"
        },
        "id": "f9_2LO98pQrc",
        "outputId": "3f980247-f3d5-4a41-abc0-7b0dd6e10f85"
      },
      "execution_count": null,
      "outputs": [
        {
          "output_type": "execute_result",
          "data": {
            "text/plain": [
              "array([1, 2])"
            ]
          },
          "metadata": {},
          "execution_count": 197
        }
      ]
    },
    {
      "cell_type": "markdown",
      "source": [
        "# Boolean Indexing"
      ],
      "metadata": {
        "id": "9Yu7jNimuIYF"
      }
    },
    {
      "cell_type": "code",
      "source": [
        "# 'Boolean indexing ' !\n",
        "# array 인덱싱 시, bool 리스트(aka. mask)를 전달하여 True인 경우만 필터링\n",
        "\n",
        "# for 사용하지 않고도 array 에서 '조건'에 맞는 데이터만 추출 하는 기능"
      ],
      "metadata": {
        "id": "Ql-sg4cEr7Py"
      },
      "execution_count": null,
      "outputs": []
    },
    {
      "cell_type": "code",
      "source": [
        "x = np.random.randint(1, 100, size=10)"
      ],
      "metadata": {
        "id": "YfCTF_4Jr7M2"
      },
      "execution_count": null,
      "outputs": []
    },
    {
      "cell_type": "code",
      "source": [
        "x"
      ],
      "metadata": {
        "colab": {
          "base_uri": "https://localhost:8080/"
        },
        "id": "pixq4jpKr7Ju",
        "outputId": "2194b86a-4d23-4a57-8e5a-0d9552b18211"
      },
      "execution_count": null,
      "outputs": [
        {
          "output_type": "execute_result",
          "data": {
            "text/plain": [
              "array([54, 13, 43, 85, 76, 69,  7, 69, 48,  4])"
            ]
          },
          "metadata": {},
          "execution_count": 200
        }
      ]
    },
    {
      "cell_type": "code",
      "source": [
        "x % 2"
      ],
      "metadata": {
        "colab": {
          "base_uri": "https://localhost:8080/"
        },
        "id": "kTWwYREFr7Gm",
        "outputId": "56283249-e35f-49ce-c9e8-e880a3249620"
      },
      "execution_count": null,
      "outputs": [
        {
          "output_type": "execute_result",
          "data": {
            "text/plain": [
              "array([0, 1, 1, 1, 0, 1, 1, 1, 0, 0])"
            ]
          },
          "metadata": {},
          "execution_count": 201
        }
      ]
    },
    {
      "cell_type": "code",
      "source": [
        "even_mask = x % 2 == 0\n",
        "even_mask"
      ],
      "metadata": {
        "colab": {
          "base_uri": "https://localhost:8080/"
        },
        "id": "bsgP_IshuxMs",
        "outputId": "b667f056-57cb-47b9-e27b-a92271c4bf70"
      },
      "execution_count": null,
      "outputs": [
        {
          "output_type": "execute_result",
          "data": {
            "text/plain": [
              "array([ True, False, False, False,  True, False, False, False,  True,\n",
              "        True])"
            ]
          },
          "metadata": {},
          "execution_count": 205
        }
      ]
    },
    {
      "cell_type": "code",
      "source": [
        "# 위와 같이 bool 값으로 이루어진 array 를 Mask 라고도 한다\n",
        "# 위 결과, mask 를 변수에 담아 보겠습니다\n",
        "\n",
        "# boolean mask 로 인덱싱!\n"
      ],
      "metadata": {
        "id": "KGqzFLqEu6XY"
      },
      "execution_count": null,
      "outputs": []
    },
    {
      "cell_type": "code",
      "source": [
        "x[even_mask]"
      ],
      "metadata": {
        "colab": {
          "base_uri": "https://localhost:8080/"
        },
        "id": "23J6mU64r7Db",
        "outputId": "5dffba44-e492-43a5-f759-668b01c19574"
      },
      "execution_count": null,
      "outputs": [
        {
          "output_type": "execute_result",
          "data": {
            "text/plain": [
              "array([54, 76, 48,  4])"
            ]
          },
          "metadata": {},
          "execution_count": 206
        }
      ]
    },
    {
      "cell_type": "code",
      "source": [
        "# list 나 tuple 같은 iterable 도 bool mask 로 사용 가능.\n",
        "\n",
        "x[[ True,  True,  True,  True, False, False, False, False, False, True]]\n"
      ],
      "metadata": {
        "colab": {
          "base_uri": "https://localhost:8080/"
        },
        "id": "RQ2eK8qVr7AM",
        "outputId": "7dfc7206-1748-4b94-f022-10f623bf09fe"
      },
      "execution_count": null,
      "outputs": [
        {
          "output_type": "execute_result",
          "data": {
            "text/plain": [
              "array([54, 13, 43, 85,  4])"
            ]
          },
          "metadata": {},
          "execution_count": 208
        }
      ]
    },
    {
      "cell_type": "markdown",
      "source": [
        "## 다중조건 사용하기\n",
        " - 파이썬 논리 연산자인 and, or, not 키워드는 사용 불가\n",
        " - & ← AND\n",
        " - | ← OR\n"
      ],
      "metadata": {
        "id": "3IQzpSzQvuwE"
      }
    },
    {
      "cell_type": "code",
      "source": [
        "x[(x%2==0) & (x<30)]"
      ],
      "metadata": {
        "colab": {
          "base_uri": "https://localhost:8080/"
        },
        "id": "HzV9j_jJr69A",
        "outputId": "7152b75a-0c23-4c34-8691-8afa423cb120"
      },
      "execution_count": null,
      "outputs": [
        {
          "output_type": "execute_result",
          "data": {
            "text/plain": [
              "array([4])"
            ]
          },
          "metadata": {},
          "execution_count": 210
        }
      ]
    },
    {
      "cell_type": "markdown",
      "source": [
        "# astype() 으로 변환"
      ],
      "metadata": {
        "id": "9KJqSMoOwVjB"
      }
    },
    {
      "cell_type": "code",
      "source": [
        "True, int(True), False, int(False)"
      ],
      "metadata": {
        "colab": {
          "base_uri": "https://localhost:8080/"
        },
        "id": "YPD1f3vFr654",
        "outputId": "2d028e7c-c7c0-46bc-fd0b-244f842debe6"
      },
      "execution_count": null,
      "outputs": [
        {
          "output_type": "execute_result",
          "data": {
            "text/plain": [
              "(True, 1, False, 0)"
            ]
          },
          "metadata": {},
          "execution_count": 211
        }
      ]
    },
    {
      "cell_type": "code",
      "source": [
        "x > 50"
      ],
      "metadata": {
        "colab": {
          "base_uri": "https://localhost:8080/"
        },
        "id": "XIZm7r9cr62v",
        "outputId": "2fda33aa-a234-4fc6-a55f-1f590acb18f6"
      },
      "execution_count": null,
      "outputs": [
        {
          "output_type": "execute_result",
          "data": {
            "text/plain": [
              "array([ True, False, False,  True,  True,  True, False,  True, False,\n",
              "       False])"
            ]
          },
          "metadata": {},
          "execution_count": 212
        }
      ]
    },
    {
      "cell_type": "code",
      "source": [
        "(x > 50).astype(int).sum()"
      ],
      "metadata": {
        "colab": {
          "base_uri": "https://localhost:8080/"
        },
        "id": "nmqKjLPywmWf",
        "outputId": "f0674351-ae34-488c-bd00-489ffdaedd33"
      },
      "execution_count": null,
      "outputs": [
        {
          "output_type": "execute_result",
          "data": {
            "text/plain": [
              "5"
            ]
          },
          "metadata": {},
          "execution_count": 214
        }
      ]
    },
    {
      "cell_type": "code",
      "source": [
        "np.sum(x > 50)"
      ],
      "metadata": {
        "colab": {
          "base_uri": "https://localhost:8080/"
        },
        "id": "JwDqIkc7wmTB",
        "outputId": "cb8eda65-5815-44b6-fc60-0f59daa038ac"
      },
      "execution_count": null,
      "outputs": [
        {
          "output_type": "execute_result",
          "data": {
            "text/plain": [
              "5"
            ]
          },
          "metadata": {},
          "execution_count": 215
        }
      ]
    },
    {
      "cell_type": "code",
      "source": [
        "True + True"
      ],
      "metadata": {
        "colab": {
          "base_uri": "https://localhost:8080/"
        },
        "id": "yUJZh6uDwmPi",
        "outputId": "ceff0d98-d403-4cd0-c2f4-2c6604177b8a"
      },
      "execution_count": null,
      "outputs": [
        {
          "output_type": "execute_result",
          "data": {
            "text/plain": [
              "2"
            ]
          },
          "metadata": {},
          "execution_count": 216
        }
      ]
    },
    {
      "cell_type": "markdown",
      "source": [
        "## 도전: 서울시 5월 일자별 평균기온"
      ],
      "metadata": {
        "id": "k3TjMF9oxOwS"
      }
    },
    {
      "cell_type": "code",
      "source": [
        "temp = np.array(\n",
        "        [23.9, 24.4, 24.1, 25.4, 27.6, 29.7,\n",
        "         26.7, 25.1, 25.0, 22.7, 21.9, 23.6,\n",
        "         24.9, 25.9, 23.8, 24.7, 25.6, 26.9,\n",
        "         28.6, 28.0, 25.1, 26.7, 28.1, 26.5,\n",
        "         26.3, 25.9, 28.4, 26.1, 27.5, 28.1, 25.8])\n",
        "\n",
        "\"\"\"\n",
        "평균기온이 25도를 넘는 날수는 총 21일\n",
        "평균기온이 25를 넘는 날의 평균 기온은 약 26.8도\n",
        "\"\"\"\n",
        "None"
      ],
      "metadata": {
        "id": "QObt9FEpwmMI"
      },
      "execution_count": null,
      "outputs": []
    },
    {
      "cell_type": "code",
      "source": [
        "len(temp[temp > 25])"
      ],
      "metadata": {
        "colab": {
          "base_uri": "https://localhost:8080/"
        },
        "id": "gDgliXLRwmIR",
        "outputId": "2c7eface-ad8f-43c5-bec3-1cdf68bd9544"
      },
      "execution_count": null,
      "outputs": [
        {
          "output_type": "execute_result",
          "data": {
            "text/plain": [
              "21"
            ]
          },
          "metadata": {},
          "execution_count": 219
        }
      ]
    },
    {
      "cell_type": "code",
      "source": [
        "sum(temp[temp > 25])/len(temp[temp > 25])"
      ],
      "metadata": {
        "colab": {
          "base_uri": "https://localhost:8080/"
        },
        "id": "QmF_2WuAwmEc",
        "outputId": "cf397d06-dbed-4624-94b1-8471bb9dbac4"
      },
      "execution_count": null,
      "outputs": [
        {
          "output_type": "execute_result",
          "data": {
            "text/plain": [
              "26.857142857142858"
            ]
          },
          "metadata": {},
          "execution_count": 222
        }
      ]
    },
    {
      "cell_type": "code",
      "source": [],
      "metadata": {
        "id": "fQTtKv9uwmBM"
      },
      "execution_count": null,
      "outputs": []
    },
    {
      "cell_type": "code",
      "source": [],
      "metadata": {
        "id": "lLf8Qy-wwl97"
      },
      "execution_count": null,
      "outputs": []
    },
    {
      "cell_type": "code",
      "source": [],
      "metadata": {
        "id": "6NwcLwezwl6s"
      },
      "execution_count": null,
      "outputs": []
    },
    {
      "cell_type": "code",
      "source": [],
      "metadata": {
        "id": "pApM9dDwwl3Y"
      },
      "execution_count": null,
      "outputs": []
    },
    {
      "cell_type": "code",
      "source": [],
      "metadata": {
        "id": "6k4uoa3vwl0F"
      },
      "execution_count": null,
      "outputs": []
    },
    {
      "cell_type": "code",
      "source": [],
      "metadata": {
        "id": "a9hAXejzwlwa"
      },
      "execution_count": null,
      "outputs": []
    },
    {
      "cell_type": "code",
      "source": [],
      "metadata": {
        "id": "W3JrgvSJr6ze"
      },
      "execution_count": null,
      "outputs": []
    },
    {
      "cell_type": "code",
      "source": [],
      "metadata": {
        "id": "CySJuaFPr6wA"
      },
      "execution_count": null,
      "outputs": []
    },
    {
      "cell_type": "code",
      "source": [],
      "metadata": {
        "id": "kKinY41lr6Kf"
      },
      "execution_count": null,
      "outputs": []
    }
  ]
}