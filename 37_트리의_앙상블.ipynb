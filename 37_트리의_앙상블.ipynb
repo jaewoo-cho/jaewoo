{
  "nbformat": 4,
  "nbformat_minor": 0,
  "metadata": {
    "colab": {
      "provenance": [],
      "mount_file_id": "1Pc0AsAJ-xbAD-ibT7oEEWezY5TyAbgTm",
      "authorship_tag": "ABX9TyO1bI4brtpAw9PyOPeii0cm",
      "include_colab_link": true
    },
    "kernelspec": {
      "name": "python3",
      "display_name": "Python 3"
    },
    "language_info": {
      "name": "python"
    }
  },
  "cells": [
    {
      "cell_type": "markdown",
      "metadata": {
        "id": "view-in-github",
        "colab_type": "text"
      },
      "source": [
        "<a href=\"https://colab.research.google.com/github/jaewoo-cho/jaewoo/blob/master/37_%ED%8A%B8%EB%A6%AC%EC%9D%98_%EC%95%99%EC%83%81%EB%B8%94.ipynb\" target=\"_parent\"><img src=\"https://colab.research.google.com/assets/colab-badge.svg\" alt=\"Open In Colab\"/></a>"
      ]
    },
    {
      "cell_type": "markdown",
      "source": [
        "# 정형 데이터 와 비정형 데이터\n",
        "\n",
        "1. 정형데이터(Structured Data)\n",
        "    - 주로 행 과 열로 구성된 형태의 데이터\n",
        "    - ex) CSV, 데이터베이스, 엑셀 파일 ..\n",
        "   \n",
        "   \n",
        "1. 비정형 데이터 (Unstructured Data)\n",
        "    - 정형데이터 형태로 표현하기 어려운 데이터들\n",
        "    - ex) 책, 글 텍스트, 사진, 음악\n"
      ],
      "metadata": {
        "id": "0MzbBxxkWkOO"
      }
    },
    {
      "cell_type": "markdown",
      "source": [
        "# 앙상블 학습이란\n",
        "(ensemble learning)\n",
        "\n",
        "더 좋은 예측 결과를 만들기 위해 '여러 개의 모델'을 훈련하는 머신러닝 알고리즘\n"
      ],
      "metadata": {
        "id": "zyvsdGe7W5ch"
      }
    },
    {
      "cell_type": "code",
      "source": [
        "# 정형데이타를 다룰때 가장 뛰어난 성과를 내는 알고리즘 => '앙상블 학습(ensemble learning)'\n",
        "\n",
        "# 앙상블 학습 이란 '여러개의 모델'을 훈련하여 더 좋은 예측 결과를 내는 머신러닝 알고리즘\n",
        "# ※ 대부분 '결정트리' 기반으로 만들어진다.."
      ],
      "metadata": {
        "id": "HXl6gxzIW5Po"
      },
      "execution_count": null,
      "outputs": []
    },
    {
      "cell_type": "code",
      "source": [
        "# 반면, 비정형 데이터는 어떤 알고리즘 사용?  --> '신경망 알고리즘'\n",
        "# 비정형 데이터는 '규칙성' 을 찾기 어려워서 전통적인 머신러닝 알고리즘으로는 모델만들기 어렵다."
      ],
      "metadata": {
        "id": "GmnmknpVWWnp"
      },
      "execution_count": null,
      "outputs": []
    },
    {
      "cell_type": "markdown",
      "source": [
        "# 랜덤 포레스트 Random Forest"
      ],
      "metadata": {
        "id": "cPBek7J8XS_F"
      }
    },
    {
      "cell_type": "code",
      "source": [
        "# Decision Tree : 나무\n",
        "# Random Forest : decision tree 를 랜덤하게 만들어 '숲' 을 만든다.\n",
        "#                각 decision tree 의 예측을 사용해 '최종예측'을 만든다\n"
      ],
      "metadata": {
        "id": "tAuiiZjyWWj2"
      },
      "execution_count": null,
      "outputs": []
    },
    {
      "cell_type": "markdown",
      "source": [
        "![](https://blog.kakaocdn.net/dn/AdyUy/btqFWYWEPgW/ROyxKdQFvQDTItuPM3fKB1/img.png)\n",
        "![](https://blog.kakaocdn.net/dn/C3YZf/btroCvP78MF/ewyyGhKks8JdcqKywK2JS0/img.png)\n"
      ],
      "metadata": {
        "id": "foW3_nf3XnFm"
      }
    },
    {
      "cell_type": "markdown",
      "source": [
        "## 부트스트랩 샘플 (bootstrap sample)"
      ],
      "metadata": {
        "id": "5LeaEdLSXykh"
      }
    },
    {
      "cell_type": "code",
      "source": [
        "# 램덤포레스트는 각 트리를 훈련하기 위핸 데이터를 아래와 같이 랜덤하게 만든다.\n",
        "\n",
        "# 입력한 훈련데이터에서 '랜덤하게 샘플을 추출'하여 훈련데이터를 만드는데.\n",
        "# 이때 한 샘플이 '중복' 되어 추출될 수도 있습니다.\n",
        "# 이런식으로 만들어진 샘플을 부트스트랩 샘플 이라 한다.\n",
        "\n",
        "# 기본적으로 부트스트램 샘플은 '훈련세트와 같은 크기' 로 만든다.\n",
        "# ex) 1000개가 들어있는 가방에서 1000개의 샘플을 뽑기 (중복허용)"
      ],
      "metadata": {
        "id": "bTOBewxPWWgY"
      },
      "execution_count": null,
      "outputs": []
    },
    {
      "cell_type": "markdown",
      "source": [
        "# RandomForestClassifier"
      ],
      "metadata": {
        "id": "DdKm-ZLFbhzG"
      }
    },
    {
      "cell_type": "code",
      "source": [
        "# 트리에선 각 노드를 분할할때 '전체특성' 중에서 '일부특성' 을 '무작위' 로 고른다음 '최선의 분할' 을 찾습니다.\n",
        "\n",
        "# RandomForestClassifier 는 기본적으로 '전체특성의 개수의 제곱근만큼' 의 특성을 선택함.\n",
        "#    ex) 전체 4개의 특성이 있다면 -> 노드마다 2개를 램덤하게 선택하여 사용.\n",
        "\n",
        "# RandomForestRegressor 는 '전체특성을 사용'"
      ],
      "metadata": {
        "id": "UyfliPkFWWdB"
      },
      "execution_count": null,
      "outputs": []
    },
    {
      "cell_type": "code",
      "source": [
        "# 사이킷럿의 랜덤포레스트는 기본적으로 100개의 결정트리를 위와 같은 방식으로 훈련함.\n",
        "\n",
        "# 최종 예측은!\n",
        "#  '분류' 일때는 각 트리의 클래스별 확률을 평균하여 가장 높은 확률을 가진 클래스를 예측으로 삼습니다\n",
        "#  '회귀' 일때는 단순히 각 트리의 예측을 평균합니다."
      ],
      "metadata": {
        "id": "h86mB9wpWWWn"
      },
      "execution_count": null,
      "outputs": []
    },
    {
      "cell_type": "code",
      "source": [
        "\"\"\"\n",
        "랜덤 포레스트는 랜덤하게 선택한 샘플과 특성을 사용하기 때문에\n",
        "훈련세트에 과대적합되는 것을 막아주고\n",
        "검증세트와 테스트세트에서 안정적인 성능을 얻을 수 있습니다.\n",
        "종종 기본 매개변수 설정 만으로도 아주 좋은 결과를 냅니다.\n",
        "\"\"\"\n",
        "None\n"
      ],
      "metadata": {
        "id": "KojM4HnhWWTO"
      },
      "execution_count": null,
      "outputs": []
    },
    {
      "cell_type": "code",
      "source": [
        "import numpy as np\n",
        "import pandas as pd\n",
        "import matplotlib.pyplot as plt\n",
        "import os\n"
      ],
      "metadata": {
        "id": "dkIioS7T8j1m"
      },
      "execution_count": null,
      "outputs": []
    },
    {
      "cell_type": "code",
      "source": [
        "base_path = r'/content/drive/MyDrive/dataset'"
      ],
      "metadata": {
        "id": "epPPcxxmRz9x"
      },
      "execution_count": null,
      "outputs": []
    },
    {
      "cell_type": "code",
      "source": [
        "file_path = os.path.join(base_path, 'wine.csv')\n",
        "wine_df = pd.read_csv(file_path)\n",
        "wine_df"
      ],
      "metadata": {
        "colab": {
          "base_uri": "https://localhost:8080/",
          "height": 423
        },
        "id": "bnu6zg2_Rz6f",
        "outputId": "6d291d88-b109-42ff-d26d-f55548eb18c5"
      },
      "execution_count": null,
      "outputs": [
        {
          "output_type": "execute_result",
          "data": {
            "text/plain": [
              "      alcohol  sugar    pH  class\n",
              "0         9.4    1.9  3.51    0.0\n",
              "1         9.8    2.6  3.20    0.0\n",
              "2         9.8    2.3  3.26    0.0\n",
              "3         9.8    1.9  3.16    0.0\n",
              "4         9.4    1.9  3.51    0.0\n",
              "...       ...    ...   ...    ...\n",
              "6492     11.2    1.6  3.27    1.0\n",
              "6493      9.6    8.0  3.15    1.0\n",
              "6494      9.4    1.2  2.99    1.0\n",
              "6495     12.8    1.1  3.34    1.0\n",
              "6496     11.8    0.8  3.26    1.0\n",
              "\n",
              "[6497 rows x 4 columns]"
            ],
            "text/html": [
              "\n",
              "  <div id=\"df-ceb6dd8d-fd25-41d1-9480-149a9e3881d5\" class=\"colab-df-container\">\n",
              "    <div>\n",
              "<style scoped>\n",
              "    .dataframe tbody tr th:only-of-type {\n",
              "        vertical-align: middle;\n",
              "    }\n",
              "\n",
              "    .dataframe tbody tr th {\n",
              "        vertical-align: top;\n",
              "    }\n",
              "\n",
              "    .dataframe thead th {\n",
              "        text-align: right;\n",
              "    }\n",
              "</style>\n",
              "<table border=\"1\" class=\"dataframe\">\n",
              "  <thead>\n",
              "    <tr style=\"text-align: right;\">\n",
              "      <th></th>\n",
              "      <th>alcohol</th>\n",
              "      <th>sugar</th>\n",
              "      <th>pH</th>\n",
              "      <th>class</th>\n",
              "    </tr>\n",
              "  </thead>\n",
              "  <tbody>\n",
              "    <tr>\n",
              "      <th>0</th>\n",
              "      <td>9.4</td>\n",
              "      <td>1.9</td>\n",
              "      <td>3.51</td>\n",
              "      <td>0.0</td>\n",
              "    </tr>\n",
              "    <tr>\n",
              "      <th>1</th>\n",
              "      <td>9.8</td>\n",
              "      <td>2.6</td>\n",
              "      <td>3.20</td>\n",
              "      <td>0.0</td>\n",
              "    </tr>\n",
              "    <tr>\n",
              "      <th>2</th>\n",
              "      <td>9.8</td>\n",
              "      <td>2.3</td>\n",
              "      <td>3.26</td>\n",
              "      <td>0.0</td>\n",
              "    </tr>\n",
              "    <tr>\n",
              "      <th>3</th>\n",
              "      <td>9.8</td>\n",
              "      <td>1.9</td>\n",
              "      <td>3.16</td>\n",
              "      <td>0.0</td>\n",
              "    </tr>\n",
              "    <tr>\n",
              "      <th>4</th>\n",
              "      <td>9.4</td>\n",
              "      <td>1.9</td>\n",
              "      <td>3.51</td>\n",
              "      <td>0.0</td>\n",
              "    </tr>\n",
              "    <tr>\n",
              "      <th>...</th>\n",
              "      <td>...</td>\n",
              "      <td>...</td>\n",
              "      <td>...</td>\n",
              "      <td>...</td>\n",
              "    </tr>\n",
              "    <tr>\n",
              "      <th>6492</th>\n",
              "      <td>11.2</td>\n",
              "      <td>1.6</td>\n",
              "      <td>3.27</td>\n",
              "      <td>1.0</td>\n",
              "    </tr>\n",
              "    <tr>\n",
              "      <th>6493</th>\n",
              "      <td>9.6</td>\n",
              "      <td>8.0</td>\n",
              "      <td>3.15</td>\n",
              "      <td>1.0</td>\n",
              "    </tr>\n",
              "    <tr>\n",
              "      <th>6494</th>\n",
              "      <td>9.4</td>\n",
              "      <td>1.2</td>\n",
              "      <td>2.99</td>\n",
              "      <td>1.0</td>\n",
              "    </tr>\n",
              "    <tr>\n",
              "      <th>6495</th>\n",
              "      <td>12.8</td>\n",
              "      <td>1.1</td>\n",
              "      <td>3.34</td>\n",
              "      <td>1.0</td>\n",
              "    </tr>\n",
              "    <tr>\n",
              "      <th>6496</th>\n",
              "      <td>11.8</td>\n",
              "      <td>0.8</td>\n",
              "      <td>3.26</td>\n",
              "      <td>1.0</td>\n",
              "    </tr>\n",
              "  </tbody>\n",
              "</table>\n",
              "<p>6497 rows × 4 columns</p>\n",
              "</div>\n",
              "    <div class=\"colab-df-buttons\">\n",
              "\n",
              "  <div class=\"colab-df-container\">\n",
              "    <button class=\"colab-df-convert\" onclick=\"convertToInteractive('df-ceb6dd8d-fd25-41d1-9480-149a9e3881d5')\"\n",
              "            title=\"Convert this dataframe to an interactive table.\"\n",
              "            style=\"display:none;\">\n",
              "\n",
              "  <svg xmlns=\"http://www.w3.org/2000/svg\" height=\"24px\" viewBox=\"0 -960 960 960\">\n",
              "    <path d=\"M120-120v-720h720v720H120Zm60-500h600v-160H180v160Zm220 220h160v-160H400v160Zm0 220h160v-160H400v160ZM180-400h160v-160H180v160Zm440 0h160v-160H620v160ZM180-180h160v-160H180v160Zm440 0h160v-160H620v160Z\"/>\n",
              "  </svg>\n",
              "    </button>\n",
              "\n",
              "  <style>\n",
              "    .colab-df-container {\n",
              "      display:flex;\n",
              "      gap: 12px;\n",
              "    }\n",
              "\n",
              "    .colab-df-convert {\n",
              "      background-color: #E8F0FE;\n",
              "      border: none;\n",
              "      border-radius: 50%;\n",
              "      cursor: pointer;\n",
              "      display: none;\n",
              "      fill: #1967D2;\n",
              "      height: 32px;\n",
              "      padding: 0 0 0 0;\n",
              "      width: 32px;\n",
              "    }\n",
              "\n",
              "    .colab-df-convert:hover {\n",
              "      background-color: #E2EBFA;\n",
              "      box-shadow: 0px 1px 2px rgba(60, 64, 67, 0.3), 0px 1px 3px 1px rgba(60, 64, 67, 0.15);\n",
              "      fill: #174EA6;\n",
              "    }\n",
              "\n",
              "    .colab-df-buttons div {\n",
              "      margin-bottom: 4px;\n",
              "    }\n",
              "\n",
              "    [theme=dark] .colab-df-convert {\n",
              "      background-color: #3B4455;\n",
              "      fill: #D2E3FC;\n",
              "    }\n",
              "\n",
              "    [theme=dark] .colab-df-convert:hover {\n",
              "      background-color: #434B5C;\n",
              "      box-shadow: 0px 1px 3px 1px rgba(0, 0, 0, 0.15);\n",
              "      filter: drop-shadow(0px 1px 2px rgba(0, 0, 0, 0.3));\n",
              "      fill: #FFFFFF;\n",
              "    }\n",
              "  </style>\n",
              "\n",
              "    <script>\n",
              "      const buttonEl =\n",
              "        document.querySelector('#df-ceb6dd8d-fd25-41d1-9480-149a9e3881d5 button.colab-df-convert');\n",
              "      buttonEl.style.display =\n",
              "        google.colab.kernel.accessAllowed ? 'block' : 'none';\n",
              "\n",
              "      async function convertToInteractive(key) {\n",
              "        const element = document.querySelector('#df-ceb6dd8d-fd25-41d1-9480-149a9e3881d5');\n",
              "        const dataTable =\n",
              "          await google.colab.kernel.invokeFunction('convertToInteractive',\n",
              "                                                    [key], {});\n",
              "        if (!dataTable) return;\n",
              "\n",
              "        const docLinkHtml = 'Like what you see? Visit the ' +\n",
              "          '<a target=\"_blank\" href=https://colab.research.google.com/notebooks/data_table.ipynb>data table notebook</a>'\n",
              "          + ' to learn more about interactive tables.';\n",
              "        element.innerHTML = '';\n",
              "        dataTable['output_type'] = 'display_data';\n",
              "        await google.colab.output.renderOutput(dataTable, element);\n",
              "        const docLink = document.createElement('div');\n",
              "        docLink.innerHTML = docLinkHtml;\n",
              "        element.appendChild(docLink);\n",
              "      }\n",
              "    </script>\n",
              "  </div>\n",
              "\n",
              "\n",
              "<div id=\"df-44cbfccd-0a98-4a51-ad70-b24aaf14f8b4\">\n",
              "  <button class=\"colab-df-quickchart\" onclick=\"quickchart('df-44cbfccd-0a98-4a51-ad70-b24aaf14f8b4')\"\n",
              "            title=\"Suggest charts\"\n",
              "            style=\"display:none;\">\n",
              "\n",
              "<svg xmlns=\"http://www.w3.org/2000/svg\" height=\"24px\"viewBox=\"0 0 24 24\"\n",
              "     width=\"24px\">\n",
              "    <g>\n",
              "        <path d=\"M19 3H5c-1.1 0-2 .9-2 2v14c0 1.1.9 2 2 2h14c1.1 0 2-.9 2-2V5c0-1.1-.9-2-2-2zM9 17H7v-7h2v7zm4 0h-2V7h2v10zm4 0h-2v-4h2v4z\"/>\n",
              "    </g>\n",
              "</svg>\n",
              "  </button>\n",
              "\n",
              "<style>\n",
              "  .colab-df-quickchart {\n",
              "      --bg-color: #E8F0FE;\n",
              "      --fill-color: #1967D2;\n",
              "      --hover-bg-color: #E2EBFA;\n",
              "      --hover-fill-color: #174EA6;\n",
              "      --disabled-fill-color: #AAA;\n",
              "      --disabled-bg-color: #DDD;\n",
              "  }\n",
              "\n",
              "  [theme=dark] .colab-df-quickchart {\n",
              "      --bg-color: #3B4455;\n",
              "      --fill-color: #D2E3FC;\n",
              "      --hover-bg-color: #434B5C;\n",
              "      --hover-fill-color: #FFFFFF;\n",
              "      --disabled-bg-color: #3B4455;\n",
              "      --disabled-fill-color: #666;\n",
              "  }\n",
              "\n",
              "  .colab-df-quickchart {\n",
              "    background-color: var(--bg-color);\n",
              "    border: none;\n",
              "    border-radius: 50%;\n",
              "    cursor: pointer;\n",
              "    display: none;\n",
              "    fill: var(--fill-color);\n",
              "    height: 32px;\n",
              "    padding: 0;\n",
              "    width: 32px;\n",
              "  }\n",
              "\n",
              "  .colab-df-quickchart:hover {\n",
              "    background-color: var(--hover-bg-color);\n",
              "    box-shadow: 0 1px 2px rgba(60, 64, 67, 0.3), 0 1px 3px 1px rgba(60, 64, 67, 0.15);\n",
              "    fill: var(--button-hover-fill-color);\n",
              "  }\n",
              "\n",
              "  .colab-df-quickchart-complete:disabled,\n",
              "  .colab-df-quickchart-complete:disabled:hover {\n",
              "    background-color: var(--disabled-bg-color);\n",
              "    fill: var(--disabled-fill-color);\n",
              "    box-shadow: none;\n",
              "  }\n",
              "\n",
              "  .colab-df-spinner {\n",
              "    border: 2px solid var(--fill-color);\n",
              "    border-color: transparent;\n",
              "    border-bottom-color: var(--fill-color);\n",
              "    animation:\n",
              "      spin 1s steps(1) infinite;\n",
              "  }\n",
              "\n",
              "  @keyframes spin {\n",
              "    0% {\n",
              "      border-color: transparent;\n",
              "      border-bottom-color: var(--fill-color);\n",
              "      border-left-color: var(--fill-color);\n",
              "    }\n",
              "    20% {\n",
              "      border-color: transparent;\n",
              "      border-left-color: var(--fill-color);\n",
              "      border-top-color: var(--fill-color);\n",
              "    }\n",
              "    30% {\n",
              "      border-color: transparent;\n",
              "      border-left-color: var(--fill-color);\n",
              "      border-top-color: var(--fill-color);\n",
              "      border-right-color: var(--fill-color);\n",
              "    }\n",
              "    40% {\n",
              "      border-color: transparent;\n",
              "      border-right-color: var(--fill-color);\n",
              "      border-top-color: var(--fill-color);\n",
              "    }\n",
              "    60% {\n",
              "      border-color: transparent;\n",
              "      border-right-color: var(--fill-color);\n",
              "    }\n",
              "    80% {\n",
              "      border-color: transparent;\n",
              "      border-right-color: var(--fill-color);\n",
              "      border-bottom-color: var(--fill-color);\n",
              "    }\n",
              "    90% {\n",
              "      border-color: transparent;\n",
              "      border-bottom-color: var(--fill-color);\n",
              "    }\n",
              "  }\n",
              "</style>\n",
              "\n",
              "  <script>\n",
              "    async function quickchart(key) {\n",
              "      const quickchartButtonEl =\n",
              "        document.querySelector('#' + key + ' button');\n",
              "      quickchartButtonEl.disabled = true;  // To prevent multiple clicks.\n",
              "      quickchartButtonEl.classList.add('colab-df-spinner');\n",
              "      try {\n",
              "        const charts = await google.colab.kernel.invokeFunction(\n",
              "            'suggestCharts', [key], {});\n",
              "      } catch (error) {\n",
              "        console.error('Error during call to suggestCharts:', error);\n",
              "      }\n",
              "      quickchartButtonEl.classList.remove('colab-df-spinner');\n",
              "      quickchartButtonEl.classList.add('colab-df-quickchart-complete');\n",
              "    }\n",
              "    (() => {\n",
              "      let quickchartButtonEl =\n",
              "        document.querySelector('#df-44cbfccd-0a98-4a51-ad70-b24aaf14f8b4 button');\n",
              "      quickchartButtonEl.style.display =\n",
              "        google.colab.kernel.accessAllowed ? 'block' : 'none';\n",
              "    })();\n",
              "  </script>\n",
              "</div>\n",
              "\n",
              "  <div id=\"id_1dbc6cf8-5c23-40f0-9167-88a30592c02e\">\n",
              "    <style>\n",
              "      .colab-df-generate {\n",
              "        background-color: #E8F0FE;\n",
              "        border: none;\n",
              "        border-radius: 50%;\n",
              "        cursor: pointer;\n",
              "        display: none;\n",
              "        fill: #1967D2;\n",
              "        height: 32px;\n",
              "        padding: 0 0 0 0;\n",
              "        width: 32px;\n",
              "      }\n",
              "\n",
              "      .colab-df-generate:hover {\n",
              "        background-color: #E2EBFA;\n",
              "        box-shadow: 0px 1px 2px rgba(60, 64, 67, 0.3), 0px 1px 3px 1px rgba(60, 64, 67, 0.15);\n",
              "        fill: #174EA6;\n",
              "      }\n",
              "\n",
              "      [theme=dark] .colab-df-generate {\n",
              "        background-color: #3B4455;\n",
              "        fill: #D2E3FC;\n",
              "      }\n",
              "\n",
              "      [theme=dark] .colab-df-generate:hover {\n",
              "        background-color: #434B5C;\n",
              "        box-shadow: 0px 1px 3px 1px rgba(0, 0, 0, 0.15);\n",
              "        filter: drop-shadow(0px 1px 2px rgba(0, 0, 0, 0.3));\n",
              "        fill: #FFFFFF;\n",
              "      }\n",
              "    </style>\n",
              "    <button class=\"colab-df-generate\" onclick=\"generateWithVariable('wine_df')\"\n",
              "            title=\"Generate code using this dataframe.\"\n",
              "            style=\"display:none;\">\n",
              "\n",
              "  <svg xmlns=\"http://www.w3.org/2000/svg\" height=\"24px\"viewBox=\"0 0 24 24\"\n",
              "       width=\"24px\">\n",
              "    <path d=\"M7,19H8.4L18.45,9,17,7.55,7,17.6ZM5,21V16.75L18.45,3.32a2,2,0,0,1,2.83,0l1.4,1.43a1.91,1.91,0,0,1,.58,1.4,1.91,1.91,0,0,1-.58,1.4L9.25,21ZM18.45,9,17,7.55Zm-12,3A5.31,5.31,0,0,0,4.9,8.1,5.31,5.31,0,0,0,1,6.5,5.31,5.31,0,0,0,4.9,4.9,5.31,5.31,0,0,0,6.5,1,5.31,5.31,0,0,0,8.1,4.9,5.31,5.31,0,0,0,12,6.5,5.46,5.46,0,0,0,6.5,12Z\"/>\n",
              "  </svg>\n",
              "    </button>\n",
              "    <script>\n",
              "      (() => {\n",
              "      const buttonEl =\n",
              "        document.querySelector('#id_1dbc6cf8-5c23-40f0-9167-88a30592c02e button.colab-df-generate');\n",
              "      buttonEl.style.display =\n",
              "        google.colab.kernel.accessAllowed ? 'block' : 'none';\n",
              "\n",
              "      buttonEl.onclick = () => {\n",
              "        google.colab.notebook.generateWithVariable('wine_df');\n",
              "      }\n",
              "      })();\n",
              "    </script>\n",
              "  </div>\n",
              "\n",
              "    </div>\n",
              "  </div>\n"
            ],
            "application/vnd.google.colaboratory.intrinsic+json": {
              "type": "dataframe",
              "variable_name": "wine_df",
              "summary": "{\n  \"name\": \"wine_df\",\n  \"rows\": 6497,\n  \"fields\": [\n    {\n      \"column\": \"alcohol\",\n      \"properties\": {\n        \"dtype\": \"number\",\n        \"std\": 1.192711748870997,\n        \"min\": 8.0,\n        \"max\": 14.9,\n        \"num_unique_values\": 111,\n        \"samples\": [\n          10.933333333333302,\n          9.7,\n          10.5\n        ],\n        \"semantic_type\": \"\",\n        \"description\": \"\"\n      }\n    },\n    {\n      \"column\": \"sugar\",\n      \"properties\": {\n        \"dtype\": \"number\",\n        \"std\": 4.757803743147445,\n        \"min\": 0.6,\n        \"max\": 65.8,\n        \"num_unique_values\": 316,\n        \"samples\": [\n          18.95,\n          3.2,\n          9.3\n        ],\n        \"semantic_type\": \"\",\n        \"description\": \"\"\n      }\n    },\n    {\n      \"column\": \"pH\",\n      \"properties\": {\n        \"dtype\": \"number\",\n        \"std\": 0.1607872021039883,\n        \"min\": 2.72,\n        \"max\": 4.01,\n        \"num_unique_values\": 108,\n        \"samples\": [\n          3.74,\n          3.17,\n          3.3\n        ],\n        \"semantic_type\": \"\",\n        \"description\": \"\"\n      }\n    },\n    {\n      \"column\": \"class\",\n      \"properties\": {\n        \"dtype\": \"number\",\n        \"std\": 0.4307786597787123,\n        \"min\": 0.0,\n        \"max\": 1.0,\n        \"num_unique_values\": 2,\n        \"samples\": [\n          1.0,\n          0.0\n        ],\n        \"semantic_type\": \"\",\n        \"description\": \"\"\n      }\n    }\n  ]\n}"
            }
          },
          "metadata": {},
          "execution_count": 10
        }
      ]
    },
    {
      "cell_type": "code",
      "source": [
        "data = wine_df[['alcohol', 'sugar', 'pH']].to_numpy()\n",
        "target = wine_df['class'].to_numpy()"
      ],
      "metadata": {
        "id": "piqnEwqgMiNt"
      },
      "execution_count": null,
      "outputs": []
    },
    {
      "cell_type": "code",
      "source": [
        "# train / test 세트 나누기\n",
        "from sklearn.model_selection import train_test_split\n",
        "\n",
        "train_input, test_input, train_target, test_target = \\\n",
        "  train_test_split(data, target, test_size=0.2, random_state=42)"
      ],
      "metadata": {
        "id": "EPSX-oSxMiJu"
      },
      "execution_count": null,
      "outputs": []
    },
    {
      "cell_type": "code",
      "source": [
        "# cross_validate()\n",
        "#  return_train_score=  를 True 로 지정하면, 검증 점수뿐 아니라 훈련세트에 대한 점수로 같이 리턴함.\n",
        "#                               => 훈련세트와 검증세트 점수를 비교하여 overfit 파악 용이."
      ],
      "metadata": {
        "id": "DBW1z9ikWWMz"
      },
      "execution_count": null,
      "outputs": []
    },
    {
      "cell_type": "code",
      "source": [
        "from sklearn.model_selection import cross_validate\n",
        "from sklearn.ensemble import RandomForestClassifier"
      ],
      "metadata": {
        "id": "mHVXlwWXWWJh"
      },
      "execution_count": null,
      "outputs": []
    },
    {
      "cell_type": "markdown",
      "source": [
        "https://scikit-learn.org/stable/modules/generated/sklearn.ensemble.RandomForestClassifier.html\n",
        "\n",
        "```python\n",
        "class sklearn.ensemble.RandomForestClassifier(\n",
        "  n_estimators=100,\n",
        "  *,\n",
        "  criterion='gini',\n",
        "  max_depth=None,\n",
        "  min_samples_split=2,\n",
        "  min_samples_leaf=1,\n",
        "  min_weight_fraction_leaf=0.0,\n",
        "  max_features='sqrt',\n",
        "  max_leaf_nodes=None,\n",
        "  min_impurity_decrease=0.0,\n",
        "  bootstrap=True,\n",
        "  oob_score=False, # out of bag 샘플을 사용한 평가점수\n",
        "  n_jobs=None,  # 학습에 사용하는 cpu 코어개수\n",
        "  random_state=None, # 랜덤 시드\n",
        "  verbose=0,\n",
        "  warm_start=False,\n",
        "  class_weight=None,\n",
        "  ccp_alpha=0.0,\n",
        "  max_samples=None,\n",
        "  monotonic_cst=None)\n",
        "````\n",
        "\n",
        "↑ 기본적으로 DecisionTreeClassifier 의 거의 대부분의 매개변수들을 가지고 있다\n"
      ],
      "metadata": {
        "id": "C85JVhExdUIm"
      }
    },
    {
      "cell_type": "code",
      "source": [
        "rf = RandomForestClassifier(n_jobs=-1, random_state=42)\n",
        "\n",
        "scores = cross_validate(rf, train_input, train_target,\n",
        "                        return_train_score=True, #훈련데이터에 대한 점수도 리턴\n",
        "                        n_jobs=-1)\n",
        "scores\n"
      ],
      "metadata": {
        "colab": {
          "base_uri": "https://localhost:8080/"
        },
        "id": "HLQCfPS7WWGU",
        "outputId": "6deb0dd7-e038-464c-abf2-798eacec2184"
      },
      "execution_count": null,
      "outputs": [
        {
          "output_type": "execute_result",
          "data": {
            "text/plain": [
              "{'fit_time': array([2.68035722, 2.43916988, 2.64117789, 2.56359935, 0.81083632]),\n",
              " 'score_time': array([0.07601929, 0.13767338, 0.16810131, 0.18138933, 0.11807346]),\n",
              " 'test_score': array([0.88461538, 0.88942308, 0.90279115, 0.88931665, 0.88642926]),\n",
              " 'train_score': array([0.9971133 , 0.99663219, 0.9978355 , 0.9973545 , 0.9978355 ])}"
            ]
          },
          "metadata": {},
          "execution_count": 15
        }
      ]
    },
    {
      "cell_type": "code",
      "source": [
        "print(np.mean(scores['train_score']), np.mean(scores['test_score']))"
      ],
      "metadata": {
        "colab": {
          "base_uri": "https://localhost:8080/"
        },
        "id": "mNdq07jJWWC3",
        "outputId": "5afda96b-0f02-4fc4-8841-4289c940d3fa"
      },
      "execution_count": null,
      "outputs": [
        {
          "output_type": "stream",
          "name": "stdout",
          "text": [
            "0.9973541965122431 0.8905151032797809\n"
          ]
        }
      ]
    },
    {
      "cell_type": "code",
      "source": [
        "# 훈련세트에 오버핏"
      ],
      "metadata": {
        "id": "i5YE7nW7WV_k"
      },
      "execution_count": null,
      "outputs": []
    },
    {
      "cell_type": "markdown",
      "source": [
        "# 특성 중요도 feature_importances_"
      ],
      "metadata": {
        "id": "v2wmFdxRed8_"
      }
    },
    {
      "cell_type": "code",
      "source": [
        "# 랜덤포레스트의 특성중요도는 각 결정트리의 특성중요도를 취합한 거다"
      ],
      "metadata": {
        "id": "RKVKqUNZWV8J"
      },
      "execution_count": null,
      "outputs": []
    },
    {
      "cell_type": "code",
      "source": [
        "rf.fit(train_input, train_target)\n",
        "print(rf.feature_importances_)"
      ],
      "metadata": {
        "colab": {
          "base_uri": "https://localhost:8080/"
        },
        "id": "qiYgE2a5WV4i",
        "outputId": "8f9c9fe5-1909-4609-a10b-01119e0a54c7"
      },
      "execution_count": null,
      "outputs": [
        {
          "output_type": "stream",
          "name": "stdout",
          "text": [
            "[0.23167441 0.50039841 0.26792718]\n"
          ]
        }
      ]
    },
    {
      "cell_type": "code",
      "source": [
        "#    알코올       당도       pH\n",
        "# [0.12345626, 0.86862934, 0.0079144 ]  <- DecisionTree\n",
        "\n",
        "# [0.23167441 0.50039841 0.26792718]   <- RandomForest\n",
        "\n",
        "# 당도의 중요도는 감소하고, 알코올과 ph 중요도가 상승했다.\n",
        "# 이유는!  랜덤포레스트라 '특성의 일부' 를 '랜덤' 하게 선택하여 결정트리를 훈련함!\n",
        "#   => 그 결과 하나의 특성에 과도하게 집중하지 않고, 더 많은 특성이 훈련에 기여할 기회를 얻게 됨.\n",
        "#   => overfit 을 줄이고 일반화 성능을 높일수 있을것으로 기대."
      ],
      "metadata": {
        "id": "Sd8S7A2lWUuS"
      },
      "execution_count": null,
      "outputs": []
    },
    {
      "cell_type": "markdown",
      "source": [
        "## OOB (out of bag) 샘플\n",
        "부트스트랩 샘플에 포함되지 않고 남은 샘플"
      ],
      "metadata": {
        "id": "3ppUTHvBfwg4"
      }
    },
    {
      "cell_type": "code",
      "source": [
        "# RandomForestClassifier 는 OOB 샘플을 활용하여 자체적으로 모델을 평가하는 기능이 있다\n",
        "\n",
        "#  oob_score= 를 True 로 지정해야 한다"
      ],
      "metadata": {
        "id": "Pyt0Uyw1WUq7"
      },
      "execution_count": null,
      "outputs": []
    },
    {
      "cell_type": "code",
      "source": [
        "rf = RandomForestClassifier(\n",
        "    oob_score=True, #oob활용\n",
        "    n_jobs=-1,\n",
        "    random_state=42\n",
        ")\n",
        "\n",
        "rf.fit(train_input, train_target)\n",
        "print(rf.oob_score_)"
      ],
      "metadata": {
        "colab": {
          "base_uri": "https://localhost:8080/"
        },
        "id": "UtySkAcKWUno",
        "outputId": "02f0cb5c-7448-4268-c7c1-9849015b117a"
      },
      "execution_count": null,
      "outputs": [
        {
          "output_type": "stream",
          "name": "stdout",
          "text": [
            "0.8934000384837406\n"
          ]
        }
      ]
    },
    {
      "cell_type": "markdown",
      "source": [
        "# 엑스트라 트리\n",
        "Extra Tree"
      ],
      "metadata": {
        "id": "BP6RqEongnPK"
      }
    },
    {
      "cell_type": "markdown",
      "source": [
        "## ExtraTreeClassifier"
      ],
      "metadata": {
        "id": "JrbW3tK-gr8P"
      }
    },
    {
      "cell_type": "code",
      "source": [
        "# 엑스트라트리 가\n",
        "# 랜덤포레스트와 비슷한점\n",
        "#    - 기본적으로 100개의 결정트리 훈련\n",
        "#    - 결정트리가 제공하는 대부분의 매개변수 지원\n",
        "#    - 일부특성을 램던하게 선택하여 노드 분할\n",
        "\n",
        "# 랜덤포레스트와의 차이점!\n",
        "#    - 부트스프램 샘플 사용하지 않는다!\n",
        "#    - 결정트리 만들때 '전체세트' 사용.\n",
        "#    - 노드를 분할할때 가장 좋은 분할을 찾는게 아니라 '무작위 분할'함!\n",
        "#       - 사실 DecisionTreeClassifier 에서 splitter='random' 으로 지정한 결정트리가 바로 이거다.\n",
        "\n",
        "# 하나의 결정트리였다면.. 무작위 분할은 성능이 낮아지지만\n",
        "# 많은 트리를 앙상블 하면 overfit 억제하고 검증점수 높이는 효과 기대.\n"
      ],
      "metadata": {
        "id": "758RY-hiWUkK"
      },
      "execution_count": null,
      "outputs": []
    },
    {
      "cell_type": "code",
      "source": [
        "from sklearn.ensemble import ExtraTreesClassifier"
      ],
      "metadata": {
        "id": "zpk4rtCKWUhC"
      },
      "execution_count": null,
      "outputs": []
    },
    {
      "cell_type": "markdown",
      "source": [
        "https://scikit-learn.org/stable/modules/generated/sklearn.ensemble.ExtraTreesClassifier.html\n",
        "```python\n",
        "class sklearn.ensemble.ExtraTreesClassifier(\n",
        "  n_estimators=100,\n",
        "  *,\n",
        "  criterion='gini',\n",
        "  max_depth=None,\n",
        "  min_samples_split=2,\n",
        "  min_samples_leaf=1,\n",
        "  min_weight_fraction_leaf=0.0,\n",
        "  max_features='sqrt',\n",
        "  max_leaf_nodes=None,\n",
        "  min_impurity_decrease=0.0,\n",
        "  bootstrap=False,\n",
        "  oob_score=False,\n",
        "  n_jobs=None,\n",
        "  random_state=None,\n",
        "  verbose=0,\n",
        "  warm_start=False,\n",
        "  class_weight=None,\n",
        "  ccp_alpha=0.0,\n",
        "  max_samples=None,\n",
        "  monotonic_cst=None)\n",
        "```\n"
      ],
      "metadata": {
        "id": "KmXFeidkhail"
      }
    },
    {
      "cell_type": "code",
      "source": [
        "et = ExtraTreesClassifier(n_jobs=-1, random_state=42)\n",
        "scores = cross_validate(et, train_input, train_target,\n",
        "                        return_train_score=True, n_jobs=-1)\n",
        "print(np.mean(scores['train_score']), np.mean(scores['test_score']))"
      ],
      "metadata": {
        "colab": {
          "base_uri": "https://localhost:8080/"
        },
        "id": "JB_vQQQhWUdr",
        "outputId": "24586d9e-576a-403b-a2ea-f52a27f707a8"
      },
      "execution_count": null,
      "outputs": [
        {
          "output_type": "stream",
          "name": "stdout",
          "text": [
            "0.9974503966084433 0.8887848893166506\n"
          ]
        }
      ]
    },
    {
      "cell_type": "code",
      "source": [
        "# 일반적으론,\n",
        "# 엑스트라트라가 무작위성이 좀 더 크기 때문에 랜덤포레스트보다는 더 많은 결정트리 훈련해야 한다.\n",
        "# 램덤하게 노드 분할하기때문에 계산속도는 상대적으로 빠르다"
      ],
      "metadata": {
        "id": "RNa8s9AQWUaS"
      },
      "execution_count": null,
      "outputs": []
    },
    {
      "cell_type": "code",
      "source": [
        "# 특성중요도\n",
        "et.fit(train_input, train_target)\n",
        "print(et.feature_importances_)"
      ],
      "metadata": {
        "colab": {
          "base_uri": "https://localhost:8080/"
        },
        "id": "1INOkespWUXG",
        "outputId": "9b762b84-46b4-4211-9167-193e0b58d95d"
      },
      "execution_count": null,
      "outputs": [
        {
          "output_type": "stream",
          "name": "stdout",
          "text": [
            "[0.20183568 0.52242907 0.27573525]\n"
          ]
        }
      ]
    },
    {
      "cell_type": "code",
      "source": [
        "#    알코올       당도       pH\n",
        "# [0.12345626, 0.86862934, 0.0079144 ]  <- DecisionTree\n",
        "\n",
        "# [0.23167441 0.50039841 0.26792718]   <- RandomForest\n",
        "\n",
        "# [0.20183568 0.52242907 0.27573525]   <- ExtraTree"
      ],
      "metadata": {
        "id": "L0d_KaO5WUTy"
      },
      "execution_count": null,
      "outputs": []
    },
    {
      "cell_type": "markdown",
      "source": [
        "# 그래디언트 부스팅\n",
        "\n",
        "Gradient Boosting"
      ],
      "metadata": {
        "id": "An5zezptjJv7"
      }
    },
    {
      "cell_type": "markdown",
      "source": [
        "## GradientBoostingClassifier"
      ],
      "metadata": {
        "id": "C2E1SEUpjOeq"
      }
    },
    {
      "cell_type": "code",
      "source": [
        "# GradientBoostingClassifier 는 얕은깊이의 결정트리 사용\n",
        "# 깊이 3 결정트리 x 100ro tkdyd\n",
        "# 깊이가 얕기에 오버핏 억제에 유리, 높은 일반화 성능 기대"
      ],
      "metadata": {
        "id": "Z_Jg-1JYWUEX"
      },
      "execution_count": null,
      "outputs": []
    },
    {
      "cell_type": "code",
      "source": [
        "# '경사하강법' 을 사용하여 트리를 앙상블에 추가함.\n",
        "\n",
        "# 그레디언트는 무엇이? 낮을 곳을 찾아 이동하게 되나?\n",
        "#  '그레디언트 부스팅' 은 결정트리를 '계속 추가'하면서 가장 낮은 곳을 찾아 이동.\n",
        "#   손실함수의 낮은곳으로 '천천히 조금씩' 이동하듯이\n",
        "#   그레디언트 부스팅도 '깊이가 얕은 트리를 사용'하여  조금씩 낮은곳으로 이동."
      ],
      "metadata": {
        "id": "AS_I4emzWUBK"
      },
      "execution_count": null,
      "outputs": []
    },
    {
      "cell_type": "code",
      "source": [
        "from sklearn.ensemble import GradientBoostingClassifier"
      ],
      "metadata": {
        "id": "gbyP-2coWT-D"
      },
      "execution_count": null,
      "outputs": []
    },
    {
      "cell_type": "markdown",
      "source": [
        "https://scikit-learn.org/stable/modules/generated/sklearn.ensemble.GradientBoostingClassifier.html\n",
        "\n",
        "```python\n",
        "class sklearn.ensemble.GradientBoostingClassifier(\n",
        "  *,\n",
        "  loss='log_loss',   # 손실함수\n",
        "  learning_rate=0.1, # 학습률  \n",
        "  n_estimators=100,  # 트리의 개수\n",
        "  subsample=1.0,\n",
        "  criterion='friedman_mse',\n",
        "  min_samples_split=2,\n",
        "  min_samples_leaf=1,\n",
        "  min_weight_fraction_leaf=0.0,\n",
        "  max_depth=3,\n",
        "  min_impurity_decrease=0.0,\n",
        "  init=None,\n",
        "  random_state=None,\n",
        "  max_features=None,\n",
        "  verbose=0,\n",
        "  max_leaf_nodes=None,\n",
        "  warm_start=False,\n",
        "  validation_fraction=0.1,\n",
        "  n_iter_no_change=None,\n",
        "  tol=0.0001,\n",
        "  ccp_alpha=0.0)\n",
        "```\n"
      ],
      "metadata": {
        "id": "-LGHIdIpkDkf"
      }
    },
    {
      "cell_type": "code",
      "source": [
        "gb = GradientBoostingClassifier(random_state=42)\n",
        "scores = cross_validate(gb, train_input, train_target,\n",
        "                        return_train_score=True, n_jobs=-1)\n",
        "print(np.mean(scores['train_score']), np.mean(scores['test_score']))"
      ],
      "metadata": {
        "colab": {
          "base_uri": "https://localhost:8080/"
        },
        "id": "zJKeyJXpWT62",
        "outputId": "fff9d0c4-1cc9-48ca-d29b-ad0592ddfb59"
      },
      "execution_count": null,
      "outputs": [
        {
          "output_type": "stream",
          "name": "stdout",
          "text": [
            "0.8881086892152563 0.8720430147331015\n"
          ]
        }
      ]
    },
    {
      "cell_type": "code",
      "source": [
        "#  ↑ overfit 이 많이 억제되고 있다.\n",
        "#  그레디언트 부스팅은 결정트리의 개수를 늘려도 overfit 에 강하다."
      ],
      "metadata": {
        "id": "mEDoH1AwWT3p"
      },
      "execution_count": null,
      "outputs": []
    },
    {
      "cell_type": "code",
      "source": [
        "# 학습률 learing_rate 와 트리 개수 증가\n",
        "\n",
        "gb = GradientBoostingClassifier(\n",
        "    random_state=42,\n",
        "    n_estimators=500, # 트리의 개수를 늘려보자\n",
        "    learning_rate=0.2 # 학습률 증가\n",
        "    )\n",
        "scores = cross_validate(gb, train_input, train_target,\n",
        "                        return_train_score=True, n_jobs=-1)\n",
        "print(np.mean(scores['train_score']), np.mean(scores['test_score']))"
      ],
      "metadata": {
        "colab": {
          "base_uri": "https://localhost:8080/"
        },
        "id": "SaK5Tsc7WT0c",
        "outputId": "fe903bcb-09c5-43d2-8275-5f7d606352ca"
      },
      "execution_count": null,
      "outputs": [
        {
          "output_type": "stream",
          "name": "stdout",
          "text": [
            "0.9464595437171814 0.8780082549788999\n"
          ]
        }
      ]
    },
    {
      "cell_type": "code",
      "source": [
        "# 결정트리의 개수를 5배나 늘려씾만, 그에 비해선 overfit을 잘 억제하고 있다."
      ],
      "metadata": {
        "id": "-UIpfHs_WTxg"
      },
      "execution_count": null,
      "outputs": []
    },
    {
      "cell_type": "code",
      "source": [
        "# 특성중요도\n",
        "gb.fit(train_input, train_target)\n",
        "print(gb.feature_importances_)"
      ],
      "metadata": {
        "colab": {
          "base_uri": "https://localhost:8080/"
        },
        "id": "xe7a41M-WTud",
        "outputId": "2ad2ee0a-552b-4445-8075-e6d73156c29f"
      },
      "execution_count": null,
      "outputs": [
        {
          "output_type": "stream",
          "name": "stdout",
          "text": [
            "[0.15887763 0.6799705  0.16115187]\n"
          ]
        }
      ]
    },
    {
      "cell_type": "code",
      "source": [
        "#    알코올       당도       pH\n",
        "# [0.12345626, 0.86862934, 0.0079144 ]  <- DecisionTree\n",
        "\n",
        "# [0.23167441 0.50039841 0.26792718]   <- RandomForest\n",
        "\n",
        "# [0.20183568 0.52242907 0.27573525]   <- ExtraTree\n",
        "\n",
        "# [0.15887763 0.6799705  0.16115187]   <- GradientBoosting"
      ],
      "metadata": {
        "id": "sWJfTM6-WTrb"
      },
      "execution_count": null,
      "outputs": []
    },
    {
      "cell_type": "markdown",
      "source": [
        "## subsample= 파라미터"
      ],
      "metadata": {
        "id": "2c7H0A3ll6eg"
      }
    },
    {
      "cell_type": "code",
      "source": [
        "# subsample: 트리훈련에 사용할 훈련세트의 비율을 정함.\n",
        "#       기본값 1.0 => '전체훈련세트' 사용\n",
        "#       1.0보다 작으면 => '훈련세트의 일부' 사용\n",
        "#              => 확률적 경사하강법, 미니배치경사하강법 과 비슷하게\n",
        "#                 경사 하강법 단계마다 일부 샘플을 랜덤하게 선택하여 진행."
      ],
      "metadata": {
        "id": "SSjUZNLqWToa"
      },
      "execution_count": null,
      "outputs": []
    },
    {
      "cell_type": "code",
      "source": [
        "# 일반적으로 그레디언트 부스팅이 랜덤포레스트보다 성능은 좀더 높지만, 훈련속도가 느리다.\n",
        "#  이유는!  n_jobs 매개변수가 없다.  (병렬 프로세싱 안된다...)\n",
        "#  순서대로 트리를 추가해가면서 훈련하기 때문이다.\n"
      ],
      "metadata": {
        "id": "bhRbSGIuWTlS"
      },
      "execution_count": null,
      "outputs": []
    },
    {
      "cell_type": "markdown",
      "source": [
        "# 히스토그램 기반 그레디언트 부스팅\n",
        "Histogram-based Gradient Boosting\n"
      ],
      "metadata": {
        "id": "nPfIzEi4yI99"
      }
    },
    {
      "cell_type": "markdown",
      "source": [
        "## HistGradientBoostingClassifier"
      ],
      "metadata": {
        "id": "JDG6QTYFyLuu"
      }
    },
    {
      "cell_type": "code",
      "source": [
        "# 입력데이터의 특성을 '구간' 으로 나눈다.  (기본 256개의 구간)\n",
        "# => 노드를 분할할때 최적의 분할을 매우 빠르게 찾을수 있다.\n",
        "\n",
        "# 256개의 구간중에서 하나는 떼어놓는다 => 누락된 값을 위해서 사용하기 위함."
      ],
      "metadata": {
        "id": "7BbC3YkGyKeo"
      },
      "execution_count": null,
      "outputs": []
    },
    {
      "cell_type": "code",
      "source": [
        "# 기본 매개변수에서 안정적인 성능\n",
        "# 트리의 개수를 지정하는데 n_estimators= 대신에  max_iter= 사용.\n",
        "# 부스팅 반복횟수를 지정하는 max_iter 사용.  <- 성능을 높일때 이 매개변수를 조정해보세요."
      ],
      "metadata": {
        "id": "INjVjPVdyKba"
      },
      "execution_count": null,
      "outputs": []
    },
    {
      "cell_type": "code",
      "source": [
        "from sklearn.ensemble import HistGradientBoostingClassifier"
      ],
      "metadata": {
        "id": "5uDHoRutyKYV"
      },
      "execution_count": null,
      "outputs": []
    },
    {
      "cell_type": "markdown",
      "source": [
        "https://scikit-learn.org/stable/modules/generated/sklearn.ensemble.HistGradientBoostingClassifier.html\n",
        "\n",
        "```python\n",
        "class sklearn.ensemble.HistGradientBoostingClassifier(\n",
        "  loss='log_loss',\n",
        "  *,\n",
        "  learning_rate=0.1,\n",
        "  max_iter=100, # 부스팅 반복 횟수\n",
        "  max_leaf_nodes=31,\n",
        "  max_depth=None,\n",
        "  min_samples_leaf=20,\n",
        "  l2_regularization=0.0,\n",
        "  max_features=1.0,\n",
        "  max_bins=255,\n",
        "  categorical_features='from_dtype',\n",
        "  monotonic_cst=None,\n",
        "  interaction_cst=None,\n",
        "  warm_start=False,\n",
        "  early_stopping='auto',\n",
        "  scoring='loss',\n",
        "  validation_fraction=0.1,\n",
        "  n_iter_no_change=10,\n",
        "  tol=1e-07,\n",
        "  verbose=0,\n",
        "  random_state=None,\n",
        "  class_weight=None)\n",
        "```\n"
      ],
      "metadata": {
        "id": "CVOuQth6y7uh"
      }
    },
    {
      "cell_type": "code",
      "source": [
        "hgb = HistGradientBoostingClassifier(random_state=42)\n",
        "scores = cross_validate(hgb, train_input, train_target, return_train_score=True, n_jobs=-1)\n",
        "\n",
        "print(np.mean(scores['train_score']), np.mean(scores['test_score']))"
      ],
      "metadata": {
        "colab": {
          "base_uri": "https://localhost:8080/"
        },
        "id": "AalxFzhHyKVT",
        "outputId": "c7cb7d19-b3b1-405d-c788-cf4f54c13c27"
      },
      "execution_count": null,
      "outputs": [
        {
          "output_type": "stream",
          "name": "stdout",
          "text": [
            "0.9321723946453317 0.8801241948619236\n"
          ]
        }
      ]
    },
    {
      "cell_type": "code",
      "source": [
        "# 0.8881086892152563 0.8720430147331015  <- Gradient Boosting\n",
        "# 0.9321723946453317 0.8801241948619236  <- HistGradientBoosting"
      ],
      "metadata": {
        "id": "F4EU-G01yKSD"
      },
      "execution_count": null,
      "outputs": []
    },
    {
      "cell_type": "markdown",
      "source": [
        "## 특성 중요도 permutation_importance()"
      ],
      "metadata": {
        "id": "atxn4wKOz2Q6"
      }
    },
    {
      "cell_type": "code",
      "source": [
        "# 특성중요도 : permutation_importance() 사용\n",
        "#  특성을 하나씩 램덤하게 섞어서 모델의 성능이 변화하는지 관찰한 후 어떤 특성이 중요한지 계산\n",
        "#  n_repeats=  : 랜덤하게 섞을 횟수 지정 (디폴트 5)"
      ],
      "metadata": {
        "id": "SJa4uwDByKMV"
      },
      "execution_count": null,
      "outputs": []
    },
    {
      "cell_type": "code",
      "source": [
        "from sklearn.inspection import permutation_importance"
      ],
      "metadata": {
        "id": "tYtuQEHOyKJQ"
      },
      "execution_count": null,
      "outputs": []
    },
    {
      "cell_type": "markdown",
      "source": [
        "https://scikit-learn.org/stable/modules/generated/sklearn.inspection.permutation_importance.html\n",
        "\n",
        "```python\n",
        "sklearn.inspection.permutation_importance(\n",
        "  estimator,\n",
        "  X,\n",
        "  y,\n",
        "  *,\n",
        "  scoring=None,\n",
        "  n_repeats=5, # 랜덤하게 섞을 횟수\n",
        "  n_jobs=None,\n",
        "  random_state=None,\n",
        "  sample_weight=None,\n",
        "  max_samples=1.0)\n",
        "```\n"
      ],
      "metadata": {
        "id": "XCjz0GkW0PpP"
      }
    },
    {
      "cell_type": "code",
      "source": [
        "# 훈련세트에서 특성 중요도 계산\n",
        "hgb.fit(train_input, train_target)\n",
        "result = permutation_importance(hgb, train_input, train_target, n_repeats=10, random_state=42, n_jobs=-1)\n",
        "\n",
        "print(result.importances_mean)"
      ],
      "metadata": {
        "colab": {
          "base_uri": "https://localhost:8080/"
        },
        "id": "2A0H1bE8yKDN",
        "outputId": "683aeeff-c762-49eb-b97c-e29b2ff56110"
      },
      "execution_count": null,
      "outputs": [
        {
          "output_type": "stream",
          "name": "stdout",
          "text": [
            "[0.08876275 0.23438522 0.08027708]\n"
          ]
        }
      ]
    },
    {
      "cell_type": "code",
      "source": [
        "#     알코올      당도      pH\n",
        "\n",
        "# [0.12345626, 0.86862934, 0.0079144 ]  <- DecisionTree\n",
        "\n",
        "# [0.23167441 0.50039841 0.26792718]   <- RandomForest\n",
        "\n",
        "# [0.20183568 0.52242907 0.27573525]   <- ExtraTree\n",
        "\n",
        "# [0.15887763 0.6799705  0.16115187]   <- GradientBoosting\n",
        "\n",
        "# [0.08876275 0.23438522 0.08027708]  <- Hist Gradient Boosting"
      ],
      "metadata": {
        "id": "hQtaeu0nyJ_-"
      },
      "execution_count": null,
      "outputs": []
    },
    {
      "cell_type": "code",
      "source": [
        "# 테스트세트에서 특성 중요도 계산\n",
        "result = permutation_importance(hgb, test_input, test_target, n_repeats=10, random_state=42, n_jobs=-1)\n",
        "\n",
        "print(result.importances_mean)"
      ],
      "metadata": {
        "colab": {
          "base_uri": "https://localhost:8080/"
        },
        "id": "ViSSmyOuyJ88",
        "outputId": "0114a819-c659-4bb1-c511-4e1ffbef748d"
      },
      "execution_count": null,
      "outputs": [
        {
          "output_type": "stream",
          "name": "stdout",
          "text": [
            "[0.05969231 0.20238462 0.049     ]\n"
          ]
        }
      ]
    },
    {
      "cell_type": "code",
      "source": [
        "# [0.05969231 0.20238462 0.049     ]"
      ],
      "metadata": {
        "id": "7PkZxxU31k7a"
      },
      "execution_count": null,
      "outputs": []
    },
    {
      "cell_type": "code",
      "source": [
        "# 테스트 세트 점수\n",
        "hgb.score(test_input, test_target)"
      ],
      "metadata": {
        "colab": {
          "base_uri": "https://localhost:8080/"
        },
        "id": "Q_x6tAv0yJ6K",
        "outputId": "a6208500-1594-465f-c54b-1bbd7df3677f"
      },
      "execution_count": null,
      "outputs": [
        {
          "output_type": "execute_result",
          "data": {
            "text/plain": [
              "0.8723076923076923"
            ]
          },
          "metadata": {},
          "execution_count": 50
        }
      ]
    },
    {
      "cell_type": "markdown",
      "source": [
        "## XGBoost"
      ],
      "metadata": {
        "id": "oKvkMjtu2OcH"
      }
    },
    {
      "cell_type": "code",
      "source": [
        "# XGBoost 는 다양한 부스팅 알고리즘 지원\n",
        "# tree_method=  를 'hist' 로 지정하면\n",
        "# 히스토그램 기반 그레디언트 부스팅 을 사용할수 있다"
      ],
      "metadata": {
        "id": "zriuVZp8yJ3b"
      },
      "execution_count": null,
      "outputs": []
    },
    {
      "cell_type": "code",
      "source": [
        "from xgboost import XGBClassifier"
      ],
      "metadata": {
        "id": "zOptBDjmWTiP"
      },
      "execution_count": null,
      "outputs": []
    },
    {
      "cell_type": "code",
      "source": [
        "xgb = XGBClassifier(tree_method='hist', random_state=42)\n",
        "\n",
        "scores = cross_validate(xgb, train_input, train_target, return_train_score=True, n_jobs=-1)\n",
        "\n",
        "print(np.mean(scores['train_score']), np.mean(scores['test_score']))"
      ],
      "metadata": {
        "id": "xHkpXkCcWTfU",
        "colab": {
          "base_uri": "https://localhost:8080/"
        },
        "outputId": "2bf1666f-3d28-4370-a18d-188cfe462337"
      },
      "execution_count": null,
      "outputs": [
        {
          "output_type": "stream",
          "name": "stdout",
          "text": [
            "0.9558403027491312 0.8782000074035686\n"
          ]
        }
      ]
    },
    {
      "cell_type": "markdown",
      "source": [
        "## LightGBM"
      ],
      "metadata": {
        "id": "0N27fnKr3OJi"
      }
    },
    {
      "cell_type": "code",
      "source": [
        "# XGBoost 보다 속도가 빠르고 메모리 효율성이 높음"
      ],
      "metadata": {
        "id": "Ld_6w5lgWTcY"
      },
      "execution_count": null,
      "outputs": []
    },
    {
      "cell_type": "code",
      "source": [
        "from lightgbm import LGBMClassifier"
      ],
      "metadata": {
        "id": "l_CXFhfJWTZV"
      },
      "execution_count": null,
      "outputs": []
    },
    {
      "cell_type": "code",
      "source": [
        "lgb = LGBMClassifier(random_state=42)\n",
        "\n",
        "scores = cross_validate(lgb, train_input, train_target, return_train_score=True, n_jobs=-1)\n",
        "\n",
        "print(np.mean(scores['train_score']), np.mean(scores['test_score']))"
      ],
      "metadata": {
        "id": "lb4F5b45WTWY",
        "colab": {
          "base_uri": "https://localhost:8080/"
        },
        "outputId": "510be5cf-767d-4e0b-a8f3-d995e5e3bd25"
      },
      "execution_count": null,
      "outputs": [
        {
          "output_type": "stream",
          "name": "stdout",
          "text": [
            "0.935828414851749 0.8801251203079884\n"
          ]
        }
      ]
    },
    {
      "cell_type": "markdown",
      "source": [
        "# 앙상블 학습 (정리)\n",
        "\n",
        "앙상블 학습은 **'정형 데이터'**에서 가장 뛰어난 성능을 내는 머신러닝 알고리즘 중 하나입니다\n",
        "\n",
        "↓대표적인 앙상블 학습들\n",
        "\n",
        "1. 사이킷럿\n",
        "    1. 랜덤포레스트 : 부트스트랩 샘플 사용. 대표 앙상블 학습알고리즘\n",
        "    1. 엑스트라 트리 : 결정트리의 노드를 랜덤하게 분할함\n",
        "    1. 그레디언트 부스팅 : 이전 트리의 손실을 보완하는 식으로 얕은 결정 트리를 연속적으로 추가함\n",
        "    1. 히스토그램 기반 그레디언트 부스팅 : 훈련 데이터를 256개 정수 구간으로 나누어 빠르고 높은 성능을 냄\n",
        "   \n",
        "1. 그 밖의 라이브러리\n",
        "    1. XGBoost\n",
        "    1. LightGBM\n"
      ],
      "metadata": {
        "id": "ooEkl-qx4AZw"
      }
    },
    {
      "cell_type": "code",
      "source": [],
      "metadata": {
        "id": "hYmiwKLuWTTY"
      },
      "execution_count": null,
      "outputs": []
    },
    {
      "cell_type": "code",
      "source": [],
      "metadata": {
        "id": "sx2stGcaWTQf"
      },
      "execution_count": null,
      "outputs": []
    },
    {
      "cell_type": "code",
      "source": [],
      "metadata": {
        "id": "iN_VorD3WTNN"
      },
      "execution_count": null,
      "outputs": []
    },
    {
      "cell_type": "code",
      "source": [],
      "metadata": {
        "id": "Z4hte7mSWTJv"
      },
      "execution_count": null,
      "outputs": []
    },
    {
      "cell_type": "code",
      "source": [],
      "metadata": {
        "id": "PH-qd_xyWTF7"
      },
      "execution_count": null,
      "outputs": []
    },
    {
      "cell_type": "code",
      "source": [],
      "metadata": {
        "id": "Jravf9nFWTCo"
      },
      "execution_count": null,
      "outputs": []
    },
    {
      "cell_type": "code",
      "execution_count": null,
      "metadata": {
        "id": "jn8ZorMZWOoz"
      },
      "outputs": [],
      "source": []
    }
  ]
}