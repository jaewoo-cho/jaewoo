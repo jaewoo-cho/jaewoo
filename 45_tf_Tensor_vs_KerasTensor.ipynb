{
  "nbformat": 4,
  "nbformat_minor": 0,
  "metadata": {
    "colab": {
      "provenance": [],
      "authorship_tag": "ABX9TyPnVxd1NH5Y1NRzu5XFywEQ",
      "include_colab_link": true
    },
    "kernelspec": {
      "name": "python3",
      "display_name": "Python 3"
    },
    "language_info": {
      "name": "python"
    }
  },
  "cells": [
    {
      "cell_type": "markdown",
      "metadata": {
        "id": "view-in-github",
        "colab_type": "text"
      },
      "source": [
        "<a href=\"https://colab.research.google.com/github/jaewoo-cho/jaewoo/blob/master/45_tf_Tensor_vs_KerasTensor.ipynb\" target=\"_parent\"><img src=\"https://colab.research.google.com/assets/colab-badge.svg\" alt=\"Open In Colab\"/></a>"
      ]
    },
    {
      "cell_type": "code",
      "source": [
        "import numpy as np\n",
        "import tensorflow as tf\n",
        "from tensorflow import keras\n",
        "import matplotlib.pyplot as plt\n",
        "import os\n"
      ],
      "metadata": {
        "id": "sG7xS7KvlNvS"
      },
      "execution_count": null,
      "outputs": []
    },
    {
      "cell_type": "markdown",
      "source": [
        "# tf.Tensor"
      ],
      "metadata": {
        "id": "sBgDVe0dlX5D"
      }
    },
    {
      "cell_type": "markdown",
      "source": [
        "# tf.Tensor (Tensorflow Tensor)\n",
        "- **기본 Tensor 타입**으로, TensorFlow 연산에서 다루는 **실제 데이터**를 담고 있음.\n",
        "\n",
        "- 연산 그래프에서 **계산 가능**한 값이며, Numpy처럼 연산이 가능한 다차원 배열.\n",
        "\n",
        "- `tf.constant()`, `tf.Variable()`, 또는 어떤 '연산'의 결과로 만들어짐.\n"
      ],
      "metadata": {
        "id": "gop95PTUlbGm"
      }
    },
    {
      "cell_type": "markdown",
      "source": [
        "## tf.constant()"
      ],
      "metadata": {
        "id": "N27w_Jo8lnfy"
      }
    },
    {
      "cell_type": "code",
      "source": [
        "tf.constant([1,2,3])"
      ],
      "metadata": {
        "colab": {
          "base_uri": "https://localhost:8080/"
        },
        "id": "upOvTUlilNr4",
        "outputId": "112b1b20-80fa-41f1-f40b-b55eb4f7d2cb"
      },
      "execution_count": null,
      "outputs": [
        {
          "output_type": "execute_result",
          "data": {
            "text/plain": [
              "<tf.Tensor: shape=(3,), dtype=int32, numpy=array([1, 2, 3], dtype=int32)>"
            ]
          },
          "metadata": {},
          "execution_count": 2
        }
      ]
    },
    {
      "cell_type": "code",
      "source": [
        "tf.constant(((1,2,3), (4,5,6)))"
      ],
      "metadata": {
        "colab": {
          "base_uri": "https://localhost:8080/"
        },
        "id": "kIMsOHqAlNof",
        "outputId": "ebe32072-558c-478f-f5fc-6a02e5b5cdc1"
      },
      "execution_count": null,
      "outputs": [
        {
          "output_type": "execute_result",
          "data": {
            "text/plain": [
              "<tf.Tensor: shape=(2, 3), dtype=int32, numpy=\n",
              "array([[1, 2, 3],\n",
              "       [4, 5, 6]], dtype=int32)>"
            ]
          },
          "metadata": {},
          "execution_count": 3
        }
      ]
    },
    {
      "cell_type": "code",
      "source": [
        "tensor = tf.constant(np.array([10,20,30]))\n",
        "tensor"
      ],
      "metadata": {
        "colab": {
          "base_uri": "https://localhost:8080/"
        },
        "id": "Oya86iBilNkY",
        "outputId": "894c000b-c2f7-42f8-c4eb-5253737049b1"
      },
      "execution_count": null,
      "outputs": [
        {
          "output_type": "execute_result",
          "data": {
            "text/plain": [
              "<tf.Tensor: shape=(3,), dtype=int64, numpy=array([10, 20, 30])>"
            ]
          },
          "metadata": {},
          "execution_count": 4
        }
      ]
    },
    {
      "cell_type": "markdown",
      "source": [
        "## Tensor의 정보"
      ],
      "metadata": {
        "id": "V1KTN27qmDqK"
      }
    },
    {
      "cell_type": "code",
      "source": [
        "tensor.shape"
      ],
      "metadata": {
        "colab": {
          "base_uri": "https://localhost:8080/"
        },
        "id": "dV1WrrHFlNhG",
        "outputId": "bcb7962d-4e3e-4c6f-c80a-45267d31fc20"
      },
      "execution_count": null,
      "outputs": [
        {
          "output_type": "execute_result",
          "data": {
            "text/plain": [
              "TensorShape([3])"
            ]
          },
          "metadata": {},
          "execution_count": 5
        }
      ]
    },
    {
      "cell_type": "code",
      "source": [
        "tensor.ndim"
      ],
      "metadata": {
        "colab": {
          "base_uri": "https://localhost:8080/"
        },
        "id": "xQG28ZcFlNdf",
        "outputId": "863d00dc-29ae-4f48-c07f-9e4e2e351d0b"
      },
      "execution_count": null,
      "outputs": [
        {
          "output_type": "execute_result",
          "data": {
            "text/plain": [
              "1"
            ]
          },
          "metadata": {},
          "execution_count": 6
        }
      ]
    },
    {
      "cell_type": "code",
      "source": [
        "tensor.dtype"
      ],
      "metadata": {
        "colab": {
          "base_uri": "https://localhost:8080/"
        },
        "id": "YfOR49AnlNaA",
        "outputId": "0fbe307a-f11d-4ad3-db94-a2a412c46f8e"
      },
      "execution_count": null,
      "outputs": [
        {
          "output_type": "execute_result",
          "data": {
            "text/plain": [
              "tf.int64"
            ]
          },
          "metadata": {},
          "execution_count": 7
        }
      ]
    },
    {
      "cell_type": "code",
      "source": [
        "# 주의: Tensor 생성 할 때도 data type을 정해주지 않기 때문에 data type에 대한 혼동이 올 수 있음\n",
        "# Data Type에 따라 모델의 무게나 성능 차이에도 영향을 줄 수 있음"
      ],
      "metadata": {
        "id": "Yc0hRy93lNWo"
      },
      "execution_count": null,
      "outputs": []
    },
    {
      "cell_type": "markdown",
      "source": [
        "# data type(dtype=)"
      ],
      "metadata": {
        "id": "SMPrfXAYmYPa"
      }
    },
    {
      "cell_type": "code",
      "source": [
        "tf.constant([11,22,33], dtype=tf.uint8)"
      ],
      "metadata": {
        "colab": {
          "base_uri": "https://localhost:8080/"
        },
        "id": "ht1CUBx0lNTZ",
        "outputId": "f6daa727-abe6-499d-f912-7158d9c7aa8c"
      },
      "execution_count": null,
      "outputs": [
        {
          "output_type": "execute_result",
          "data": {
            "text/plain": [
              "<tf.Tensor: shape=(3,), dtype=uint8, numpy=array([11, 22, 33], dtype=uint8)>"
            ]
          },
          "metadata": {},
          "execution_count": 9
        }
      ]
    },
    {
      "cell_type": "code",
      "source": [
        "tf.constant([11,22,33], dtype=tf.float32)"
      ],
      "metadata": {
        "colab": {
          "base_uri": "https://localhost:8080/"
        },
        "id": "0O4BBrJulNP6",
        "outputId": "8f46f879-510f-4009-e682-fbf63115a9c2"
      },
      "execution_count": null,
      "outputs": [
        {
          "output_type": "execute_result",
          "data": {
            "text/plain": [
              "<tf.Tensor: shape=(3,), dtype=float32, numpy=array([11., 22., 33.], dtype=float32)>"
            ]
          },
          "metadata": {},
          "execution_count": 10
        }
      ]
    },
    {
      "cell_type": "markdown",
      "source": [
        "## data type 변환 (tf.cast)\n",
        "- Numpy에서 astype()을 주었듯이, TensorFlow에서는 tf.cast를 사용\n"
      ],
      "metadata": {
        "id": "FOZLFRBTmwQq"
      }
    },
    {
      "cell_type": "code",
      "source": [
        "tensor = tf.constant([11,22,33], dtype=tf.float32)\n",
        "tensor"
      ],
      "metadata": {
        "colab": {
          "base_uri": "https://localhost:8080/"
        },
        "id": "IDaNNT8VlNMf",
        "outputId": "34bae751-4a10-48c1-be32-cfb1337eaca5"
      },
      "execution_count": null,
      "outputs": [
        {
          "output_type": "execute_result",
          "data": {
            "text/plain": [
              "<tf.Tensor: shape=(3,), dtype=float32, numpy=array([11., 22., 33.], dtype=float32)>"
            ]
          },
          "metadata": {},
          "execution_count": 11
        }
      ]
    },
    {
      "cell_type": "code",
      "source": [
        "tf.cast(tensor, dtype=tf.uint8)"
      ],
      "metadata": {
        "colab": {
          "base_uri": "https://localhost:8080/"
        },
        "id": "-00RLiBxlNJD",
        "outputId": "f5d1c896-3e47-444f-e1a9-e598e6388ab1"
      },
      "execution_count": null,
      "outputs": [
        {
          "output_type": "execute_result",
          "data": {
            "text/plain": [
              "<tf.Tensor: shape=(3,), dtype=uint8, numpy=array([11, 22, 33], dtype=uint8)>"
            ]
          },
          "metadata": {},
          "execution_count": 12
        }
      ]
    },
    {
      "cell_type": "markdown",
      "source": [
        "# Tensor 안의 Numpy array 꺼내는 방법\n",
        "- 방법1 : **.numpy()**\n",
        "- 방법2 : **np.array()**\n"
      ],
      "metadata": {
        "id": "2DrZxaMnnDxL"
      }
    },
    {
      "cell_type": "code",
      "source": [
        "tensor.numpy()"
      ],
      "metadata": {
        "colab": {
          "base_uri": "https://localhost:8080/"
        },
        "id": "o24FFlg6lNFq",
        "outputId": "f46ecbd7-af7a-4994-f20c-fb6fc6b00f14"
      },
      "execution_count": null,
      "outputs": [
        {
          "output_type": "execute_result",
          "data": {
            "text/plain": [
              "array([11., 22., 33.], dtype=float32)"
            ]
          },
          "metadata": {},
          "execution_count": 13
        }
      ]
    },
    {
      "cell_type": "code",
      "source": [
        "np.array(tensor)"
      ],
      "metadata": {
        "colab": {
          "base_uri": "https://localhost:8080/"
        },
        "id": "oZjGZZTalNCT",
        "outputId": "bb72a6f8-9445-4ea2-b41f-2211877c8e8f"
      },
      "execution_count": null,
      "outputs": [
        {
          "output_type": "execute_result",
          "data": {
            "text/plain": [
              "array([11., 22., 33.], dtype=float32)"
            ]
          },
          "metadata": {},
          "execution_count": 14
        }
      ]
    },
    {
      "cell_type": "markdown",
      "source": [
        "# 난수 생성\n",
        "\n",
        "Numpy 에서도 'normal 혹은 uniform distribution' 으로 랜덤 데이터를 생성가능했다.\n",
        "\n",
        "TensorFlow 도 `tf.random.uniform` 혹은 `tf.random.normal` 로 생성 가능\n",
        "\n"
      ],
      "metadata": {
        "id": "HbPrZHjanQlz"
      }
    },
    {
      "cell_type": "code",
      "source": [
        "tf.random.normal([9])"
      ],
      "metadata": {
        "colab": {
          "base_uri": "https://localhost:8080/"
        },
        "id": "P79f6TdClM-2",
        "outputId": "9624c308-dc5b-41c5-bf9e-39e7c71ec5c1"
      },
      "execution_count": null,
      "outputs": [
        {
          "output_type": "execute_result",
          "data": {
            "text/plain": [
              "<tf.Tensor: shape=(9,), dtype=float32, numpy=\n",
              "array([-1.4659086 , -1.5129033 ,  0.4935078 , -0.7510512 , -0.7190493 ,\n",
              "       -1.7329754 ,  1.4954146 , -0.6185145 ,  0.36272982], dtype=float32)>"
            ]
          },
          "metadata": {},
          "execution_count": 15
        }
      ]
    },
    {
      "cell_type": "code",
      "source": [
        "tf.random.normal([3, 3])"
      ],
      "metadata": {
        "colab": {
          "base_uri": "https://localhost:8080/"
        },
        "id": "aVezcbpzlM7e",
        "outputId": "797e6ae1-ee36-4461-a5b5-29533a26862f"
      },
      "execution_count": null,
      "outputs": [
        {
          "output_type": "execute_result",
          "data": {
            "text/plain": [
              "<tf.Tensor: shape=(3, 3), dtype=float32, numpy=\n",
              "array([[ 0.40441856,  0.51535374, -0.13145274],\n",
              "       [ 1.4024315 , -0.03157736, -0.65709245],\n",
              "       [ 0.35583085,  0.71289146, -0.75816774]], dtype=float32)>"
            ]
          },
          "metadata": {},
          "execution_count": 16
        }
      ]
    },
    {
      "cell_type": "code",
      "source": [
        "tf.random.uniform([3, 3])"
      ],
      "metadata": {
        "colab": {
          "base_uri": "https://localhost:8080/"
        },
        "id": "VcCXvncdlM4K",
        "outputId": "571a0198-454d-48c8-fdb1-d6427c015184"
      },
      "execution_count": null,
      "outputs": [
        {
          "output_type": "execute_result",
          "data": {
            "text/plain": [
              "<tf.Tensor: shape=(3, 3), dtype=float32, numpy=\n",
              "array([[0.9140277 , 0.8576336 , 0.8390994 ],\n",
              "       [0.67102766, 0.33092785, 0.4830736 ],\n",
              "       [0.31561303, 0.6073779 , 0.38328886]], dtype=float32)>"
            ]
          },
          "metadata": {},
          "execution_count": 17
        }
      ]
    },
    {
      "cell_type": "code",
      "source": [
        "tf.random.set_seed(42)\n",
        "tf.random.normal([9])"
      ],
      "metadata": {
        "colab": {
          "base_uri": "https://localhost:8080/"
        },
        "id": "stD55VLflM0u",
        "outputId": "c77c4458-1615-4863-a5d3-8e88cbfd3be3"
      },
      "execution_count": null,
      "outputs": [
        {
          "output_type": "execute_result",
          "data": {
            "text/plain": [
              "<tf.Tensor: shape=(9,), dtype=float32, numpy=\n",
              "array([ 0.3274685, -0.8426258,  0.3194337, -1.4075519, -2.3880599,\n",
              "       -1.0392479, -0.5573232,  0.539707 ,  1.6994323], dtype=float32)>"
            ]
          },
          "metadata": {},
          "execution_count": 18
        }
      ]
    },
    {
      "cell_type": "markdown",
      "source": [
        "# expand_dims(), tf.newaxis\n",
        "- 차원추가\n",
        "- 주로 사용되는 경우\n",
        "  - batch dimension 등을 맞출때\n",
        "  - boradcating: 계산하기 전에 맞춰야할 때"
      ],
      "metadata": {
        "id": "SKnelA8uoEJx"
      }
    },
    {
      "cell_type": "code",
      "source": [
        "x = tf.constant([1,2,3,4])\n",
        "x #(4,)"
      ],
      "metadata": {
        "colab": {
          "base_uri": "https://localhost:8080/"
        },
        "id": "uL2UjFS3oL_p",
        "outputId": "36af7c47-4c04-4c83-fcad-3e0a12ad3f52"
      },
      "execution_count": null,
      "outputs": [
        {
          "output_type": "execute_result",
          "data": {
            "text/plain": [
              "<tf.Tensor: shape=(4,), dtype=int32, numpy=array([1, 2, 3, 4], dtype=int32)>"
            ]
          },
          "metadata": {},
          "execution_count": 19
        }
      ]
    },
    {
      "cell_type": "code",
      "source": [
        "tf.expand_dims(x, axis=0) # (4,) -> (1,4)"
      ],
      "metadata": {
        "colab": {
          "base_uri": "https://localhost:8080/"
        },
        "id": "RSUtzglioPVf",
        "outputId": "7b708f1e-bc92-4489-adb9-7577eec471e7"
      },
      "execution_count": null,
      "outputs": [
        {
          "output_type": "execute_result",
          "data": {
            "text/plain": [
              "<tf.Tensor: shape=(1, 4), dtype=int32, numpy=array([[1, 2, 3, 4]], dtype=int32)>"
            ]
          },
          "metadata": {},
          "execution_count": 20
        }
      ]
    },
    {
      "cell_type": "code",
      "source": [
        "tf.expand_dims(x, axis=1) # (4,) -> (4,1)"
      ],
      "metadata": {
        "colab": {
          "base_uri": "https://localhost:8080/"
        },
        "id": "oQoHqlE6oeLb",
        "outputId": "280b0b96-e0bc-4652-adff-7319261e4e86"
      },
      "execution_count": null,
      "outputs": [
        {
          "output_type": "execute_result",
          "data": {
            "text/plain": [
              "<tf.Tensor: shape=(4, 1), dtype=int32, numpy=\n",
              "array([[1],\n",
              "       [2],\n",
              "       [3],\n",
              "       [4]], dtype=int32)>"
            ]
          },
          "metadata": {},
          "execution_count": 21
        }
      ]
    },
    {
      "cell_type": "code",
      "source": [
        "x[tf.newaxis, :]"
      ],
      "metadata": {
        "colab": {
          "base_uri": "https://localhost:8080/"
        },
        "id": "Gc5mChEZol-a",
        "outputId": "ad2318ab-6753-4396-e1f1-98bd8c4da6bc"
      },
      "execution_count": null,
      "outputs": [
        {
          "output_type": "execute_result",
          "data": {
            "text/plain": [
              "<tf.Tensor: shape=(1, 4), dtype=int32, numpy=array([[1, 2, 3, 4]], dtype=int32)>"
            ]
          },
          "metadata": {},
          "execution_count": 22
        }
      ]
    },
    {
      "cell_type": "code",
      "source": [
        "x[tf.newaxis, :, tf.newaxis] #(4,) -> (1, 4, 1)"
      ],
      "metadata": {
        "colab": {
          "base_uri": "https://localhost:8080/"
        },
        "id": "y8nkAEhaoL3A",
        "outputId": "69320102-15ab-43dd-92cb-19b144f56308"
      },
      "execution_count": null,
      "outputs": [
        {
          "output_type": "execute_result",
          "data": {
            "text/plain": [
              "<tf.Tensor: shape=(1, 4, 1), dtype=int32, numpy=\n",
              "array([[[1],\n",
              "        [2],\n",
              "        [3],\n",
              "        [4]]], dtype=int32)>"
            ]
          },
          "metadata": {},
          "execution_count": 23
        }
      ]
    },
    {
      "cell_type": "markdown",
      "source": [
        "# ■ KerasTensor (Keras symbolic tensor)\n",
        "\n",
        "- Keras에서 모델을 구성할 때 사용하는 **symbolic tensor**입니다.\n",
        "\n",
        "- `Input()`이나 Functional API로 모델을 구성할 때 내부적으로 사용됩니다.\n",
        "\n",
        "- 아직 실제 값이 존재하지 않고, **모델의 입력/출력 구조**를 정의하기 위한 **placeholder 역할**을 합니다.\n",
        "- 연산은 가능하지만, **실제로 값을 가지고 있는 게 아니라 연산의 \"흐름\"을 정의**한다\n"
      ],
      "metadata": {
        "id": "eE1YuL7Jn_3T"
      }
    },
    {
      "cell_type": "code",
      "source": [
        "x = keras.layers.Input(shape=(32,))\n",
        "print(type(x))"
      ],
      "metadata": {
        "colab": {
          "base_uri": "https://localhost:8080/"
        },
        "id": "Zz1ccGC1oBHy",
        "outputId": "58e15a34-fa72-4a0a-f09b-bbb38608e954"
      },
      "execution_count": null,
      "outputs": [
        {
          "output_type": "stream",
          "name": "stdout",
          "text": [
            "<class 'keras.src.backend.common.keras_tensor.KerasTensor'>\n"
          ]
        }
      ]
    },
    {
      "cell_type": "markdown",
      "source": [
        "## ⚠️ 사용 시 주의할 점\n",
        "\n",
        "| 상황 | 주의할 점 |\n",
        "|------|------------|\n",
        "| `KerasTensor`를 사용할 때 | 일반 `TensorFlow` 연산을 막 사용하면 안 됩니다. Keras API (layers, models 등)로 처리해야 합니다. |\n",
        "| `tf.function`과 함께 사용할 때 | `KerasTensor`는 그래프 외부에서 바로 사용할 수 없습니다. 오류 발생 가능성이 큼. |\n",
        "| 값이 필요한 연산 (`numpy()`, `eval()`) | `KerasTensor`에서는 사용할 수 없습니다. 이는 실제 값이 없기 때문입니다. |\n",
        "| 디버깅 | `KerasTensor`는 값을 출력할 수 없기 때문에 디버깅이 어려울 수 있습니다. 중간 값을 보기 위해선 Functional API 흐름 내에서 중간 출력을 모델로 만들어 확인해야 합니다. |\n",
        "\n",
        "---\n",
        "\n",
        "## ✅ 비교 요약\n",
        "\n",
        "| 항목 | `tf.Tensor` | `KerasTensor` |\n",
        "|------|-------------|---------------|\n",
        "| 정의 | 실제 값이 있는 텐서 | 모델 구성 시 사용하는 symbolic 텐서 |\n",
        "| 생성 | `tf.constant`, 연산 결과 등 | `Input()` 또는 layer 호출 결과 |\n",
        "| 용도 | 연산, 모델 학습, 추론 등 | 모델 아키텍처 구성용 |\n",
        "| 실제 값 여부 | 있음 | 없음 |\n",
        "| 사용 제한 | 거의 없음 | Keras에서만 유효한 API로 사용해야 함 |\n"
      ],
      "metadata": {
        "id": "FjpwRpxop3Ax"
      }
    },
    {
      "cell_type": "markdown",
      "source": [
        "# CNN Layer"
      ],
      "metadata": {
        "id": "-b_LirOJqUSW"
      }
    },
    {
      "cell_type": "code",
      "source": [
        "(train_x, train_y), (text_x, test_y) = keras.datasets.fashion_mnist.load_data()"
      ],
      "metadata": {
        "colab": {
          "base_uri": "https://localhost:8080/"
        },
        "id": "x6_a1tk1oBEq",
        "outputId": "2ca6ee8a-530f-4389-d13c-371b7b7e7951"
      },
      "execution_count": null,
      "outputs": [
        {
          "output_type": "stream",
          "name": "stdout",
          "text": [
            "Downloading data from https://storage.googleapis.com/tensorflow/tf-keras-datasets/train-labels-idx1-ubyte.gz\n",
            "\u001b[1m29515/29515\u001b[0m \u001b[32m━━━━━━━━━━━━━━━━━━━━\u001b[0m\u001b[37m\u001b[0m \u001b[1m0s\u001b[0m 0us/step\n",
            "Downloading data from https://storage.googleapis.com/tensorflow/tf-keras-datasets/train-images-idx3-ubyte.gz\n",
            "\u001b[1m26421880/26421880\u001b[0m \u001b[32m━━━━━━━━━━━━━━━━━━━━\u001b[0m\u001b[37m\u001b[0m \u001b[1m1s\u001b[0m 0us/step\n",
            "Downloading data from https://storage.googleapis.com/tensorflow/tf-keras-datasets/t10k-labels-idx1-ubyte.gz\n",
            "\u001b[1m5148/5148\u001b[0m \u001b[32m━━━━━━━━━━━━━━━━━━━━\u001b[0m\u001b[37m\u001b[0m \u001b[1m0s\u001b[0m 1us/step\n",
            "Downloading data from https://storage.googleapis.com/tensorflow/tf-keras-datasets/t10k-images-idx3-ubyte.gz\n",
            "\u001b[1m4422102/4422102\u001b[0m \u001b[32m━━━━━━━━━━━━━━━━━━━━\u001b[0m\u001b[37m\u001b[0m \u001b[1m0s\u001b[0m 0us/step\n"
          ]
        }
      ]
    },
    {
      "cell_type": "code",
      "source": [
        "train_x.shape"
      ],
      "metadata": {
        "colab": {
          "base_uri": "https://localhost:8080/"
        },
        "id": "tUVnwO3ulMxi",
        "outputId": "8f332058-0a5e-40d0-a86d-e14a61a3fd5d"
      },
      "execution_count": null,
      "outputs": [
        {
          "output_type": "execute_result",
          "data": {
            "text/plain": [
              "(60000, 28, 28)"
            ]
          },
          "metadata": {},
          "execution_count": 26
        }
      ]
    },
    {
      "cell_type": "code",
      "source": [
        "# 샘플하나\n",
        "image = train_x[0]\n",
        "image.shape"
      ],
      "metadata": {
        "colab": {
          "base_uri": "https://localhost:8080/"
        },
        "id": "lpq39ZEflMuP",
        "outputId": "15d30be0-c8a2-45b1-82ec-f55ded74c0e2"
      },
      "execution_count": null,
      "outputs": [
        {
          "output_type": "execute_result",
          "data": {
            "text/plain": [
              "(28, 28)"
            ]
          },
          "metadata": {},
          "execution_count": 27
        }
      ]
    },
    {
      "cell_type": "code",
      "source": [
        "plt.imshow(image, 'gray')\n",
        "plt.show()"
      ],
      "metadata": {
        "colab": {
          "base_uri": "https://localhost:8080/",
          "height": 430
        },
        "id": "-O06j6lilMqr",
        "outputId": "c6f3e508-dac0-4278-b73d-e4f48395d38d"
      },
      "execution_count": null,
      "outputs": [
        {
          "output_type": "display_data",
          "data": {
            "text/plain": [
              "<Figure size 640x480 with 1 Axes>"
            ],
            "image/png": "[encoded data removed]"
          },
          "metadata": {}
        }
      ]
    },
    {
      "cell_type": "code",
      "source": [
        "# (28, 28) -> (1, 28, 28, 1)\n",
        "image = image[tf.newaxis, ..., tf.newaxis]\n",
        "image.shape"
      ],
      "metadata": {
        "colab": {
          "base_uri": "https://localhost:8080/"
        },
        "id": "vzWuXpCGlMnN",
        "outputId": "a831da3d-5144-4a38-a0b0-035b9e7c1033"
      },
      "execution_count": null,
      "outputs": [
        {
          "output_type": "execute_result",
          "data": {
            "text/plain": [
              "(1, 28, 28, 1)"
            ]
          },
          "metadata": {},
          "execution_count": 29
        }
      ]
    },
    {
      "cell_type": "code",
      "source": [
        "image.dtype\n",
        "\n",
        "# int 타입을 모델에 넣으면 에러 난다"
      ],
      "metadata": {
        "colab": {
          "base_uri": "https://localhost:8080/"
        },
        "id": "zGFZhpw5lMj1",
        "outputId": "b48e7aef-e26e-4fb9-9440-61ecde85fa99"
      },
      "execution_count": null,
      "outputs": [
        {
          "output_type": "execute_result",
          "data": {
            "text/plain": [
              "dtype('uint8')"
            ]
          },
          "metadata": {},
          "execution_count": 30
        }
      ]
    },
    {
      "cell_type": "code",
      "source": [
        "image = tf.cast(image, dtype=tf.float32)\n",
        "image.dtype"
      ],
      "metadata": {
        "colab": {
          "base_uri": "https://localhost:8080/"
        },
        "id": "Gm_2RkTYlMgo",
        "outputId": "6c700ee4-2728-49d5-cd93-87cff9f80213"
      },
      "execution_count": null,
      "outputs": [
        {
          "output_type": "execute_result",
          "data": {
            "text/plain": [
              "tf.float32"
            ]
          },
          "metadata": {},
          "execution_count": 31
        }
      ]
    },
    {
      "cell_type": "markdown",
      "source": [
        "# Conv2D layer"
      ],
      "metadata": {
        "id": "Ds4Uz7-5rPb9"
      }
    },
    {
      "cell_type": "code",
      "source": [
        "conv_layer = tf.keras.layers.Conv2D(3, 3, 1, padding='same')"
      ],
      "metadata": {
        "id": "PRVNDeXNrIFE"
      },
      "execution_count": null,
      "outputs": []
    },
    {
      "cell_type": "code",
      "source": [
        "# image 를 레이어에 넣어주고 output 을 확인해볼수 있다!\n",
        "conv_output = conv_layer(image)  # 입력 (1, 28, 28, 1) => 출력 (1, 28, 28, 3)\n",
        "\n",
        "conv_output.shape"
      ],
      "metadata": {
        "colab": {
          "base_uri": "https://localhost:8080/"
        },
        "id": "3SgQDGtNragX",
        "outputId": "8c4af52e-de19-4642-e4ea-44ae03148844"
      },
      "execution_count": null,
      "outputs": [
        {
          "output_type": "execute_result",
          "data": {
            "text/plain": [
              "TensorShape([1, 28, 28, 3])"
            ]
          },
          "metadata": {},
          "execution_count": 33
        }
      ]
    },
    {
      "cell_type": "code",
      "source": [
        "conv_layer = tf.keras.layers.Conv2D(5, 3, 1, padding='VALID')\n",
        "conv_output = conv_layer(image)  # 입력 (1, 28, 28, 1) => ()\n",
        "\n",
        "conv_output.shape"
      ],
      "metadata": {
        "id": "eR1rPMnYpqJw",
        "colab": {
          "base_uri": "https://localhost:8080/"
        },
        "outputId": "38ca5406-7d0c-474a-af42-634e063cf886"
      },
      "execution_count": null,
      "outputs": [
        {
          "output_type": "execute_result",
          "data": {
            "text/plain": [
              "TensorShape([1, 26, 26, 5])"
            ]
          },
          "metadata": {},
          "execution_count": 34
        }
      ]
    },
    {
      "cell_type": "code",
      "source": [
        "# 첫번째 채널만 시각화 해보자\n",
        "plt.imshow(conv_output[0, :, :, 0], 'gray')\n",
        "plt.show() # 합성곱 한 결과"
      ],
      "metadata": {
        "colab": {
          "base_uri": "https://localhost:8080/",
          "height": 430
        },
        "id": "n4qn6vwblLof",
        "outputId": "25aa3da1-14c8-4276-87e8-251fb3ed9f52"
      },
      "execution_count": null,
      "outputs": [
        {
          "output_type": "display_data",
          "data": {
            "text/plain": [
              "<Figure size 640x480 with 1 Axes>"
            ],
            "image/png": "[encoded data removed]"
          },
          "metadata": {}
        }
      ]
    },
    {
      "cell_type": "code",
      "source": [
        "# 원본 이미지와 비교\n",
        "plt.subplot(1, 2, 1)\n",
        "plt.imshow(image[0, :, :, 0], 'gray')\n",
        "\n",
        "plt.subplot(1, 2, 2)\n",
        "plt.imshow(conv_output[0, :, :, 0], 'gray')\n",
        "\n",
        "plt.show()\n"
      ],
      "metadata": {
        "colab": {
          "base_uri": "https://localhost:8080/",
          "height": 287
        },
        "id": "uyhpviTwlLlD",
        "outputId": "9114a146-e540-412c-f4fb-da56556c1094"
      },
      "execution_count": null,
      "outputs": [
        {
          "output_type": "display_data",
          "data": {
            "text/plain": [
              "<Figure size 640x480 with 2 Axes>"
            ],
            "image/png": "[encoded data removed]"
          },
          "metadata": {}
        }
      ]
    },
    {
      "cell_type": "code",
      "source": [
        "# 원본 이미지 값의 범위\n",
        "np.min(image), np.max(image)"
      ],
      "metadata": {
        "colab": {
          "base_uri": "https://localhost:8080/"
        },
        "id": "5vCft8GglLiG",
        "outputId": "1a1c3814-7b1d-478e-e6e3-c9c141c18dc1"
      },
      "execution_count": null,
      "outputs": [
        {
          "output_type": "execute_result",
          "data": {
            "text/plain": [
              "(np.float32(0.0), np.float32(255.0))"
            ]
          },
          "metadata": {},
          "execution_count": 37
        }
      ]
    },
    {
      "cell_type": "code",
      "source": [
        "# Conv2D 를 거치면서 변한 값들\n",
        "np.min(conv_output), np.max(conv_output)"
      ],
      "metadata": {
        "colab": {
          "base_uri": "https://localhost:8080/"
        },
        "id": "5HV-YmLZlLe6",
        "outputId": "f92f3d54-e2d0-4b41-9941-0fd1fe30b7cc"
      },
      "execution_count": null,
      "outputs": [
        {
          "output_type": "execute_result",
          "data": {
            "text/plain": [
              "(np.float32(-191.84895), np.float32(231.84709))"
            ]
          },
          "metadata": {},
          "execution_count": 38
        }
      ]
    },
    {
      "cell_type": "markdown",
      "source": [
        "## layer 의 get_weights()"
      ],
      "metadata": {
        "id": "vgMNa-VptLu3"
      }
    },
    {
      "cell_type": "code",
      "source": [
        "weights = conv_layer.get_weights() # array 2개가 담긴 list 리턴\n",
        "print(weights[0].shape, weights[1].shape)\n",
        "\n",
        "# [0] 번째는 weight -> (3, 3, 1, 5) (kernel_h, kernel_w, input_channel, filter개수)\n",
        "# [1] 번째는 bias -> (5,) (filter 개수)\n",
        "\n",
        "weights"
      ],
      "metadata": {
        "colab": {
          "base_uri": "https://localhost:8080/"
        },
        "id": "t1NUtFM6lLbn",
        "outputId": "6367da9b-8d1f-4e1e-a463-381193b9cfd2"
      },
      "execution_count": null,
      "outputs": [
        {
          "output_type": "stream",
          "name": "stdout",
          "text": [
            "(3, 3, 1, 5) (5,)\n"
          ]
        },
        {
          "output_type": "execute_result",
          "data": {
            "text/plain": [
              "[array([[[[ 0.30609575,  0.12825647, -0.01352978, -0.22838275,\n",
              "           -0.31695843]],\n",
              " \n",
              "         [[ 0.1894733 ,  0.05399331,  0.15931273,  0.13277626,\n",
              "           -0.16129097]],\n",
              " \n",
              "         [[ 0.0685339 ,  0.13793817,  0.24178723, -0.32672223,\n",
              "            0.05463061]]],\n",
              " \n",
              " \n",
              "        [[[ 0.02771869,  0.26241216, -0.25948238,  0.22789416,\n",
              "            0.15593705]],\n",
              " \n",
              "         [[-0.09241423, -0.26111245, -0.0809598 , -0.10126337,\n",
              "           -0.12589233]],\n",
              " \n",
              "         [[ 0.22681126,  0.17946705, -0.2376492 ,  0.2975286 ,\n",
              "           -0.2978708 ]]],\n",
              " \n",
              " \n",
              "        [[[-0.0831767 ,  0.17112479,  0.11096755, -0.31525645,\n",
              "            0.2968903 ]],\n",
              " \n",
              "         [[-0.26327056,  0.2686024 , -0.16977724, -0.2015187 ,\n",
              "            0.04298982]],\n",
              " \n",
              "         [[-0.2978763 , -0.1086344 , -0.29355368,  0.13650784,\n",
              "           -0.13989544]]]], dtype=float32),\n",
              " array([0., 0., 0., 0., 0.], dtype=float32)]"
            ]
          },
          "metadata": {},
          "execution_count": 39
        }
      ]
    },
    {
      "cell_type": "code",
      "source": [
        "# layer의 param 개수\n",
        "weights[0].size + weights[1].size"
      ],
      "metadata": {
        "colab": {
          "base_uri": "https://localhost:8080/"
        },
        "id": "4r_Ts-jhuADy",
        "outputId": "3cc5a529-07ad-49e0-f230-6bb5bba8a0df"
      },
      "execution_count": null,
      "outputs": [
        {
          "output_type": "execute_result",
          "data": {
            "text/plain": [
              "50"
            ]
          },
          "metadata": {},
          "execution_count": 40
        }
      ]
    },
    {
      "cell_type": "code",
      "source": [
        "# 시각화\n",
        "#  1. 이미지 히스토그램,   2. filter    3 output\n",
        "\n",
        "plt.figure(figsize=(15, 5))\n",
        "\n",
        "plt.subplot(131)\n",
        "plt.hist(conv_output.numpy().ravel())\n",
        "\n",
        "plt.subplot(132)\n",
        "plt.title(weights[0].shape)\n",
        "plt.imshow(weights[0][:, :, 0, 0], 'gray')\n",
        "\n",
        "plt.subplot(133)\n",
        "plt.title(conv_output.shape)  # (1, 26, 26, 5)\n",
        "plt.imshow(conv_output[0, :, :, 0], 'gray')\n",
        "plt.colorbar()\n",
        "\n",
        "plt.show()"
      ],
      "metadata": {
        "colab": {
          "base_uri": "https://localhost:8080/",
          "height": 236
        },
        "id": "DkekzcwjuAAx",
        "outputId": "ac338b9d-50b4-4786-b825-42a39dbb8ffe"
      },
      "execution_count": null,
      "outputs": [
        {
          "output_type": "display_data",
          "data": {
            "text/plain": [
              "<Figure size 1500x500 with 4 Axes>"
            ],
            "image/png": "[encoded data removed]"
          },
          "metadata": {}
        }
      ]
    },
    {
      "cell_type": "markdown",
      "source": [
        "# ReLU 레이어\n",
        "![](https://blog.kakaocdn.net/dn/vgJna/btqQzRGmwcO/TK3KTMlz4CYag8rBTKfYkK/img.png)\n"
      ],
      "metadata": {
        "id": "XCNFtU12vIEz"
      }
    },
    {
      "cell_type": "code",
      "source": [
        "act_layer = tf.keras.layers.ReLU()\n",
        "act_output = act_layer(conv_output)\n",
        "\n",
        "print(act_output.shape) #(1, 26, 26, 5) shape 변화 없다\n",
        "\n",
        "act_output # 음수값은 안보일거다"
      ],
      "metadata": {
        "colab": {
          "base_uri": "https://localhost:8080/"
        },
        "id": "zLY9jcbSt_9o",
        "outputId": "21f87ac9-bf2f-456e-9767-78ae78f4d2a6"
      },
      "execution_count": null,
      "outputs": [
        {
          "output_type": "stream",
          "name": "stdout",
          "text": [
            "(1, 26, 26, 5)\n"
          ]
        },
        {
          "output_type": "execute_result",
          "data": {
            "text/plain": [
              "<tf.Tensor: shape=(1, 26, 26, 5), dtype=float32, numpy=\n",
              "array([[[[  0.        ,   0.        ,   0.        ,   0.        ,\n",
              "            0.        ],\n",
              "         [  0.        ,   0.        ,   0.        ,   0.        ,\n",
              "            0.        ],\n",
              "         [  0.        ,   0.        ,   0.        ,   0.        ,\n",
              "            0.        ],\n",
              "         ...,\n",
              "         [  0.        ,   0.        ,   0.        ,   0.        ,\n",
              "            0.        ],\n",
              "         [  0.        ,   0.        ,   0.        ,   0.        ,\n",
              "            0.        ],\n",
              "         [  0.        ,   0.        ,   0.        ,   0.        ,\n",
              "            0.        ]],\n",
              "\n",
              "        [[  0.        ,   0.        ,   0.        ,   0.        ,\n",
              "            0.        ],\n",
              "         [  0.        ,   0.        ,   0.        ,   0.        ,\n",
              "            0.        ],\n",
              "         [  0.        ,   0.        ,   0.        ,   0.        ,\n",
              "            0.        ],\n",
              "         ...,\n",
              "         [  0.        ,   0.        ,   0.        ,   0.13650784,\n",
              "            0.        ],\n",
              "         [  0.        ,   0.159968  ,   0.        ,   0.        ,\n",
              "            0.        ],\n",
              "         [  0.        ,   0.4397272 ,   0.        ,   0.        ,\n",
              "            0.3398801 ]],\n",
              "\n",
              "        [[  0.        ,   0.        ,   0.        ,   0.        ,\n",
              "            0.        ],\n",
              "         [  0.        ,   0.        ,   0.        ,   0.        ,\n",
              "            0.        ],\n",
              "         [  0.        ,   0.        ,   0.        ,   0.        ,\n",
              "            0.        ],\n",
              "         ...,\n",
              "         [  0.        ,   1.767251  ,   0.        ,   0.        ,\n",
              "            0.76475936],\n",
              "         [  0.        ,   0.6028538 ,   0.12526119,   0.        ,\n",
              "            0.76379806],\n",
              "         [  0.        ,   0.        ,   0.        ,   0.53615427,\n",
              "            0.        ]],\n",
              "\n",
              "        ...,\n",
              "\n",
              "        [[  5.126946  ,  10.732249  ,  17.37329   ,   0.        ,\n",
              "            4.354539  ],\n",
              "         [ 26.97393   ,  30.065819  ,  57.486927  ,   0.        ,\n",
              "            0.        ],\n",
              "         [ 87.960266  ,  60.783432  ,  64.682945  ,   0.        ,\n",
              "            0.        ],\n",
              "         ...,\n",
              "         [119.227554  ,  93.68732   ,  14.797596  ,   0.        ,\n",
              "            0.        ],\n",
              "         [108.73151   ,  70.57156   ,  42.533237  ,   0.        ,\n",
              "            0.        ],\n",
              "         [ 99.93483   ,  52.102165  ,   9.110754  ,   0.        ,\n",
              "            0.        ]],\n",
              "\n",
              "        [[  0.6121915 ,   0.25651294,   0.        ,   0.        ,\n",
              "            0.        ],\n",
              "         [  0.        ,   0.        ,   0.        ,   0.        ,\n",
              "            0.        ],\n",
              "         [  4.523237  ,   9.103919  ,  15.957957  ,   0.        ,\n",
              "            3.6056201 ],\n",
              "         ...,\n",
              "         [ 74.15691   ,  34.892838  ,  27.522615  ,   0.        ,\n",
              "            0.        ],\n",
              "         [ 41.29293   ,  15.829002  ,   7.90069   ,   0.        ,\n",
              "            0.        ],\n",
              "         [ 17.753553  ,   7.438875  ,   0.        ,   0.        ,\n",
              "            0.        ]],\n",
              "\n",
              "        [[  0.        ,   0.        ,   0.        ,   0.        ,\n",
              "            0.        ],\n",
              "         [  0.        ,   0.        ,   0.        ,   0.        ,\n",
              "            0.        ],\n",
              "         [  0.        ,   0.        ,   0.        ,   0.        ,\n",
              "            0.        ],\n",
              "         ...,\n",
              "         [  0.        ,   0.        ,   0.        ,   0.        ,\n",
              "            0.        ],\n",
              "         [  0.        ,   0.        ,   0.        ,   0.        ,\n",
              "            0.        ],\n",
              "         [  0.        ,   0.        ,   0.        ,   0.        ,\n",
              "            0.        ]]]], dtype=float32)>"
            ]
          },
          "metadata": {},
          "execution_count": 42
        }
      ]
    },
    {
      "cell_type": "code",
      "source": [
        "# 0 미만의 값들은 0으로 바뀌었다!\n",
        "np.min(act_output), np.max(act_output)"
      ],
      "metadata": {
        "colab": {
          "base_uri": "https://localhost:8080/"
        },
        "id": "iqudecBat_6r",
        "outputId": "2f35e93b-e041-4b8e-cdf0-1cc8cef45269"
      },
      "execution_count": null,
      "outputs": [
        {
          "output_type": "execute_result",
          "data": {
            "text/plain": [
              "(np.float32(0.0), np.float32(231.84709))"
            ]
          },
          "metadata": {},
          "execution_count": 43
        }
      ]
    },
    {
      "cell_type": "code",
      "source": [
        "# 시각화\n",
        "#  1. 이미지 히스토그램,   3 output\n",
        "\n",
        "plt.figure(figsize=(15, 5))\n",
        "\n",
        "# 1 히스토그램\n",
        "plt.subplot(121)\n",
        "plt.hist(act_output.numpy().ravel())\n",
        "\n",
        "# 3 act_output\n",
        "plt.subplot(122)\n",
        "plt.title(act_output.shape)  # (1, 28, 28, 5)\n",
        "plt.imshow(act_output[0, :, :, 0], 'gray')\n",
        "plt.colorbar()\n",
        "\n",
        "plt.show()\n"
      ],
      "metadata": {
        "colab": {
          "base_uri": "https://localhost:8080/",
          "height": 253
        },
        "id": "ALsmCcBtt_3u",
        "outputId": "ba69dee6-e613-4d73-b9ac-5027f3c26c70"
      },
      "execution_count": null,
      "outputs": [
        {
          "output_type": "display_data",
          "data": {
            "text/plain": [
              "<Figure size 1500x500 with 3 Axes>"
            ],
            "image/png": "[encoded data removed]"
          },
          "metadata": {}
        }
      ]
    },
    {
      "cell_type": "markdown",
      "source": [
        "# MaxPool2D 레이어"
      ],
      "metadata": {
        "id": "w90vE2RR6qUg"
      }
    },
    {
      "cell_type": "code",
      "source": [
        "pool_layer = tf.keras.layers.MaxPool2D(pool_size=(2,2))\n",
        "\n",
        "pool_output = pool_layer(act_output) # (1, 13, 13, 5) <- (1, 26, 26, 5)\n",
        "print(pool_output.shape)"
      ],
      "metadata": {
        "colab": {
          "base_uri": "https://localhost:8080/"
        },
        "id": "mwOz1E5R6KcO",
        "outputId": "8006013c-f7de-4745-9d91-f14558ea8c30"
      },
      "execution_count": null,
      "outputs": [
        {
          "output_type": "stream",
          "name": "stdout",
          "text": [
            "(1, 13, 13, 5)\n"
          ]
        }
      ]
    },
    {
      "cell_type": "code",
      "source": [
        "# 시각화\n",
        "#  1. 이미지 히스토그램,   3 output\n",
        "\n",
        "plt.figure(figsize=(15, 5))\n",
        "\n",
        "# 1 히스토그램\n",
        "plt.subplot(121)\n",
        "plt.hist(pool_output.numpy().ravel())\n",
        "\n",
        "# 3\n",
        "plt.subplot(122)\n",
        "plt.title(pool_output.shape)  # (1, 13, 13, 5)\n",
        "plt.imshow(pool_output[0, :, :, 0], 'gray')\n",
        "plt.colorbar()\n",
        "\n",
        "plt.show()\n"
      ],
      "metadata": {
        "colab": {
          "base_uri": "https://localhost:8080/",
          "height": 255
        },
        "id": "C9XGlH1N6KZP",
        "outputId": "bf9ebc7d-3bd2-4111-d06a-ca3ba9a3c95e"
      },
      "execution_count": null,
      "outputs": [
        {
          "output_type": "display_data",
          "data": {
            "text/plain": [
              "<Figure size 1500x500 with 3 Axes>"
            ],
            "image/png": "[encoded data removed]"
          },
          "metadata": {}
        }
      ]
    },
    {
      "cell_type": "markdown",
      "source": [
        "# Flattern 레이어"
      ],
      "metadata": {
        "id": "QLVSE2Q_7rNf"
      }
    },
    {
      "cell_type": "code",
      "source": [
        "flat_layer = tf.keras.layers.Flatten()\n",
        "\n",
        "flat_output = flat_layer(pool_output) # (1, 845) <- (1, 13, 13, 5)"
      ],
      "metadata": {
        "id": "MOGJS8MC6KV_"
      },
      "execution_count": null,
      "outputs": []
    },
    {
      "cell_type": "code",
      "source": [],
      "metadata": {
        "id": "PqQkufth6KSz"
      },
      "execution_count": null,
      "outputs": []
    },
    {
      "cell_type": "code",
      "source": [],
      "metadata": {
        "id": "JIocl41j6KPg"
      },
      "execution_count": null,
      "outputs": []
    },
    {
      "cell_type": "code",
      "source": [],
      "metadata": {
        "id": "HCXYXTcH6KMV"
      },
      "execution_count": null,
      "outputs": []
    },
    {
      "cell_type": "code",
      "source": [],
      "metadata": {
        "id": "nMyih-Ze6KJM"
      },
      "execution_count": null,
      "outputs": []
    },
    {
      "cell_type": "code",
      "source": [],
      "metadata": {
        "id": "-l33ixe76KGC"
      },
      "execution_count": null,
      "outputs": []
    },
    {
      "cell_type": "code",
      "source": [],
      "metadata": {
        "id": "shuqSxjY6KCu"
      },
      "execution_count": null,
      "outputs": []
    },
    {
      "cell_type": "code",
      "source": [],
      "metadata": {
        "id": "yeeowhjv6J_l"
      },
      "execution_count": null,
      "outputs": []
    },
    {
      "cell_type": "code",
      "source": [],
      "metadata": {
        "id": "m5OWCQcm6J8e"
      },
      "execution_count": null,
      "outputs": []
    },
    {
      "cell_type": "code",
      "source": [],
      "metadata": {
        "id": "y3kMlOzR6J5G"
      },
      "execution_count": null,
      "outputs": []
    },
    {
      "cell_type": "code",
      "source": [],
      "metadata": {
        "id": "CCwWnXMs6J1-"
      },
      "execution_count": null,
      "outputs": []
    },
    {
      "cell_type": "code",
      "source": [],
      "metadata": {
        "id": "nkedIXEV6Jyt"
      },
      "execution_count": null,
      "outputs": []
    },
    {
      "cell_type": "code",
      "source": [],
      "metadata": {
        "id": "At0SlryL6Jvm"
      },
      "execution_count": null,
      "outputs": []
    },
    {
      "cell_type": "code",
      "source": [],
      "metadata": {
        "id": "VImCB6b-6Jsd"
      },
      "execution_count": null,
      "outputs": []
    },
    {
      "cell_type": "code",
      "source": [],
      "metadata": {
        "id": "-yFhs0z_6JpW"
      },
      "execution_count": null,
      "outputs": []
    },
    {
      "cell_type": "code",
      "source": [],
      "metadata": {
        "id": "48N4ob6e6JmP"
      },
      "execution_count": null,
      "outputs": []
    },
    {
      "cell_type": "code",
      "source": [],
      "metadata": {
        "id": "1Rqxua5T6JjI"
      },
      "execution_count": null,
      "outputs": []
    },
    {
      "cell_type": "code",
      "source": [],
      "metadata": {
        "id": "2W21w8vU6JgA"
      },
      "execution_count": null,
      "outputs": []
    },
    {
      "cell_type": "code",
      "source": [],
      "metadata": {
        "id": "6yzoOqa46Jco"
      },
      "execution_count": null,
      "outputs": []
    },
    {
      "cell_type": "code",
      "source": [],
      "metadata": {
        "id": "Qr1QFLCa6JY7"
      },
      "execution_count": null,
      "outputs": []
    },
    {
      "cell_type": "code",
      "source": [],
      "metadata": {
        "id": "OHzGZf6f6JWC"
      },
      "execution_count": null,
      "outputs": []
    },
    {
      "cell_type": "code",
      "source": [],
      "metadata": {
        "id": "sqXhkyTc6JS9"
      },
      "execution_count": null,
      "outputs": []
    },
    {
      "cell_type": "code",
      "source": [],
      "metadata": {
        "id": "NTJ45d2u6JQH"
      },
      "execution_count": null,
      "outputs": []
    },
    {
      "cell_type": "code",
      "source": [],
      "metadata": {
        "id": "wzRk10Pe6JNM"
      },
      "execution_count": null,
      "outputs": []
    },
    {
      "cell_type": "code",
      "source": [],
      "metadata": {
        "id": "FNhJcVW36JJ_"
      },
      "execution_count": null,
      "outputs": []
    },
    {
      "cell_type": "code",
      "source": [],
      "metadata": {
        "id": "DDOEcMPMt_0h"
      },
      "execution_count": null,
      "outputs": []
    },
    {
      "cell_type": "code",
      "source": [],
      "metadata": {
        "id": "qVvJiz9clLYw"
      },
      "execution_count": null,
      "outputs": []
    },
    {
      "cell_type": "code",
      "source": [],
      "metadata": {
        "id": "F1h4X9JjlLVq"
      },
      "execution_count": null,
      "outputs": []
    },
    {
      "cell_type": "code",
      "execution_count": null,
      "metadata": {
        "id": "7xVIcLPolFrN"
      },
      "outputs": [],
      "source": []
    }
  ]
}